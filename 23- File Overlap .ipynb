{
 "cells": [
  {
   "cell_type": "code",
   "execution_count": 4,
   "metadata": {},
   "outputs": [
    {
     "name": "stdout",
     "output_type": "stream",
     "text": [
      "{7, 263, 139, 907, 13, 653, 397, 19, 23, 409, 31, 673, 293, 167, 937, 683, 563, 313, 193, 709, 331, 79, 863, 97, 739, 103, 487, 617, 109, 239, 367, 881, 761, 379, 383}\n"
     ]
    }
   ],
   "source": [
    "file1 = open(\"23pilk-1.txt\",'r')\n",
    "file2 = open(\"23plik-2.txt\",'r')\n",
    "table = [] \n",
    "line = file1.readline().strip()\n",
    "table.append(int(line))\n",
    "while line:\n",
    "    try:\n",
    "        line = file1.readline().strip()\n",
    "        table.append(int(line))\n",
    "    except ValueError:\n",
    "        pass\n",
    "\n",
    "table2 = []  \n",
    "line2= file2.readline().strip()\n",
    "table2.append(int(line2))\n",
    "while line2:\n",
    "    try:\n",
    "        line2 = file2.readline().strip()\n",
    "        table2.append(int(line2))\n",
    "    except ValueError:\n",
    "        pass\n",
    "\n",
    "    \n",
    "table = set(table)\n",
    "table2 = set(table2)\n",
    "table = table.intersection(table2)\n",
    "print(table)\n",
    "    \n",
    "file1.close()\n",
    "file2.close()"
   ]
  },
  {
   "cell_type": "code",
   "execution_count": null,
   "metadata": {},
   "outputs": [],
   "source": []
  }
 ],
 "metadata": {
  "kernelspec": {
   "display_name": "Python 3",
   "language": "python",
   "name": "python3"
  },
  "language_info": {
   "codemirror_mode": {
    "name": "ipython",
    "version": 3
   },
   "file_extension": ".py",
   "mimetype": "text/x-python",
   "name": "python",
   "nbconvert_exporter": "python",
   "pygments_lexer": "ipython3",
   "version": "3.6.5"
  }
 },
 "nbformat": 4,
 "nbformat_minor": 2
}
