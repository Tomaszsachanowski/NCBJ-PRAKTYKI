{
 "cells": [
  {
   "cell_type": "code",
   "execution_count": 3,
   "metadata": {},
   "outputs": [
    {
     "name": "stdout",
     "output_type": "stream",
     "text": [
      "5\n",
      "8\n"
     ]
    }
   ],
   "source": [
    "def Max_of_three(a,b,c):\n",
    "    if a > b:\n",
    "        if a > c:\n",
    "            return a\n",
    "        else:\n",
    "            return c\n",
    "    else:\n",
    "        if b > c:\n",
    "            return b\n",
    "        else:\n",
    "            return c\n",
    "#print(Max_of_three(1,2,3))\n",
    "#print(Max_of_three(1,3,2))\n",
    "#print(Max_of_three(2,1,3))\n",
    "#print(Max_of_three(2,3,1))\n",
    "#print(Max_of_three(3,2,1))\n",
    "#print(Max_of_three(3,1,2))\n",
    "#print(Max_of_three(2,2,3))\n",
    "\n",
    "def Max(arg1, *args):\n",
    "    maxim = arg1\n",
    "    for x in args:\n",
    "        if maxim < x:\n",
    "            maxim = x\n",
    "    return maxim\n",
    "print(Max(0,2,3,4,5))\n",
    "\n",
    "\n",
    "def Maximum(a,b,c):\n",
    "    return max(a,b,c)\n",
    "print (Maximum(2,3,8))"
   ]
  },
  {
   "cell_type": "code",
   "execution_count": null,
   "metadata": {},
   "outputs": [],
   "source": []
  },
  {
   "cell_type": "code",
   "execution_count": null,
   "metadata": {},
   "outputs": [],
   "source": []
  }
 ],
 "metadata": {
  "kernelspec": {
   "display_name": "Python 3",
   "language": "python",
   "name": "python3"
  },
  "language_info": {
   "codemirror_mode": {
    "name": "ipython",
    "version": 3
   },
   "file_extension": ".py",
   "mimetype": "text/x-python",
   "name": "python",
   "nbconvert_exporter": "python",
   "pygments_lexer": "ipython3",
   "version": "3.6.5"
  }
 },
 "nbformat": 4,
 "nbformat_minor": 2
}
