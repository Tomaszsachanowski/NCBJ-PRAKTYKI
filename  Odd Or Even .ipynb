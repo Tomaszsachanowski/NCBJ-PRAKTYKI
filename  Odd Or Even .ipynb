{
 "cells": [
  {
   "cell_type": "code",
   "execution_count": 1,
   "metadata": {},
   "outputs": [
    {
     "data": {
      "text/plain": [
       "2"
      ]
     },
     "execution_count": 1,
     "metadata": {},
     "output_type": "execute_result"
    }
   ],
   "source": [
    "5%3"
   ]
  },
  {
   "cell_type": "code",
   "execution_count": 2,
   "metadata": {},
   "outputs": [
    {
     "data": {
      "text/plain": [
       "0"
      ]
     },
     "execution_count": 2,
     "metadata": {},
     "output_type": "execute_result"
    }
   ],
   "source": [
    "6%3"
   ]
  },
  {
   "cell_type": "code",
   "execution_count": 3,
   "metadata": {},
   "outputs": [
    {
     "data": {
      "text/plain": [
       "1"
      ]
     },
     "execution_count": 3,
     "metadata": {},
     "output_type": "execute_result"
    }
   ],
   "source": [
    "7%3"
   ]
  },
  {
   "cell_type": "code",
   "execution_count": 7,
   "metadata": {},
   "outputs": [
    {
     "name": "stdout",
     "output_type": "stream",
     "text": [
      "Your age 3\n",
      "can only see rated PG movies\n"
     ]
    }
   ],
   "source": [
    "age = int(input(\"Your age \"))\n",
    "if age > 17:\n",
    "    print(\"can seea rated R movie\")\n",
    "elif age < 17 and age >12:\n",
    "    print(\"can see a rated PG- 13 movie\")\n",
    "else:\n",
    "        print(\"can only see rated PG movies\")"
   ]
  },
  {
   "cell_type": "code",
   "execution_count": 8,
   "metadata": {},
   "outputs": [
    {
     "name": "stdout",
     "output_type": "stream",
     "text": [
      "the wariable has the value 3\n"
     ]
    }
   ],
   "source": [
    "if age == 3:\n",
    "    print(\"the wariable has the value 3\")\n",
    "elif age != 3:\n",
    "    print(\"Variable does not have the value 3\")"
   ]
  },
  {
   "cell_type": "code",
   "execution_count": 14,
   "metadata": {},
   "outputs": [
    {
     "name": "stdout",
     "output_type": "stream",
     "text": [
      "0\n"
     ]
    }
   ],
   "source": [
    "repr(\"cops\")\n",
    "print(20%2)"
   ]
  },
  {
   "cell_type": "code",
   "execution_count": 23,
   "metadata": {},
   "outputs": [
    {
     "name": "stdout",
     "output_type": "stream",
     "text": [
      "Podaj liczbe20\n",
      "Ta liczba 20 jest parzysta\n",
      "Ta liczba 20 jest podzielna przez 4\n",
      "Podaj dzielnik 4\n",
      "Jest dzielnikiem\n"
     ]
    }
   ],
   "source": [
    "liczba = int(input(\"Podaj liczbe\"))\n",
    "if(liczba%2 == 0):\n",
    "    print(\"Ta liczba {} jest parzysta\".format(liczba))\n",
    "    if(liczba%4 == 0):\n",
    "        print(\"Ta liczba {} jest podzielna przez 4\".format(liczba))\n",
    "    else:\n",
    "        print(\"Ta liczba {} nie jest podzielna przez 4\".format(liczba))\n",
    "\n",
    "else:\n",
    "     print(\"Ta liczba {} nie jest parzysta\".format(liczba))\n",
    "\n",
    "\n",
    "        \n",
    "        \n",
    "        \n",
    "check = int(input(\"Podaj dzielnik \"))\n",
    "if(liczba%check == 0):\n",
    "    print(\"Jest dzielnikiem\")\n",
    "else:\n",
    "    print(\"Nie jest dzielnikiem\")"
   ]
  },
  {
   "cell_type": "code",
   "execution_count": null,
   "metadata": {},
   "outputs": [],
   "source": []
  },
  {
   "cell_type": "code",
   "execution_count": null,
   "metadata": {},
   "outputs": [],
   "source": []
  }
 ],
 "metadata": {
  "kernelspec": {
   "display_name": "Python 3",
   "language": "python",
   "name": "python3"
  },
  "language_info": {
   "codemirror_mode": {
    "name": "ipython",
    "version": 3
   },
   "file_extension": ".py",
   "mimetype": "text/x-python",
   "name": "python",
   "nbconvert_exporter": "python",
   "pygments_lexer": "ipython3",
   "version": "3.6.5"
  }
 },
 "nbformat": 4,
 "nbformat_minor": 2
}
