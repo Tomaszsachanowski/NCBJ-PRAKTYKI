{
 "cells": [
  {
   "cell_type": "code",
   "execution_count": 1,
   "metadata": {},
   "outputs": [
    {
     "name": "stdout",
     "output_type": "stream",
     "text": [
      "PODJA LICZBE22\n"
     ]
    },
    {
     "data": {
      "text/plain": [
       "22"
      ]
     },
     "execution_count": 1,
     "metadata": {},
     "output_type": "execute_result"
    }
   ],
   "source": [
    "def get_int():\n",
    "    return int(input(\"PODJA LICZBE \"))\n",
    "\n",
    "a = get_int()\n",
    "a"
   ]
  },
  {
   "cell_type": "code",
   "execution_count": 6,
   "metadata": {},
   "outputs": [
    {
     "name": "stdout",
     "output_type": "stream",
     "text": [
      "Tell me your age: 12\n",
      "What grade are you in? 21\n",
      "You are in grade 21\n"
     ]
    }
   ],
   "source": [
    "def get_integer(help_text):\n",
    "    return int(input(help_text))\n",
    "\n",
    "age = get_integer(\"Tell me your age Anna: \")\n",
    "school_year = get_integer(\"What grade are you in? \")\n",
    "if age > 15:\n",
    "    print(\"You are over the age of 15\")\n",
    "print(\"You are in grade \" + str(school_year))"
   ]
  },
  {
   "cell_type": "code",
   "execution_count": 13,
   "metadata": {},
   "outputs": [
    {
     "name": "stdout",
     "output_type": "stream",
     "text": [
      "Podaj liczbe3\n",
      "Liczba pierwsza\n",
      "[1, 3]\n"
     ]
    }
   ],
   "source": [
    "def liczba_pierwsza():\n",
    "    licz = int(input(\"Podaj liczbe\"))\n",
    "    x = [ z for z in range(1,licz+1) if licz%z == 0]\n",
    "    if len(x)>2:\n",
    "        print(\"liczba nie pierwsza\")\n",
    "        return x\n",
    "    else:\n",
    "        print(\"Liczba pierwsza\")\n",
    "        return x\n",
    "print(liczba_pierwsza())"
   ]
  },
  {
   "cell_type": "code",
   "execution_count": 14,
   "metadata": {},
   "outputs": [
    {
     "data": {
      "text/plain": [
       "[1, 3]"
      ]
     },
     "execution_count": 14,
     "metadata": {},
     "output_type": "execute_result"
    }
   ],
   "source": [
    "def list_end(x):\n",
    "    return [x[0],x[-1]]\n",
    "list_end([1,4,3])"
   ]
  },
  {
   "cell_type": "code",
   "execution_count": null,
   "metadata": {},
   "outputs": [],
   "source": []
  }
 ],
 "metadata": {
  "kernelspec": {
   "display_name": "Python 3",
   "language": "python",
   "name": "python3"
  },
  "language_info": {
   "codemirror_mode": {
    "name": "ipython",
    "version": 3
   },
   "file_extension": ".py",
   "mimetype": "text/x-python",
   "name": "python",
   "nbconvert_exporter": "python",
   "pygments_lexer": "ipython3",
   "version": "3.6.5"
  }
 },
 "nbformat": 4,
 "nbformat_minor": 2
}
