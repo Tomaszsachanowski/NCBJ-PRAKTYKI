{
 "cells": [
  {
   "cell_type": "code",
   "execution_count": 2,
   "metadata": {},
   "outputs": [],
   "source": [
    "import json\n",
    "\n",
    "info_about_me = {\n",
    "    \"name\": \"Michele\",\n",
    "    \"has_a_dog\": False\n",
    "}\n",
    "\n",
    "with open(\"info.json\", \"w\") as f:\n",
    "    json.dump(info_about_me, f)"
   ]
  },
  {
   "cell_type": "code",
   "execution_count": 13,
   "metadata": {},
   "outputs": [
    {
     "name": "stdout",
     "output_type": "stream",
     "text": [
      "Michele does not have a dog\n"
     ]
    }
   ],
   "source": [
    "with open(\"info.json\", \"r\") as f:\n",
    "    info = json.load(f)\n",
    "\n",
    "if info[\"has_a_dog\"]:\n",
    "    print(\"{} has a dog\".format(info[\"name\"]))\n",
    "else:\n",
    "    print(\"{} does not have a dog\".format(info[\"name\"]))"
   ]
  },
  {
   "cell_type": "code",
   "execution_count": 5,
   "metadata": {},
   "outputs": [],
   "source": [
    "import json\n",
    "dictionary = {\"Albert Einstein\": \"01/11/1890\"}\n",
    "\n",
    "with open(\"JSON.json\", \"w\") as f:\n",
    "    json.dump(dictionary, f)"
   ]
  },
  {
   "cell_type": "code",
   "execution_count": 19,
   "metadata": {},
   "outputs": [
    {
     "name": "stdout",
     "output_type": "stream",
     "text": [
      "Witam w urodziwnowej ksiazce o to nasi ludize\n",
      "Albert Einstein 01/11/1890\n",
      "Monika Nowak 2/12/2015\n",
      "Podaj imie i nazwisko: Albert Einstein\n",
      "Albert Einstein 01/11/1890\n",
      "Bawisz sie dalej: tak. nie? tak\n",
      "{'Albert Einstein': '01/11/1890', 'Monika Nowak': '2/12/2015'}\n",
      "Witam w urodziwnowej ksiazce o to nasi ludize\n",
      "Albert Einstein 01/11/1890\n",
      "Monika Nowak 2/12/2015\n",
      "Podaj imie i nazwisko: Ja\n",
      "brak takiego czlowieka\n",
      "Podaj dizen urodzenia2\n",
      "Podaj mesiac urodzenia2\n",
      "Podaj rok urodzenia2\n",
      "Bawisz sie dalej: tak. nie? nie\n"
     ]
    }
   ],
   "source": [
    "import json\n",
    "\n",
    "with open(\"JSON.json\", \"r\") as file:\n",
    "    dictionary = json.load(file)\n",
    "\n",
    "file = open(\"JSON.json\", \"w\")\n",
    "slowa_klucz = [\"tak\",\"nie\"]\n",
    "while True:\n",
    "    print(\"Witam w urodziwnowej ksiazce o to nasi ludize\")\n",
    "    for x,y in dictionary.items():\n",
    "        print(x,y)\n",
    "    czlowiek = input(\"Podaj imie i nazwisko: \")\n",
    "    if czlowiek in dictionary:\n",
    "        print(czlowiek,dictionary[czlowiek])\n",
    "    else:\n",
    "        print(\"brak takiego czlowieka\")\n",
    "        while True:\n",
    "            try:\n",
    "                dzien = int(input(\"Podaj dizen urodzenia\"))\n",
    "                if dzien > 0 and dzien < 31:\n",
    "                    break\n",
    "                else:\n",
    "                    print(\"Zla wartosc\")\n",
    "            except ValueError:\n",
    "                print(\"Podaj liczbe\")\n",
    "        while True:\n",
    "            try:\n",
    "                miesiac = int(input(\"Podaj mesiac urodzenia\"))\n",
    "                if miesiac > 0 and miesiac < 13:\n",
    "                    break\n",
    "                else:\n",
    "                    print(\"Zla wartosc\")\n",
    "            except ValueError:\n",
    "                print(\"Podaj liczbe\")\n",
    "        while True:\n",
    "            try:\n",
    "                rok = int(input(\"Podaj rok urodzenia\"))\n",
    "                if rok <= 2018:\n",
    "                    break\n",
    "                else:\n",
    "                    print(\"Zla wartosc\")\n",
    "            except ValueError:\n",
    "                print(\"Podaj liczbe\")\n",
    "        data = [str(dzien),str(miesiac),str(rok)]\n",
    "        dictionary[czlowiek]=\"/\".join(data)  \n",
    "    while True:\n",
    "        dalej = input(\"Bawisz sie dalej: tak. nie? \")\n",
    "        if dalej in slowa_klucz:\n",
    "            break\n",
    "        else:\n",
    "            print(\"Zly wyraz \")\n",
    "    if dalej == \"nie\":\n",
    "        json.dump(dictionary,file)\n",
    "        file.close()\n",
    "        break\n",
    "    else:    \n",
    "        print(dictionary)"
   ]
  },
  {
   "cell_type": "code",
   "execution_count": null,
   "metadata": {},
   "outputs": [],
   "source": []
  }
 ],
 "metadata": {
  "kernelspec": {
   "display_name": "Python 3",
   "language": "python",
   "name": "python3"
  },
  "language_info": {
   "codemirror_mode": {
    "name": "ipython",
    "version": 3
   },
   "file_extension": ".py",
   "mimetype": "text/x-python",
   "name": "python",
   "nbconvert_exporter": "python",
   "pygments_lexer": "ipython3",
   "version": "3.6.5"
  }
 },
 "nbformat": 4,
 "nbformat_minor": 2
}
