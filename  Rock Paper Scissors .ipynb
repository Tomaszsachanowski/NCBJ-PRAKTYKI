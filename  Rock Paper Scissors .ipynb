{
 "cells": [
  {
   "cell_type": "code",
   "execution_count": 1,
   "metadata": {},
   "outputs": [
    {
     "name": "stdout",
     "output_type": "stream",
     "text": [
      "5\n",
      "4\n",
      "3\n",
      "2\n",
      "1\n"
     ]
    }
   ],
   "source": [
    "a = 5\n",
    "while( a > 0):\n",
    "    print(a)\n",
    "    a-=1"
   ]
  },
  {
   "cell_type": "code",
   "execution_count": 2,
   "metadata": {},
   "outputs": [
    {
     "name": "stdout",
     "output_type": "stream",
     "text": [
      "Type enter to quiten\n",
      "Type enter to quitqwe\n",
      "Type enter to quitenter\n"
     ]
    }
   ],
   "source": [
    "quit = input(\"Type enter to quit \")\n",
    "while quit != \"enter\":\n",
    "    quit = input(\"Type enter to quit \")\n"
   ]
  },
  {
   "cell_type": "code",
   "execution_count": 5,
   "metadata": {},
   "outputs": [
    {
     "name": "stdout",
     "output_type": "stream",
     "text": [
      "Type enter to quit as\n",
      "Type enter to quit as\n",
      "You typedas\n",
      "Type enter to quit enter\n",
      "You typedenter\n",
      "Type enter to quit enter\n",
      "You typedenter\n",
      "Type enter to quit quit\n"
     ]
    }
   ],
   "source": [
    "\n",
    "quit = input(\"Type enter to quit \")\n",
    "while True:\n",
    "    quit = input(\"Type enter to quit \")\n",
    "    if quit == \"enter\"\n",
    "        break\n",
    "    else:\n",
    "        print(\"You typed\"+quit)\n",
    "    "
   ]
  },
  {
   "cell_type": "code",
   "execution_count": null,
   "metadata": {},
   "outputs": [
    {
     "name": "stdout",
     "output_type": "stream",
     "text": [
      "welcome in game\n",
      "kamien papier nozyce player1: nozyce\n",
      "kamien papier nozyce palyer2: nozyce\n",
      "remis\n",
      "grasz dalej tak lub nietak\n",
      "kamien papier nozyce player1: kamien\n",
      "kamien papier nozyce palyer2: nozyce\n",
      "player2 wygral\n",
      "grasz dalej tak lub nietak\n",
      "kamien papier nozyce player1: kamien\n",
      "kamien papier nozyce palyer2: papier\n",
      "palyer1 wygrał\n"
     ]
    }
   ],
   "source": [
    "#Rack_paper_scissors\n",
    "print(\"welcome in game\")\n",
    "while True:\n",
    "    player1 = input(\"kamien papier nozyce player1: \")\n",
    "    player2 = input(\"kamien papier nozyce palyer2: \")\n",
    "    \n",
    "    if player1 == player2:\n",
    "        print(\"remis\")\n",
    "        if str(input(\"grasz dalej tak lub nie\"))==\"nie\":\n",
    "            break\n",
    "    elif player1 == \"kamien\":\n",
    "        if player2 == \"papier\":\n",
    "            print(\"palyer2 wygrał\")\n",
    "            if str(input(\"grasz dalej tak lub nie\"))==\"nie\":\n",
    "                break\n",
    "        else:\n",
    "            print(\"player1 wygral\")\n",
    "            if str(input(\"grasz dalej tak lub nie\"))==\"nie\":\n",
    "                break\n",
    "    elif  player1 == \"papier\":\n",
    "            if player2 == \"kamien\":\n",
    "                print(\"palyer1 wygrał\")\n",
    "                if str(input(\"grasz dalej tak lub nie\"))==\"nie\":\n",
    "                    break\n",
    "            else:\n",
    "                print(\"player2 wygral\")\n",
    "                if str(input(\"grasz dalej tak lub nie\"))==\"nie\":\n",
    "                    break\n",
    "    elif  player1 == \"nozyce\":\n",
    "            if player2 == \"kamien\":\n",
    "                print(\"palyer2 wygrał\")\n",
    "                if str(input(\"grasz dalej tak lub nie\"))==\"nie\":\n",
    "                    break\n",
    "            else:\n",
    "                print(\"player1 wygral\")\n",
    "                if str(input(\"grasz dalej tak lub nie\"))==\"nie\":\n",
    "                    break\n",
    "    \n"
   ]
  },
  {
   "cell_type": "code",
   "execution_count": null,
   "metadata": {},
   "outputs": [],
   "source": []
  }
 ],
 "metadata": {
  "kernelspec": {
   "display_name": "Python 3",
   "language": "python",
   "name": "python3"
  },
  "language_info": {
   "codemirror_mode": {
    "name": "ipython",
    "version": 3
   },
   "file_extension": ".py",
   "mimetype": "text/x-python",
   "name": "python",
   "nbconvert_exporter": "python",
   "pygments_lexer": "ipython3",
   "version": "3.6.5"
  }
 },
 "nbformat": 4,
 "nbformat_minor": 2
}
