{
 "cells": [
  {
   "cell_type": "code",
   "execution_count": 1,
   "metadata": {},
   "outputs": [],
   "source": [
    "# need to import at least 3 things to make your\n",
    "# bokeh plots work\n",
    "from bokeh.plotting import figure, show, output_file\n",
    "\n",
    "# we specify an HTML file where the output will go\n",
    "output_file(\"plot.html\")\n",
    "\n",
    "# load our x and y data\n",
    "x = [10, 20, 30]\n",
    "y = [4, 5, 6]\n",
    "\n",
    "# create a figure\n",
    "p = figure()\n",
    "\n",
    "# create a histogram\n",
    "p.vbar(x=x, top=y, width=0.5)\n",
    "\n",
    "# render (show) the plot\n",
    "show(p)"
   ]
  },
  {
   "cell_type": "code",
   "execution_count": 2,
   "metadata": {},
   "outputs": [],
   "source": [
    "from bokeh.plotting import figure, show, output_file\n",
    "\n",
    "output_file(\"plot.html\")\n",
    "x_categories = [\"a\", \"b\", \"c\", \"d\", \"e\"]\n",
    "x = [\"a\", \"d\", \"e\"]\n",
    "y = [4, 5, 6]\n",
    "\n",
    "p = figure(x_range=x_categories)\n",
    "p.vbar(x=x, top=y, width=0.5)\n",
    "\n",
    "show(p)"
   ]
  },
  {
   "cell_type": "code",
   "execution_count": 10,
   "metadata": {},
   "outputs": [
    {
     "name": "stdout",
     "output_type": "stream",
     "text": [
      "{'listopad': 1, 'grudzien': 1, 'luty': 1}\n"
     ]
    }
   ],
   "source": [
    "import json\n",
    "from bokeh.plotting import figure, show, output_file\n",
    "from collections import Counter\n",
    "\n",
    "\n",
    "#from datetime import datetime\n",
    "with open(\"JSON.json\", \"r\") as file:\n",
    "    dictionary = json.load(file)\n",
    "klucz = [x.split('/')[1] for x in dictionary.values()]\n",
    "miesiace = {1:\"styczen\" ,2: \"luty\" ,3: \"marzec\" ,4: \"kwiecien\" ,\\\n",
    "            5: \"maj\" ,6: \"czerwiec\" ,7: \"lipiec\" ,8: \"sierpien\" ,\\\n",
    "            9: \"wrzesien\" ,10: \"pazdziernik\" ,11: \"listopad\" ,12: \"grudzien\"}\n",
    "count = Counter(klucz)\n",
    "wynik = {miesiace[int(x)]:count[x] for x in count.keys()}\n",
    "print(wynik)\n",
    "output_file(\"plot.html\")\n",
    "x_categories = list(miesiace.values())\n",
    "print\n",
    "x = list(wynik.keys())\n",
    "y = list(count.values())\n",
    "p = figure(x_range=x_categories)\n",
    "p.vbar(x=x, top=y, width=0.1)\n",
    "show(p)"
   ]
  },
  {
   "cell_type": "code",
   "execution_count": null,
   "metadata": {},
   "outputs": [],
   "source": []
  }
 ],
 "metadata": {
  "kernelspec": {
   "display_name": "Python 3",
   "language": "python",
   "name": "python3"
  },
  "language_info": {
   "codemirror_mode": {
    "name": "ipython",
    "version": 3
   },
   "file_extension": ".py",
   "mimetype": "text/x-python",
   "name": "python",
   "nbconvert_exporter": "python",
   "pygments_lexer": "ipython3",
   "version": "3.6.5"
  }
 },
 "nbformat": 4,
 "nbformat_minor": 2
}
