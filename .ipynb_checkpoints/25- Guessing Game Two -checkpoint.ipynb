{
 "cells": [
  {
   "cell_type": "code",
   "execution_count": 10,
   "metadata": {},
   "outputs": [
    {
     "name": "stdout",
     "output_type": "stream",
     "text": [
      "Czy to jest ta liczba 98 nie\n",
      "51 jest ta wartoscia: tak, mniejsze czy wieksze wikesze\n",
      "zly ciag!!! \n",
      "51 jest ta wartoscia: tak, mniejsze czy wieksze wieksze\n",
      "Czy to jest ta liczba 72 nie\n",
      "76 jest ta wartoscia: tak, mniejsze czy wieksze wieksze\n",
      "Czy to jest ta liczba 91 nie\n",
      "88 jest ta wartoscia: tak, mniejsze czy wieksze wieksze\n",
      "Czy to jest ta liczba 94 nie\n",
      "94 jest ta wartoscia: tak, mniejsze czy wieksze wieksze\n",
      "Czy to jest ta liczba 96 nie\n",
      "97 jest ta wartoscia: tak, mniejsze czy wieksze wieksze\n",
      "Czy to jest ta liczba 100 tak\n",
      "Udalo sie 100\n"
     ]
    }
   ],
   "source": [
    "import random\n",
    "def Losowa_liczba_zprzedzialu(a,b):\n",
    "    zgadniecie = [\"tak\",\"nie\"]\n",
    "    liczba = random.randint(a,b)\n",
    "    while True:\n",
    "        losowa_liczba = input(\"Czy to jest ta liczba {} \".format(liczba))\n",
    "        if losowa_liczba in zgadniecie: \n",
    "            break\n",
    "        else:\n",
    "            print(\"tak lub nie!!! \")\n",
    "    if losowa_liczba == \"tak\":\n",
    "        return (True, liczba)\n",
    "    return (False,0) \n",
    "\n",
    "def Geme():\n",
    "        x = [z for z in range(1,101)]\n",
    "        \n",
    "        while True: \n",
    "            udana = Losowa_liczba_zprzedzialu(x[0],x[-1])\n",
    "            prawda = ['tak','wieksze','mniejsze']\n",
    "            if udana[0]:\n",
    "                return \"Udalo sie {}\".format(udana[1])\n",
    "            delta = int(len(x)/2)\n",
    "            while True:\n",
    "                tak  = input(\"{} jest ta wartoscia: tak, mniejsze czy wieksze \".format(x[delta]))\n",
    "                if tak in prawda:\n",
    "                    break\n",
    "                else:\n",
    "                    print(\"zly ciag!!! \")\n",
    "            if tak == 'tak':\n",
    "                print(\"udalo sie {}\".format(x[delta]))\n",
    "                break\n",
    "            elif tak == 'mniejsze':\n",
    "                x = x[:delta]\n",
    "                delta = int(delta/2)\n",
    "            elif delta < 1:\n",
    "                print(\"{} to jest jedna z ty wartosci \".format(x))\n",
    "                for i in range(len(x)):\n",
    "                    prawda2 = ['tak','nie']\n",
    "                    while True:\n",
    "                        tak  = input(\"{} tak czy nie \".format(x[i]))\n",
    "                        if tak in prawda2:\n",
    "                            break\n",
    "                        else:\n",
    "                            print(\"zly ciag!!! \")\n",
    "                    if tak == 'tak':\n",
    "                        print(\"udalo sie {}\".format(x[i]))\n",
    "                        break\n",
    "                    else:         \n",
    "                        i = i+1\n",
    "                break\n",
    "            else:\n",
    "                x = x[delta:]\n",
    "                delta = int(delta/2)\n",
    "\n",
    "                \n",
    "print(Geme())"
   ]
  },
  {
   "cell_type": "code",
   "execution_count": null,
   "metadata": {},
   "outputs": [],
   "source": []
  },
  {
   "cell_type": "code",
   "execution_count": null,
   "metadata": {},
   "outputs": [],
   "source": []
  },
  {
   "cell_type": "code",
   "execution_count": null,
   "metadata": {},
   "outputs": [],
   "source": []
  },
  {
   "cell_type": "code",
   "execution_count": null,
   "metadata": {},
   "outputs": [],
   "source": []
  }
 ],
 "metadata": {
  "kernelspec": {
   "display_name": "Python 3",
   "language": "python",
   "name": "python3"
  },
  "language_info": {
   "codemirror_mode": {
    "name": "ipython",
    "version": 3
   },
   "file_extension": ".py",
   "mimetype": "text/x-python",
   "name": "python",
   "nbconvert_exporter": "python",
   "pygments_lexer": "ipython3",
   "version": "3.6.5"
  }
 },
 "nbformat": 4,
 "nbformat_minor": 2
}
