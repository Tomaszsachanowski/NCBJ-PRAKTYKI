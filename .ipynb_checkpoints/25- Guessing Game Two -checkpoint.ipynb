{
 "cells": [
  {
   "cell_type": "code",
   "execution_count": 100,
   "metadata": {},
   "outputs": [
    {
     "name": "stdout",
     "output_type": "stream",
     "text": [
      "[1, 2, 3, 4, 5, 6, 7, 8, 9, 10, 11, 12, 13, 14, 15, 16, 17, 18, 19, 20, 21, 22, 23, 24, 25, 26, 27, 28, 29, 30, 31, 32, 33, 34, 35, 36, 37, 38, 39, 40, 41, 42, 43, 44, 45, 46, 47, 48, 49, 50, 51, 52, 53, 54, 55, 56, 57, 58, 59, 60, 61, 62, 63, 64, 65, 66, 67, 68, 69, 70, 71, 72, 73, 74, 75, 76, 77, 78, 79, 80, 81, 82, 83, 84, 85, 86, 87, 88, 89, 90, 91, 92, 93, 94, 95, 96, 97, 98, 99, 100]\n",
      "Czy to jest ta liczba 26 nie\n",
      "Czy jest mniejsze, wieksze 26mniejsze\n",
      "[1, 2, 3, 4, 5, 6, 7, 8, 9, 10, 11, 12, 13, 14, 15, 16, 17, 18, 19, 20, 21, 22, 23, 24, 25]\n",
      "Czy to jest ta liczba 8 nie\n",
      "Czy jest mniejsze, wieksze 8mniejsze\n",
      "[1, 2, 3, 4, 5, 6, 7]\n",
      "Czy to jest ta liczba 2 nie\n",
      "Czy jest mniejsze, wieksze 2mniejsze\n",
      "[1]\n",
      "Czy to jest ta liczba 1 nie\n",
      "Czy jest mniejsze, wieksze 1wieksze\n",
      "[]\n",
      "to musi byc 1\n"
     ]
    }
   ],
   "source": [
    "import random\n",
    "def Losowa_liczba_zprzedzialu(a,b):\n",
    "    zgadniecie = [\"tak\",\"nie\"]\n",
    "    zgadniecie2 = [\"mniejsze\",\"wieksze\"]\n",
    "    liczba = random.randint(a,b)\n",
    "    while True:\n",
    "        losowa_liczba = input(\"Czy to jest ta liczba {} \".format(liczba))\n",
    "        if losowa_liczba in zgadniecie: \n",
    "            break\n",
    "        else:\n",
    "            print(\"tak lub nie!!! \")\n",
    "    if losowa_liczba == \"tak\":\n",
    "        return {\"Trafiony\":True,\"liczba\":liczba,\"Wieksze\":False,\"Mniejsze\":False}\n",
    "    else:\n",
    "        while True:\n",
    "            losowa_liczba = input(\"Czy jest mniejsze, wieksze {}\".format(liczba))\n",
    "            if losowa_liczba in zgadniecie2:\n",
    "                break\n",
    "            else:\n",
    "                print(\"mniejsze, wieksze !!! \")\n",
    "        if losowa_liczba == \"mniejsze\":        \n",
    "            return {\"Trafiony\":False,\"liczba\":liczba,\"Wieksze\":False,\"Mniejsze\":True}\n",
    "\n",
    "    return {\"Trafiony\":False,\"liczba\":liczba,\"Wieksze\":True,\"Mniejsze\":False}\n",
    "\n",
    "def Geme():\n",
    "        x = [z for z in range(1,101)]\n",
    "        \n",
    "        while True: \n",
    "            #print(x)\n",
    "            try:\n",
    "                udana = Losowa_liczba_zprzedzialu(x[0],x[-1])\n",
    "            except IndexError:\n",
    "                return \"to musi byc {}\".format(udana[\"liczba\"])\n",
    "            prawda = ['tak','wieksze','mniejsze']\n",
    "            if udana[\"Trafiony\"]:\n",
    "                return \"Udalo sie {}\".format(udana[\"liczba\"])\n",
    "            elif udana[\"Mniejsze\"]:\n",
    "                    x = x[ : x.index(udana[\"liczba\"])]\n",
    "            else:\n",
    "                    x= x[ x.index(udana[\"liczba\"])+1 : ]\n",
    "                \n",
    "print(Geme())"
   ]
  },
  {
   "cell_type": "code",
   "execution_count": null,
   "metadata": {},
   "outputs": [],
   "source": []
  }
 ],
 "metadata": {
  "kernelspec": {
   "display_name": "Python 3",
   "language": "python",
   "name": "python3"
  },
  "language_info": {
   "codemirror_mode": {
    "name": "ipython",
    "version": 3
   },
   "file_extension": ".py",
   "mimetype": "text/x-python",
   "name": "python",
   "nbconvert_exporter": "python",
   "pygments_lexer": "ipython3",
   "version": "3.6.5"
  }
 },
 "nbformat": 4,
 "nbformat_minor": 2
}
