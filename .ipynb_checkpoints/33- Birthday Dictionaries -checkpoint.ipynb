{
 "cells": [
  {
   "cell_type": "code",
   "execution_count": 14,
   "metadata": {},
   "outputs": [
    {
     "name": "stdout",
     "output_type": "stream",
     "text": [
      "Witam w urodziwnowej ksiazce o to nasi ludize\n",
      "Albert Einstein 01/11/1890\n",
      "Podaj imie i nazwisko: Monika Nowak\n",
      "brak takiego czlowieka\n",
      "Podaj dizen urodzenia1\n",
      "Podaj mesiac urodzenia2\n",
      "Podaj rok urodzenia1002\n",
      "Bawisz sie dalej: tak. nie? tak\n",
      "{'Albert Einstein': '01/11/1890', 'Monika Nowak': '1/2/1002'}\n",
      "Witam w urodziwnowej ksiazce o to nasi ludize\n",
      "Albert Einstein 01/11/1890\n",
      "Monika Nowak 1/2/1002\n",
      "Podaj imie i nazwisko: Albert Einstein\n",
      "Albert Einstein 01/11/1890\n",
      "Bawisz sie dalej: tak. nie? nie\n"
     ]
    }
   ],
   "source": [
    "dictionary = {\"Albert Einstein\": \"01/11/1890\"}\n",
    "slowa_klucz = [\"tak\",\"nie\"]\n",
    "while True:\n",
    "    print(\"Witam w urodziwnowej ksiazce o to nasi ludize\")\n",
    "    for x,y in dictionary.items():\n",
    "        print(x,y)\n",
    "    czlowiek = input(\"Podaj imie i nazwisko: \")\n",
    "    if czlowiek in dictionary:\n",
    "        print(czlowiek,dictionary[czlowiek])\n",
    "    else:\n",
    "        print(\"brak takiego czlowieka\")\n",
    "        while True:\n",
    "            try:\n",
    "                dzien = int(input(\"Podaj dizen urodzenia\"))\n",
    "                if dzien > 0 and dzien < 31:\n",
    "                    break\n",
    "                else:\n",
    "                    print(\"Zla wartosc\")\n",
    "            except ValueError:\n",
    "                print(\"Podaj liczbe\")\n",
    "        while True:\n",
    "            try:\n",
    "                miesiac = int(input(\"Podaj mesiac urodzenia\"))\n",
    "                if miesiac > 0 and miesiac < 13:\n",
    "                    break\n",
    "                else:\n",
    "                    print(\"Zla wartosc\")\n",
    "            except ValueError:\n",
    "                print(\"Podaj liczbe\")\n",
    "        while True:\n",
    "            try:\n",
    "                rok = int(input(\"Podaj rok urodzenia\"))\n",
    "                if rok <= 2018:\n",
    "                    break\n",
    "                else:\n",
    "                    print(\"Zla wartosc\")\n",
    "            except ValueError:\n",
    "                print(\"Podaj liczbe\")\n",
    "        data = [str(dzien),str(miesiac),str(rok)]\n",
    "        dictionary[czlowiek]=\"/\".join(data)        \n",
    "    while True:\n",
    "        dalej = input(\"Bawisz sie dalej: tak. nie? \")\n",
    "        if dalej in slowa_klucz:\n",
    "            break\n",
    "        else:\n",
    "            print(\"Zly wyraz \")\n",
    "    if dalej == \"nie\":\n",
    "        break\n",
    "    else:    \n",
    "        print(dictionary)"
   ]
  },
  {
   "cell_type": "code",
   "execution_count": 12,
   "metadata": {},
   "outputs": [
    {
     "name": "stdout",
     "output_type": "stream",
     "text": [
      "Podaj dizen urodzeniaa\n",
      "Podaj liczbe\n",
      "Podaj dizen urodzenias\n",
      "Podaj liczbe\n",
      "Podaj dizen urodzenia123\n",
      "Zla wartosc\n",
      "Podaj dizen urodzenia21\n"
     ]
    }
   ],
   "source": []
  },
  {
   "cell_type": "code",
   "execution_count": null,
   "metadata": {},
   "outputs": [],
   "source": []
  }
 ],
 "metadata": {
  "kernelspec": {
   "display_name": "Python 3",
   "language": "python",
   "name": "python3"
  },
  "language_info": {
   "codemirror_mode": {
    "name": "ipython",
    "version": 3
   },
   "file_extension": ".py",
   "mimetype": "text/x-python",
   "name": "python",
   "nbconvert_exporter": "python",
   "pygments_lexer": "ipython3",
   "version": "3.6.5"
  }
 },
 "nbformat": 4,
 "nbformat_minor": 2
}
