{
 "cells": [
  {
   "cell_type": "code",
   "execution_count": null,
   "metadata": {},
   "outputs": [
    {
     "name": "stdout",
     "output_type": "stream",
     "text": [
      "witamy w grze masz 6 zyc \n",
      "oto twoje slowo: \n",
      "_ _ _ _ _ _ _ _ _ _ _ \n"
     ]
    }
   ],
   "source": [
    "import random\n",
    "\n",
    "\n",
    "\n",
    "    \n",
    "def randword():\n",
    "    with open(\"dictionary.txt\") as file:\n",
    "        lines = file.readlines()\n",
    "    return random.choice(lines).strip()\n",
    "\n",
    "def Mesage(tabl):\n",
    "    for x in tabl:\n",
    "        print(x,end =' ')\n",
    "    return print()\n",
    "\n",
    "def podane_litery(tabl):\n",
    "    liters = [chr(x) for x in range(65,91)]\n",
    "    while True:\n",
    "        litera = input(\"Podaj litere \")\n",
    "        litera = litera.upper()\n",
    "        if litera in liters:\n",
    "            if litera in tabl:\n",
    "                print(\"To juz podales\")\n",
    "                print(tabl)\n",
    "            else:\n",
    "                tabl.append(litera)\n",
    "                return litera\n",
    "        else:\n",
    "            print(\"litera!!!! \")\n",
    "\n",
    "\n",
    "def Puste_slowo(slowo):\n",
    "    puste = ['_' for x in slowo]\n",
    "    return puste\n",
    "\n",
    "def Game():\n",
    "    uzyte_litery = []\n",
    "    zycie = 6\n",
    "    slowo = randword()\n",
    "    puste_slowo = Puste_slowo(slowo)\n",
    "    zgadniete_litery = []\n",
    "    print(\"witamy w grze masz 6 zyc \")\n",
    "    print(\"oto twoje slowo: \")\n",
    "    while  zycie > 0 and len(zgadniete_litery) < len(slowo):\n",
    "        Mesage(puste_slowo)\n",
    "        literka = podane_litery(uzyte_litery)\n",
    "        if literka in slowo:\n",
    "            zgadniete_litery.append(literka)\n",
    "            \n",
    "            index = 0 \n",
    "            while index < len(slowo):\n",
    "                if literka == slowo[index]:\n",
    "                    puste_slowo[index] = literka\n",
    "                index +=1\n",
    "        \n",
    "        else:\n",
    "            print(\"zla literka \")\n",
    "            zycie -= 1\n",
    "    if zycie <= 0:\n",
    "        print(\"Przegrales!!!! \")\n",
    "        return (\"zycie wynosi 0\", slowo)\n",
    "    else:\n",
    "        print(\"Zycie = {}, Wzgadles slowo: \".format(zycie),end = '')\n",
    "        return Mesage(puste_slowo)\n",
    "    \n",
    "    \n",
    "    \n",
    "print(Game())"
   ]
  },
  {
   "cell_type": "code",
   "execution_count": null,
   "metadata": {
    "collapsed": true
   },
   "outputs": [],
   "source": []
  }
 ],
 "metadata": {
  "kernelspec": {
   "display_name": "Python 3",
   "language": "python",
   "name": "python3"
  },
  "language_info": {
   "codemirror_mode": {
    "name": "ipython",
    "version": 3
   },
   "file_extension": ".py",
   "mimetype": "text/x-python",
   "name": "python",
   "nbconvert_exporter": "python",
   "pygments_lexer": "ipython3",
   "version": "3.6.5"
  }
 },
 "nbformat": 4,
 "nbformat_minor": 2
}
