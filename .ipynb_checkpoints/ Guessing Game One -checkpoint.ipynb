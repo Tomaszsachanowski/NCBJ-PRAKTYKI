{
 "cells": [
  {
   "cell_type": "code",
   "execution_count": 4,
   "metadata": {},
   "outputs": [
    {
     "name": "stdout",
     "output_type": "stream",
     "text": [
      "Podaj liczbe 1\n",
      "Liczba tylko z przedzialu <2;6>\n",
      "Podaj liczbe 3\n",
      "do skutku\n",
      "Podaj liczbe 7\n",
      "Liczba tylko z przedzialu <2;6>\n",
      "Podaj liczbe fgf\n",
      "tylko liczby\n",
      "Podaj liczbe sd\n",
      "tylko liczby\n",
      "Podaj liczbe 3\n",
      "do skutku\n",
      "Podaj liczbe 4\n",
      "do skutku\n",
      "Podaj liczbe 5\n",
      "Udało sie\n"
     ]
    },
    {
     "data": {
      "text/plain": [
       "5"
      ]
     },
     "execution_count": 4,
     "metadata": {},
     "output_type": "execute_result"
    }
   ],
   "source": [
    "import random\n",
    "a = random.randint(2, 6)\n",
    "while True:\n",
    "    while True:\n",
    "        try:\n",
    "            liczba = int(input(\"Podaj liczbe \"))\n",
    "            if liczba < 2 or liczba > 6:\n",
    "                print(\"Liczba tylko z przedzialu <2;6>\")\n",
    "            else:\n",
    "                break\n",
    "        except:\n",
    "            print(\"tylko liczby\")\n",
    "    if a == liczba:\n",
    "        print(\"Udało sie\")\n",
    "        break\n",
    "    else:\n",
    "        print(\"do skutku\")\n",
    "        \n",
    "a"
   ]
  },
  {
   "cell_type": "code",
   "execution_count": null,
   "metadata": {},
   "outputs": [],
   "source": []
  }
 ],
 "metadata": {
  "kernelspec": {
   "display_name": "Python 3",
   "language": "python",
   "name": "python3"
  },
  "language_info": {
   "codemirror_mode": {
    "name": "ipython",
    "version": 3
   },
   "file_extension": ".py",
   "mimetype": "text/x-python",
   "name": "python",
   "nbconvert_exporter": "python",
   "pygments_lexer": "ipython3",
   "version": "3.6.5"
  }
 },
 "nbformat": 4,
 "nbformat_minor": 2
}
