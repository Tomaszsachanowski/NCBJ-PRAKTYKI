{
 "cells": [
  {
   "cell_type": "code",
   "execution_count": 43,
   "metadata": {
    "scrolled": true
   },
   "outputs": [
    {
     "name": "stdout",
     "output_type": "stream",
     "text": [
      "[1, 1, 1]\n",
      "Wygrywa gracz 1\n"
     ]
    }
   ],
   "source": [
    "def winner_row(a):\n",
    "    suma = sum(a)\n",
    "    #rint(suma)\n",
    "    if suma == 6:\n",
    "        return 2\n",
    "    elif suma == 3:\n",
    "        if a[0]==a[1]:\n",
    "            return 1\n",
    "        else:\n",
    "            return 0\n",
    "    return 0\n",
    "#rint(winner_row([2,0,1]))\n",
    "\n",
    "def table(a):\n",
    "    x = []\n",
    "    y = []\n",
    "    for z in a:\n",
    "        x.append(z)\n",
    "    for i in range(3):\n",
    "        for j in range(3):\n",
    "            y.append(a[j][i])\n",
    "        x.append(y)\n",
    "        y = []\n",
    "    for i in range(3):\n",
    "        y.append(a[i][i])\n",
    "    x.append(y)\n",
    "    y = []\n",
    "    for i in range(3):\n",
    "        y.append(a[i][2-i])\n",
    "    x.append(y)\n",
    "    return x\n",
    "\n",
    "\n",
    "\n",
    "\n",
    "def kto_wygral(a):\n",
    "    for x in a:\n",
    "        if winner_row(x) == 1:\n",
    "            print(x)\n",
    "            return \"Wygrywa gracz 1\"\n",
    "        elif winner_row(x) == 2:\n",
    "            print(x)\n",
    "            return \"Wygrywa gracz 2\"\n",
    "    return \"remis\"\n",
    "\n",
    "\n",
    "tabl = [[1, 2, 0],[2, 1, 0],[2, 1, 1]]\n",
    "print(kto_wygral(table(tabl)))"
   ]
  },
  {
   "cell_type": "code",
   "execution_count": 15,
   "metadata": {},
   "outputs": [
    {
     "data": {
      "text/plain": [
       "3"
      ]
     },
     "execution_count": 15,
     "metadata": {},
     "output_type": "execute_result"
    }
   ],
   "source": [
    "winner_is_1 = [[1, 2, 0],\n",
    "[2, 1, 0]]\n",
    "len(winner_is_1[0])\n"
   ]
  },
  {
   "cell_type": "code",
   "execution_count": null,
   "metadata": {},
   "outputs": [],
   "source": []
  },
  {
   "cell_type": "code",
   "execution_count": null,
   "metadata": {},
   "outputs": [],
   "source": []
  }
 ],
 "metadata": {
  "kernelspec": {
   "display_name": "Python 3",
   "language": "python",
   "name": "python3"
  },
  "language_info": {
   "codemirror_mode": {
    "name": "ipython",
    "version": 3
   },
   "file_extension": ".py",
   "mimetype": "text/x-python",
   "name": "python",
   "nbconvert_exporter": "python",
   "pygments_lexer": "ipython3",
   "version": "3.6.5"
  }
 },
 "nbformat": 4,
 "nbformat_minor": 2
}
