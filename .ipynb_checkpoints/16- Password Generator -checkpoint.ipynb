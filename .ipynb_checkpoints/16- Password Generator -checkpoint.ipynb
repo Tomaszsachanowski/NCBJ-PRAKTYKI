{
 "cells": [
  {
   "cell_type": "markdown",
   "metadata": {},
   "source": [
    "# 64 -126 ASCII znaki widoczne"
   ]
  },
  {
   "cell_type": "code",
   "execution_count": 8,
   "metadata": {},
   "outputs": [],
   "source": [
    "from random import randint\n",
    "def NUMBERS():\n",
    "    while True:\n",
    "        try:\n",
    "            licz = int(input(\"PODAj dlugosc hasla \"))\n",
    "            break\n",
    "        except ValueError:\n",
    "             print(\"Oops!  That was no valid number.  Try again...\")\n",
    "    return licz\n",
    "\n",
    "def Password(n):\n",
    "        \n",
    "    x = []\n",
    "    l = ['l','I','0','O',]\n",
    "    while len(x) < n:\n",
    "        ASCII = randint(33,126)\n",
    "        if chr(ASCII) in l:\n",
    "            continue\n",
    "        else:\n",
    "            x.append(chr(ASCII))\n",
    "        \n",
    "    return x"
   ]
  },
  {
   "cell_type": "code",
   "execution_count": null,
   "metadata": {},
   "outputs": [
    {
     "name": "stdout",
     "output_type": "stream",
     "text": [
      "PODAj dlugosc hasla sds\n",
      "Oops!  That was no valid number.  Try again...\n",
      "PODAj dlugosc hasla 3\n",
      "['=', 'C', '|']\n",
      "PODAj dlugosc hasla 1\n",
      "['\\\\']\n",
      "PODAj dlugosc hasla 2\n",
      "['%', '!']\n",
      "PODAj dlugosc hasla 11\n",
      "['!', 'X', 'y', 'D', 'M', 'z', '$', \"'\", 'P', 'R', '+']\n"
     ]
    }
   ],
   "source": [
    "print(Password(NUMBERS()))\n",
    "print(Password(NUMBERS()))\n",
    "print(Password(NUMBERS()))\n",
    "print(Password(NUMBERS()))\n",
    "print(Password(NUMBERS()))\n",
    "print(Password(NUMBERS()))\n"
   ]
  },
  {
   "cell_type": "code",
   "execution_count": null,
   "metadata": {},
   "outputs": [],
   "source": []
  }
 ],
 "metadata": {
  "kernelspec": {
   "display_name": "Python 3",
   "language": "python",
   "name": "python3"
  },
  "language_info": {
   "codemirror_mode": {
    "name": "ipython",
    "version": 3
   },
   "file_extension": ".py",
   "mimetype": "text/x-python",
   "name": "python",
   "nbconvert_exporter": "python",
   "pygments_lexer": "ipython3",
   "version": "3.6.5"
  }
 },
 "nbformat": 4,
 "nbformat_minor": 2
}
