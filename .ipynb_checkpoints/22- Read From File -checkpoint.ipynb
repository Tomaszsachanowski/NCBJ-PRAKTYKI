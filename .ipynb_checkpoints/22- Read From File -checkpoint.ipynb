{
 "cells": [
  {
   "cell_type": "code",
   "execution_count": 8,
   "metadata": {
    "scrolled": true
   },
   "outputs": [
    {
     "name": "stdout",
     "output_type": "stream",
     "text": [
      "Trump Starts Off NATO Summit by Calling Allies ‘Delinquent’Baltic Nations Are Worried as Trump Calls NATO ObsoleteTrump Falsely Claims It’s ‘Impossible’ for U.S. Farmers to Do Business in EuropeTrump Subpoena May Put Nominee’s Legal Theory to the TestFor Midterms, Court Political Drama Plays to Its AudienceKavanaugh on Abortion, Guns, Climate and More‘He Didn’t Recognize Me’: Tearful Scenes as Migrants ReuniteFor Many L.G.B.T. Migrants, No Refuge North of the BorderShe Is Fighting to Save Her Husband, a Prisoner in IranSome Thai Boys Stuck in Cave Had Already Beaten Long OddsFacebook Is Fined in Britain Over Leak to Cambridge AnalyticaFox Raises Its Bid in Sky Takeover EffortGrants to Help People Sign Up for Health Insurance to Be CutRussell Simmons Faces New Rape AccusationHow Trump’s Trade War Went From 18 Products to 10,000Your Wednesday BriefingListen to ‘The Daily’: Judge’s Change of HeartHurricane Season Has Begun. Do You Need Flood Insurance?Graduation Gift IdeasOakland in Their Bones, and in Their FilmsFrance, With Flash to Spare, Reaches the World Cup FinalWorld Cup Brings England Together at a Time of DivisionThe Brain Science Behind All That SpittingCambodia’s Leader Has Opponents, but No CompetitionSolar Plan Shows Divisions in Pacific NorthwestMargaret Hoover and John Avlon on Their MarriageNew York’s Transplant Situation Is DireAre IDs Meant to Protect Immigrants a Liability?9 Ways to Get the Most Out of Your Times SubscriptionIt’s Summer. Finally.Gender LetterNew Zealand’s Nurses Plan Walkout, Testing Jacinda Ardern’s GovernmentThailand, NATO, World Cup: Your Wednesday BriefingA Lesson in Demonizing RefugeesMastering Chinese-Style Ribs at HomeThe Urbane Bookworm: Robert Gottlieb’s EssaysWhen Black Performers Use Their ‘White Voice’Someone Should Tell Trump About America’s High TariffsWhat America Gets Out of NATOBruni: The Center Is Sexier Than You ThinkA Day Off From the WorldA Victory for Mexican DemocracyFor Gays, the Worst Is Yet to Come. Again.In Pakistan, Nawaz Sharif Fights for SurvivalA Doctor’s ResponsibilityDo You Care About the Rule of Law? Act Like ItLike Brexit, but More OrangeKrugman: Brexit Meets GravityBoris Johnson Has Ruined BritainThis World Cup, Remember the Russian PeopleSign Up for Our World Cup Newsletter »‘I Couldn’t Tell Anyone’: Women Around the World Reveal Intimate Stories of AbortionCopy Edit This! Quiz No. 13Play Today’s Puzzle‘I Couldn’t Tell Anyone’: Women Around the World Reveal Intimate Stories of AbortionPlay Today’s PuzzlePlay Today’s PuzzleBest of Late Night: Thai Cave Lessons for TrumpBoris Johnson Has Ruined BritainA Survival Guide for the Fourth TrimesterHow to Look Well Rested (Even When You’re Not)If the Supreme Court Is Nakedly Political, Can It Be Just?The Power of Positive PeopleLive Briefing: NATO Summit Updates: Trump Says Alliance ‘Delinquent’ on Military SpendingHow Rescuers Pulled Off the Impossible in a Treacherous Thai CaveA Homecoming for Nigerians Who Fled Militants. All That’s Missing Is the ‘Home.’How Trump’s Trade War Went From 18 Products to 10,000U.S. Threatens Tariffs on $200 Billion of Chinese Goods, From Tilapia to HandbagsFox Raises Its Bid in Sky Takeover EffortSomeone Should Tell Donald Trump About America’s High TariffsDo You Care About the Rule of Law? Then Act Like ItWhat America Gets Out of NATOFor Many L.G.B.T. Migrants, North of the Border Is No RefugeDancing F.B.I. Agent Facing Assault Charge Can Carry Gun Again, Judge RulesSolar Plan Collides With Farm Tradition in Pacific NorthwestFacebook Is Fined in Britain Over Cambridge Analytica Data LeakCisco Chief Executive’s New Mantra: Simplify Computer NetworksA Tech Guru Captivated Canada. Then He Fled to China.How One Tweet About Nicki Minaj Spiraled Into Internet ChaosCritic’s Notebook: Trump’s Reality TV Supreme Court Rollout, Slick and Substance-FreeOn Comedy: Bobcat Goldthwait Has Moved On. Why Can’t We Catch Up?Judge Kavanaugh’s Former Clerks: Diverse, and Deployed to Vouch for HimFor Midterms, Supreme Court Political Drama Plays to Its AudiencePfizer to Postpone Some Drug Price Increases, After Criticism From TrumpAshlee Simpson’s New RealityThe Proof Is in Their PalatesBoris Johnson Criticized for Posing With Resignation LetterWhen Black Performers Use Their ‘White Voice’Review: ‘Gauguin: Voyage to Tahiti’ Doesn’t Make Much of a (Post-) ImpressionRobby Müller, Inventive Cinematographer, Is Dead at 78New York Today: New York Today: The ‘Boy Mayor’ of New YorkNearly 6 Months on the Job, the Subway Chief Finally Meets the MayorAbout New York: The Last 9/11 Fire Chief Bows OutOrioles 6, Yankees 5: Loss to Orioles Offers Yankees a Glimpse of What They Could AcquireOn Soccer: France, With Flash to Spare, Reaches the World Cup FinalA Calm Serena Williams Claims Her Spot in the Wimbledon SemifinalsBrantley in Britain: Women Set London’s Stages AblazeFour Musicals on Three Continents: An Australian Company’s Big BetReview: ‘Antigone’ Asserts Whose Lives Matter, With Modern RelevanceOrcas of the Pacific Northwest Are Starving and DisappearingThe Lost Dogs of the AmericasRhino Embryos Made in Lab to Save Nearly Extinct SubspeciesRobby Müller, Inventive Cinematographer, Is Dead at 78Lord Carrington, 99, Former British Foreign Secretary, DiesRobert D. Ray, Centrist G.O.P. Governor of Iowa, Dies at 89Critic’s Notebook: Trump’s Reality TV Supreme Court Rollout, Slick and Substance-FreeHow ‘A Different World’ Survived the Downfall of Bill CosbyBest of Late Night: Kimmel Calls Out Trump’s ‘Lie’ About Their Relationshipthe healing edge: Dying Organs Restored to Life in Novel ExperimentsThe Power of Positive PeopleOpposition to Breast-Feeding Resolution by U.S. Stuns World Health OfficialsHeads Up: San Antonio’s Summer Homage to SpainQ&A: Where the Shake Shack Founder Loves to TravelThe 52 Places Traveler: Place 21 of 52: Keep Oslo WeirdBooks of The Times: Can Handiwork Save Your Soul? A Quiet Novel Suggests It CanBooks of The Times: Struggling to Love, Work and Do the Right Thing in Putin’s RussiaFiction: A Novel That Reads Like Martin Amis on Mescaline‘Access to Literacy’ Is Not a Constitutional Right, Judge in Detroit RulesColleges and State Laws Are Clamping Down on FraternitiesIn the Age of Trump, Civics Courses Make a ComebackA Restaurant Takes On the Opioid Crisis, One Worker at a TimeRecipe Lab: Mastering Chinese-Style Ribs at HomeRestaurant Review: It’s Not Fake French, It’s FrenchetteFeature: Her Husband Was a Princeton Graduate Student. Then He Was Taken Prisoner in Iran.Feature: The Fast and Furious Michael AvenattiFirst Words: Americans Think ‘Corruption’ Is Everywhere. Is That Why We Vote for It?What I Love: A Manhattan Medici at HomeRenters: A Los Angeles Transplant Decides to StayWhat's Selling Now: Homes That Sold for Around $1,500,000The New Health Care: Sometimes Patients Simply Need Other PatientsThe Unemployment Rate Rose for the Best Possible ReasonThere Isn’t Much the Fed Can Do to Ease the Pain of a Trade WarWhat’s in a Newsletter? At The Times, There’s a Secret SauceCopy Edit This! Quiz No. 13Outsmarted by a Smart TV? Not This Reporter.Tesla’s Latest Aim: Build 500,000 Cars a Year in ChinaNissan Workers in Japan Falsified Emissions Tests, Review SaysWheels: Racing Series Helps Show the Way to a Battery-Powered FutureMy Favorite Artwork | Glenn LigonT’s Best Photographs From Couture WeekOn Beauty: How to Look Well Rested (Even When You’re Not)Homes That Sold for Around $1,500,000Search for Homes for Sale or RentMortgage Calculator\n"
     ]
    }
   ],
   "source": [
    "with open('PLIK-21.txt', 'r') as open_file:\n",
    "    all_text = open_file.read()\n",
    "print(all_text)"
   ]
  },
  {
   "cell_type": "code",
   "execution_count": 10,
   "metadata": {
    "scrolled": true
   },
   "outputs": [
    {
     "name": "stdout",
     "output_type": "stream",
     "text": [
      "Trump Starts Off NATO Summit by Calling Allies ‘Delinquent’Baltic Nations Are Worried as Trump Calls NATO ObsoleteTrump Falsely Claims It’s ‘Impossible’ for U.S. Farmers to Do Business in EuropeTrump Subpoena May Put Nominee’s Legal Theory to the TestFor Midterms, Court Political Drama Plays to Its AudienceKavanaugh on Abortion, Guns, Climate and More‘He Didn’t Recognize Me’: Tearful Scenes as Migrants ReuniteFor Many L.G.B.T. Migrants, No Refuge North of the BorderShe Is Fighting to Save Her Husband, a Prisoner in IranSome Thai Boys Stuck in Cave Had Already Beaten Long OddsFacebook Is Fined in Britain Over Leak to Cambridge AnalyticaFox Raises Its Bid in Sky Takeover EffortGrants to Help People Sign Up for Health Insurance to Be CutRussell Simmons Faces New Rape AccusationHow Trump’s Trade War Went From 18 Products to 10,000Your Wednesday BriefingListen to ‘The Daily’: Judge’s Change of HeartHurricane Season Has Begun. Do You Need Flood Insurance?Graduation Gift IdeasOakland in Their Bones, and in Their FilmsFrance, With Flash to Spare, Reaches the World Cup FinalWorld Cup Brings England Together at a Time of DivisionThe Brain Science Behind All That SpittingCambodia’s Leader Has Opponents, but No CompetitionSolar Plan Shows Divisions in Pacific NorthwestMargaret Hoover and John Avlon on Their MarriageNew York’s Transplant Situation Is DireAre IDs Meant to Protect Immigrants a Liability?9 Ways to Get the Most Out of Your Times SubscriptionIt’s Summer. Finally.Gender LetterNew Zealand’s Nurses Plan Walkout, Testing Jacinda Ardern’s GovernmentThailand, NATO, World Cup: Your Wednesday BriefingA Lesson in Demonizing RefugeesMastering Chinese-Style Ribs at HomeThe Urbane Bookworm: Robert Gottlieb’s EssaysWhen Black Performers Use Their ‘White Voice’Someone Should Tell Trump About America’s High TariffsWhat America Gets Out of NATOBruni: The Center Is Sexier Than You ThinkA Day Off From the WorldA Victory for Mexican DemocracyFor Gays, the Worst Is Yet to Come. Again.In Pakistan, Nawaz Sharif Fights for SurvivalA Doctor’s ResponsibilityDo You Care About the Rule of Law? Act Like ItLike Brexit, but More OrangeKrugman: Brexit Meets GravityBoris Johnson Has Ruined BritainThis World Cup, Remember the Russian PeopleSign Up for Our World Cup Newsletter »‘I Couldn’t Tell Anyone’: Women Around the World Reveal Intimate Stories of AbortionCopy Edit This! Quiz No. 13Play Today’s Puzzle‘I Couldn’t Tell Anyone’: Women Around the World Reveal Intimate Stories of AbortionPlay Today’s PuzzlePlay Today’s PuzzleBest of Late Night: Thai Cave Lessons for TrumpBoris Johnson Has Ruined BritainA Survival Guide for the Fourth TrimesterHow to Look Well Rested (Even When You’re Not)If the Supreme Court Is Nakedly Political, Can It Be Just?The Power of Positive PeopleLive Briefing: NATO Summit Updates: Trump Says Alliance ‘Delinquent’ on Military SpendingHow Rescuers Pulled Off the Impossible in a Treacherous Thai CaveA Homecoming for Nigerians Who Fled Militants. All That’s Missing Is the ‘Home.’How Trump’s Trade War Went From 18 Products to 10,000U.S. Threatens Tariffs on $200 Billion of Chinese Goods, From Tilapia to HandbagsFox Raises Its Bid in Sky Takeover EffortSomeone Should Tell Donald Trump About America’s High TariffsDo You Care About the Rule of Law? Then Act Like ItWhat America Gets Out of NATOFor Many L.G.B.T. Migrants, North of the Border Is No RefugeDancing F.B.I. Agent Facing Assault Charge Can Carry Gun Again, Judge RulesSolar Plan Collides With Farm Tradition in Pacific NorthwestFacebook Is Fined in Britain Over Cambridge Analytica Data LeakCisco Chief Executive’s New Mantra: Simplify Computer NetworksA Tech Guru Captivated Canada. Then He Fled to China.How One Tweet About Nicki Minaj Spiraled Into Internet ChaosCritic’s Notebook: Trump’s Reality TV Supreme Court Rollout, Slick and Substance-FreeOn Comedy: Bobcat Goldthwait Has Moved On. Why Can’t We Catch Up?Judge Kavanaugh’s Former Clerks: Diverse, and Deployed to Vouch for HimFor Midterms, Supreme Court Political Drama Plays to Its AudiencePfizer to Postpone Some Drug Price Increases, After Criticism From TrumpAshlee Simpson’s New RealityThe Proof Is in Their PalatesBoris Johnson Criticized for Posing With Resignation LetterWhen Black Performers Use Their ‘White Voice’Review: ‘Gauguin: Voyage to Tahiti’ Doesn’t Make Much of a (Post-) ImpressionRobby Müller, Inventive Cinematographer, Is Dead at 78New York Today: New York Today: The ‘Boy Mayor’ of New YorkNearly 6 Months on the Job, the Subway Chief Finally Meets the MayorAbout New York: The Last 9/11 Fire Chief Bows OutOrioles 6, Yankees 5: Loss to Orioles Offers Yankees a Glimpse of What They Could AcquireOn Soccer: France, With Flash to Spare, Reaches the World Cup FinalA Calm Serena Williams Claims Her Spot in the Wimbledon SemifinalsBrantley in Britain: Women Set London’s Stages AblazeFour Musicals on Three Continents: An Australian Company’s Big BetReview: ‘Antigone’ Asserts Whose Lives Matter, With Modern RelevanceOrcas of the Pacific Northwest Are Starving and DisappearingThe Lost Dogs of the AmericasRhino Embryos Made in Lab to Save Nearly Extinct SubspeciesRobby Müller, Inventive Cinematographer, Is Dead at 78Lord Carrington, 99, Former British Foreign Secretary, DiesRobert D. Ray, Centrist G.O.P. Governor of Iowa, Dies at 89Critic’s Notebook: Trump’s Reality TV Supreme Court Rollout, Slick and Substance-FreeHow ‘A Different World’ Survived the Downfall of Bill CosbyBest of Late Night: Kimmel Calls Out Trump’s ‘Lie’ About Their Relationshipthe healing edge: Dying Organs Restored to Life in Novel ExperimentsThe Power of Positive PeopleOpposition to Breast-Feeding Resolution by U.S. Stuns World Health OfficialsHeads Up: San Antonio’s Summer Homage to SpainQ&A: Where the Shake Shack Founder Loves to TravelThe 52 Places Traveler: Place 21 of 52: Keep Oslo WeirdBooks of The Times: Can Handiwork Save Your Soul? A Quiet Novel Suggests It CanBooks of The Times: Struggling to Love, Work and Do the Right Thing in Putin’s RussiaFiction: A Novel That Reads Like Martin Amis on Mescaline‘Access to Literacy’ Is Not a Constitutional Right, Judge in Detroit RulesColleges and State Laws Are Clamping Down on FraternitiesIn the Age of Trump, Civics Courses Make a ComebackA Restaurant Takes On the Opioid Crisis, One Worker at a TimeRecipe Lab: Mastering Chinese-Style Ribs at HomeRestaurant Review: It’s Not Fake French, It’s FrenchetteFeature: Her Husband Was a Princeton Graduate Student. Then He Was Taken Prisoner in Iran.Feature: The Fast and Furious Michael AvenattiFirst Words: Americans Think ‘Corruption’ Is Everywhere. Is That Why We Vote for It?What I Love: A Manhattan Medici at HomeRenters: A Los Angeles Transplant Decides to StayWhat's Selling Now: Homes That Sold for Around $1,500,000The New Health Care: Sometimes Patients Simply Need Other PatientsThe Unemployment Rate Rose for the Best Possible ReasonThere Isn’t Much the Fed Can Do to Ease the Pain of a Trade WarWhat’s in a Newsletter? At The Times, There’s a Secret SauceCopy Edit This! Quiz No. 13Outsmarted by a Smart TV? Not This Reporter.Tesla’s Latest Aim: Build 500,000 Cars a Year in ChinaNissan Workers in Japan Falsified Emissions Tests, Review SaysWheels: Racing Series Helps Show the Way to a Battery-Powered FutureMy Favorite Artwork | Glenn LigonT’s Best Photographs From Couture WeekOn Beauty: How to Look Well Rested (Even When You’re Not)Homes That Sold for Around $1,500,000Search for Homes for Sale or RentMortgage Calculator\n"
     ]
    },
    {
     "ename": "ValueError",
     "evalue": "I/O operation on closed file.",
     "output_type": "error",
     "traceback": [
      "\u001b[0;31m---------------------------------------------------------------------------\u001b[0m",
      "\u001b[0;31mValueError\u001b[0m                                Traceback (most recent call last)",
      "\u001b[0;32m<ipython-input-10-f8c40f12e1c6>\u001b[0m in \u001b[0;36m<module>\u001b[0;34m()\u001b[0m\n\u001b[1;32m      3\u001b[0m \u001b[0;32mwhile\u001b[0m \u001b[0mline\u001b[0m\u001b[0;34m:\u001b[0m\u001b[0;34m\u001b[0m\u001b[0m\n\u001b[1;32m      4\u001b[0m    \u001b[0mprint\u001b[0m\u001b[0;34m(\u001b[0m\u001b[0mline\u001b[0m\u001b[0;34m)\u001b[0m\u001b[0;34m\u001b[0m\u001b[0m\n\u001b[0;32m----> 5\u001b[0;31m    \u001b[0mline\u001b[0m \u001b[0;34m=\u001b[0m \u001b[0mopen_file\u001b[0m\u001b[0;34m.\u001b[0m\u001b[0mreadline\u001b[0m\u001b[0;34m(\u001b[0m\u001b[0;34m)\u001b[0m\u001b[0;34m\u001b[0m\u001b[0m\n\u001b[0m\u001b[1;32m      6\u001b[0m \u001b[0;34m\u001b[0m\u001b[0m\n\u001b[1;32m      7\u001b[0m \u001b[0;34m\u001b[0m\u001b[0m\n",
      "\u001b[0;31mValueError\u001b[0m: I/O operation on closed file."
     ]
    }
   ],
   "source": [
    " with open('PLIK-21.txt', 'r') as open_file:\n",
    "        line = open_file.readline()\n",
    "while line:\n",
    "    print(line)\n",
    "    line = open_file.readline()\n",
    "    \n",
    "    \n",
    "    \n",
    "    \n",
    "    \n",
    "    \n",
    "    \n",
    "    \n",
    "    "
   ]
  },
  {
   "cell_type": "code",
   "execution_count": 15,
   "metadata": {},
   "outputs": [
    {
     "name": "stdout",
     "output_type": "stream",
     "text": [
      "100\n",
      "200\n",
      "100\n",
      "200\n"
     ]
    }
   ],
   "source": [
    "student_scores = {'Adama': 100, 'Starbuck': 75, 'Apollo': 80, 'Athena': 85, 'Agathon': 90}\n",
    "adama_score = student_scores['Adama']\n",
    "print(adama_score)\n",
    "adama_score += 100\n",
    "print(adama_score)\n",
    "adama_score = student_scores['Adama']\n",
    "print(adama_score)\n",
    "adama_score += 100\n",
    "student_scores['Adama'] = adama_score\n",
    "adama_score = student_scores['Adama']\n",
    "print(adama_score)"
   ]
  },
  {
   "cell_type": "code",
   "execution_count": 17,
   "metadata": {},
   "outputs": [
    {
     "name": "stdout",
     "output_type": "stream",
     "text": [
      "dict_keys(['Adama', 'Starbuck', 'Apollo', 'Athena', 'Agathon'])\n",
      "dict_values([200, 75, 80, 85, 90])\n"
     ]
    }
   ],
   "source": [
    "all_scores = student_scores.keys()\n",
    "all_names = student_scores.values()\n",
    "print(all_scores)\n",
    "print(all_names)"
   ]
  },
  {
   "cell_type": "code",
   "execution_count": 19,
   "metadata": {},
   "outputs": [
    {
     "name": "stdout",
     "output_type": "stream",
     "text": [
      "('Adama', 200)\n",
      "('Starbuck', 75)\n",
      "('Apollo', 80)\n",
      "('Athena', 85)\n",
      "('Agathon', 90)\n"
     ]
    }
   ],
   "source": [
    "for pair in student_scores.items():\n",
    "      print(pair)"
   ]
  },
  {
   "cell_type": "code",
   "execution_count": 29,
   "metadata": {},
   "outputs": [
    {
     "name": "stdout",
     "output_type": "stream",
     "text": [
      "['Darth', 'Luke', 'Darth', 'Lea', 'Darth', 'Lea', 'Lea', 'Luke', 'Darth', 'Lea', 'Darth', 'Darth', 'Lea', 'Lea', 'Darth', 'Lea', 'Darth', 'Lea', 'Luke', 'Darth', 'Lea', 'Lea', 'Darth', 'Lea', 'Darth', 'Darth', 'Lea', 'Lea', 'Luke', 'Luke', 'Lea', 'Darth', 'Darth', 'Luke', 'Lea', 'Darth', 'Darth', 'Lea', 'Lea', 'Lea', 'Lea', 'Lea', 'Luke', 'Darth', 'Luke', 'Lea', 'Lea', 'Lea', 'Lea', 'Luke', 'Lea', 'Darth', 'Lea', 'Lea', 'Darth', 'Lea', 'Lea', 'Darth', 'Darth', 'Lea', 'Darth', 'Lea', 'Darth', 'Luke', 'Lea', 'Luke', 'Darth', 'Darth', 'Luke', 'Darth', 'Lea', 'Darth', 'Lea', 'Luke', 'Lea', 'Lea', 'Lea', 'Lea', 'Lea', 'Darth', 'Lea', 'Lea', 'Lea', 'Lea', 'Lea', 'Lea', 'Lea', 'Luke', 'Lea', 'Lea', 'Lea', 'Lea', 'Lea', 'Lea', 'Darth', 'Luke', 'Darth', 'Lea', 'Lea', 'Darth', ''] 101\n",
      "\n",
      "{'', 'Lea', 'Luke', 'Darth'} 4\n"
     ]
    }
   ],
   "source": [
    "file = open('pomoc.txt', 'r')\n",
    "table = []\n",
    "line = file.readline().strip('\\n')\n",
    "table.append(line)\n",
    "while line:\n",
    "    line = file.readline().strip('\\n')\n",
    "    table.append(line)\n",
    "\n",
    "file.close() \n",
    "print(table,len(table))\n",
    "print()\n",
    "table = set(table)\n",
    "print(table,len(table))\n"
   ]
  },
  {
   "cell_type": "code",
   "execution_count": 2,
   "metadata": {
    "scrolled": true
   },
   "outputs": [
    {
     "name": "stdout",
     "output_type": "stream",
     "text": [
      "dict_items([('a/abbey', 50), ('a/airplane_cabin', 50), ('a/airport_terminal', 50), ('a/alley', 50), ('a/amphitheater', 50), ('a/amusement_arcade', 50), ('a/amusement_park', 50), ('a/anechoic_chamber', 50), ('a/apartment_building/outdoor', 50), ('a/apse/indoor', 50), ('a/aquarium', 50), ('a/aqueduct', 50), ('a/arch', 50), ('a/archive', 50), ('a/arrival_gate/outdoor', 50), ('a/art_gallery', 50), ('a/art_school', 50), ('a/art_studio', 50), ('a/assembly_line', 50), ('a/athletic_field/outdoor', 50), ('a/atrium/public', 50), ('a/attic', 50), ('a/auditorium', 50), ('a/auto_factory', 50), ('b/badlands', 50), ('b/badminton_court/indoor', 50), ('b/baggage_claim', 50), ('b/bakery/shop', 50), ('b/balcony/exterior', 50), ('b/balcony/interior', 50), ('b/ball_pit', 50), ('b/ballroom', 50), ('b/bamboo_forest', 50), ('b/banquet_hall', 50), ('b/bar', 50), ('b/barn', 50), ('b/barndoor', 50), ('b/baseball_field', 50), ('b/basement', 50), ('b/basilica', 50), ('b/basketball_court/outdoor', 50), ('b/bathroom', 50), ('b/batters_box', 50), ('b/bayou', 50), ('b/bazaar/indoor', 50), ('b/bazaar/outdoor', 50), ('b/beach', 50), ('b/beauty_salon', 50), ('b/bedroom', 50), ('b/berth', 50), ('b/biology_laboratory', 50), ('b/bistro/indoor', 50), ('b/boardwalk', 50), ('b/boat_deck', 50), ('b/boathouse', 50), ('b/bookstore', 50), ('b/booth/indoor', 50), ('b/botanical_garden', 50), ('b/bow_window/indoor', 50), ('b/bow_window/outdoor', 50), ('b/bowling_alley', 50), ('b/boxing_ring', 50), ('b/brewery/indoor', 50), ('b/bridge', 50), ('b/building_facade', 50), ('b/bullring', 50), ('b/burial_chamber', 50), ('b/bus_interior', 50), ('b/butchers_shop', 50), ('b/butte', 50), ('c/cabin/outdoor', 50), ('c/cafeteria', 50), ('c/campsite', 50), ('c/campus', 50), ('c/canal/natural', 50), ('c/canal/urban', 50), ('c/candy_store', 50), ('c/canyon', 50), ('c/car_interior/backseat', 50), ('c/car_interior/frontseat', 50), ('c/carrousel', 50), ('c/casino/indoor', 50), ('c/castle', 50), ('c/catacomb', 50), ('c/cathedral/indoor', 50), ('c/cathedral/outdoor', 50), ('c/cavern/indoor', 50), ('c/cemetery', 50), ('c/chalet', 50), ('c/cheese_factory', 50), ('c/chemistry_lab', 50), ('c/chicken_coop/indoor', 50), ('c/chicken_coop/outdoor', 50), ('c/childs_room', 50), ('c/church/indoor', 50), ('c/church/outdoor', 50), ('c/classroom', 50), ('c/clean_room', 50), ('c/cliff', 50), ('c/cloister/indoor', 50), ('c/closet', 50), ('c/clothing_store', 50), ('c/coast', 50), ('c/cockpit', 50), ('c/coffee_shop', 50), ('c/computer_room', 50), ('c/conference_center', 50), ('c/conference_room', 50), ('c/construction_site', 50), ('c/control_room', 50), ('c/control_tower/outdoor', 50), ('c/corn_field', 50), ('c/corral', 50), ('c/corridor', 50), ('c/cottage_garden', 50), ('c/courthouse', 50), ('c/courtroom', 50), ('c/courtyard', 50), ('c/covered_bridge/exterior', 50), ('c/creek', 50), ('c/crevasse', 50), ('c/crosswalk', 50), ('c/cubicle/office', 50), ('d/dam', 50), ('d/delicatessen', 50), ('d/dentists_office', 50), ('d/desert/sand', 50), ('d/desert/vegetation', 50), ('d/diner/indoor', 50), ('d/diner/outdoor', 50), ('d/dinette/home', 50), ('d/dinette/vehicle', 50), ('d/dining_car', 50), ('d/dining_room', 50), ('d/discotheque', 50), ('d/dock', 50), ('d/doorway/outdoor', 50), ('d/dorm_room', 50), ('d/driveway', 50), ('d/driving_range/outdoor', 50), ('d/drugstore', 50), ('e/electrical_substation', 50), ('e/elevator/door', 50), ('e/elevator/interior', 50), ('e/elevator_shaft', 50), ('e/engine_room', 50), ('e/escalator/indoor', 50), ('e/excavation', 50), ('f/factory/indoor', 50), ('f/fairway', 50), ('f/fastfood_restaurant', 50), ('f/field/cultivated', 50), ('f/field/wild', 50), ('f/fire_escape', 50), ('f/fire_station', 50), ('f/firing_range/indoor', 50), ('f/fishpond', 50), ('f/florist_shop/indoor', 50), ('f/food_court', 50), ('f/forest/broadleaf', 50), ('f/forest/needleleaf', 50), ('f/forest_path', 50), ('f/forest_road', 50), ('f/formal_garden', 50), ('f/fountain', 50), ('g/galley', 50), ('g/game_room', 50), ('g/garage/indoor', 50), ('g/garbage_dump', 50), ('g/gas_station', 50), ('g/gazebo/exterior', 50), ('g/general_store/indoor', 50), ('g/general_store/outdoor', 50), ('g/gift_shop', 50), ('g/golf_course', 50), ('g/greenhouse/indoor', 50), ('g/greenhouse/outdoor', 50), ('g/gymnasium/indoor', 50), ('h/hangar/indoor', 50), ('h/hangar/outdoor', 50), ('h/harbor', 50), ('h/hayfield', 50), ('h/heliport', 50), ('h/herb_garden', 50), ('h/highway', 50), ('h/hill', 50), ('h/home_office', 50), ('h/hospital', 50), ('h/hospital_room', 50), ('h/hot_spring', 50), ('h/hot_tub/outdoor', 50), ('h/hotel/outdoor', 50), ('h/hotel_room', 50), ('h/house', 50), ('h/hunting_lodge/outdoor', 50), ('i/ice_cream_parlor', 50), ('i/ice_floe', 50), ('i/ice_shelf', 50), ('i/ice_skating_rink/indoor', 50), ('i/ice_skating_rink/outdoor', 50), ('i/iceberg', 50), ('i/igloo', 50), ('i/industrial_area', 50), ('i/inn/outdoor', 50), ('i/islet', 50), ('j/jacuzzi/indoor', 50), ('j/jail/indoor', 50), ('j/jail_cell', 50), ('j/jewelry_shop', 50), ('k/kasbah', 50), ('k/kennel/indoor', 50), ('k/kennel/outdoor', 50), ('k/kindergarden_classroom', 50), ('k/kitchen', 50), ('k/kitchenette', 50), ('l/labyrinth/outdoor', 50), ('l/lake/natural', 50), ('l/landfill', 50), ('l/landing_deck', 50), ('l/laundromat', 50), ('l/lecture_room', 50), ('l/library/indoor', 50), ('l/library/outdoor', 50), ('l/lido_deck/outdoor', 50), ('l/lift_bridge', 50), ('l/lighthouse', 50), ('l/limousine_interior', 50), ('l/living_room', 50), ('l/lobby', 50), ('l/lock_chamber', 50), ('l/locker_room', 50), ('m/mansion', 50), ('m/manufactured_home', 50), ('m/market/indoor', 50), ('m/market/outdoor', 50), ('m/marsh', 50), ('m/martial_arts_gym', 50), ('m/mausoleum', 50), ('m/medina', 50), ('m/moat/water', 50), ('m/monastery/outdoor', 50), ('m/mosque/indoor', 50), ('m/mosque/outdoor', 50), ('m/motel', 50), ('m/mountain', 50), ('m/mountain_snowy', 50), ('m/movie_theater/indoor', 50), ('m/museum/indoor', 50), ('m/music_store', 50), ('m/music_studio', 50), ('n/nuclear_power_plant/outdoor', 50), ('n/nursery', 50), ('o/oast_house', 50), ('o/observatory/outdoor', 50), ('o/ocean', 50), ('o/office', 50), ('o/office_building', 50), ('o/oil_refinery/outdoor', 50), ('o/oilrig', 50), ('o/operating_room', 50), ('o/orchard', 50), ('o/outhouse/outdoor', 50), ('p/pagoda', 50), ('p/palace', 50), ('p/pantry', 50), ('p/park', 50), ('p/parking_garage/indoor', 50), ('p/parking_garage/outdoor', 50), ('p/parking_lot', 50), ('p/parlor', 50), ('p/pasture', 50), ('p/patio', 50), ('p/pavilion', 50), ('p/pharmacy', 50), ('p/phone_booth', 50), ('p/physics_laboratory', 50), ('p/picnic_area', 50), ('p/pilothouse/indoor', 50), ('p/planetarium/outdoor', 50), ('p/playground', 50), ('p/playroom', 50), ('p/plaza', 50), ('p/podium/indoor', 50), ('p/podium/outdoor', 50), ('p/pond', 50), ('p/poolroom/establishment', 50), ('p/poolroom/home', 50), ('p/power_plant/outdoor', 50), ('p/promenade_deck', 50), ('p/pub/indoor', 50), ('p/pulpit', 50), ('p/putting_green', 50), ('r/racecourse', 50), ('r/raceway', 50), ('r/raft', 50), ('r/railroad_track', 50), ('r/rainforest', 50), ('r/reception', 50), ('r/recreation_room', 50), ('r/residential_neighborhood', 50), ('r/restaurant', 50), ('r/restaurant_kitchen', 50), ('r/restaurant_patio', 50), ('r/rice_paddy', 50), ('r/riding_arena', 50), ('r/river', 50), ('r/rock_arch', 50), ('r/rope_bridge', 50), ('r/ruin', 50), ('r/runway', 50), ('s/sandbar', 50), ('s/sandbox', 50), ('s/sauna', 50), ('s/schoolhouse', 50), ('s/sea_cliff', 50), ('s/server_room', 50), ('s/shed', 50), ('s/shoe_shop', 50), ('s/shopfront', 50), ('s/shopping_mall/indoor', 50), ('s/shower', 50), ('s/skatepark', 50), ('s/ski_lodge', 50), ('s/ski_resort', 50), ('s/ski_slope', 50), ('s/sky', 50), ('s/skyscraper', 50), ('s/slum', 50), ('s/snowfield', 50), ('s/squash_court', 50), ('s/stable', 50), ('s/stadium/baseball', 50), ('s/stadium/football', 50), ('s/stage/indoor', 50), ('s/staircase', 50), ('s/street', 50), ('s/subway_interior', 50), ('s/subway_station/platform', 50), ('s/supermarket', 50), ('s/sushi_bar', 50), ('s/swamp', 50), ('s/swimming_pool/indoor', 50), ('s/swimming_pool/outdoor', 50), ('s/synagogue/indoor', 50), ('s/synagogue/outdoor', 50), ('t/television_studio', 50), ('t/temple/east_asia', 50), ('t/temple/south_asia', 50), ('t/tennis_court/indoor', 50), ('t/tennis_court/outdoor', 50), ('t/tent/outdoor', 50), ('t/theater/indoor_procenium', 50), ('t/theater/indoor_seats', 50), ('t/thriftshop', 50), ('t/throne_room', 50), ('t/ticket_booth', 50), ('t/toll_plaza', 50), ('t/topiary_garden', 50), ('t/tower', 50), ('t/toyshop', 50), ('t/track/outdoor', 50), ('t/train_railway', 50), ('t/train_station/platform', 50), ('t/tree_farm', 50), ('t/tree_house', 50), ('t/trench', 50), ('u/underwater/coral_reef', 50), ('u/utility_room', 50), ('v/valley', 50), ('v/van_interior', 50), ('v/vegetable_garden', 50), ('v/veranda', 50), ('v/veterinarians_office', 50), ('v/viaduct', 50), ('v/videostore', 50), ('v/village', 50), ('v/vineyard', 50), ('v/volcano', 50), ('v/volleyball_court/indoor', 50), ('v/volleyball_court/outdoor', 50), ('w/waiting_room', 50), ('w/warehouse/indoor', 50), ('w/water_tower', 50), ('w/waterfall/block', 50), ('w/waterfall/fan', 50), ('w/waterfall/plunge', 50), ('w/watering_hole', 50), ('w/wave', 50), ('w/wet_bar', 50), ('w/wheat_field', 50), ('w/wind_farm', 50), ('w/windmill', 50), ('w/wine_cellar/barrel_storage', 50), ('w/wine_cellar/bottle_storage', 50), ('w/wrestling_ring/indoor', 50), ('y/yard', 50), ('y/youth_hostel', 50), ('', 1)])\n"
     ]
    }
   ],
   "source": [
    "file = open('pomoc2.txt', 'r')\n",
    "table = []\n",
    "line = file.readline().strip('\\n')\n",
    "line2 = line.split('/')\n",
    "line2 = line2[1:-1]\n",
    "table.append(line2)\n",
    "while line:\n",
    "    line = file.readline().strip('\\n')\n",
    "    line2 = line.split('/')\n",
    "    line2 = line2[1:-1]\n",
    "    table.append(line2)\n",
    "\n",
    "file.close() \n",
    "a =[ \"/\".join(x) for x in table ]\n",
    "#print(a)\n",
    "\n",
    "dict1 = {}\n",
    "for x in a:\n",
    "    if x in dict1:\n",
    "        dict1[x] += 1\n",
    "    else:\n",
    "        dict1[x] = 1\n",
    "\n",
    "print(dict1.items())\n",
    "\n"
   ]
  },
  {
   "cell_type": "code",
   "execution_count": null,
   "metadata": {},
   "outputs": [],
   "source": []
  },
  {
   "cell_type": "code",
   "execution_count": 81,
   "metadata": {
    "scrolled": true
   },
   "outputs": [
    {
     "name": "stdout",
     "output_type": "stream",
     "text": [
      "19850\n"
     ]
    }
   ],
   "source": [
    "counter_dict = {}\n",
    "with open('pomoc2.txt') as f:\n",
    "    line = f.readline()\n",
    "    while line:\n",
    "        line = line.strip()\n",
    "        if line in counter_dict:\n",
    "            counter_dict[line] += 1\n",
    "        else:\n",
    "            counter_dict[line] = 1\n",
    "        line = f.readline()\n",
    "\n",
    "#print(counter_dict)\n",
    "print(len(counter_dict.keys()))"
   ]
  },
  {
   "cell_type": "code",
   "execution_count": null,
   "metadata": {},
   "outputs": [],
   "source": []
  }
 ],
 "metadata": {
  "kernelspec": {
   "display_name": "Python 3",
   "language": "python",
   "name": "python3"
  },
  "language_info": {
   "codemirror_mode": {
    "name": "ipython",
    "version": 3
   },
   "file_extension": ".py",
   "mimetype": "text/x-python",
   "name": "python",
   "nbconvert_exporter": "python",
   "pygments_lexer": "ipython3",
   "version": "3.6.5"
  }
 },
 "nbformat": 4,
 "nbformat_minor": 2
}
