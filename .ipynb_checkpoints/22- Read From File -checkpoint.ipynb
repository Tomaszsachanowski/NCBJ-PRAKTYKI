{
 "cells": [
  {
   "cell_type": "code",
   "execution_count": 8,
   "metadata": {
    "scrolled": true
   },
   "outputs": [
    {
     "name": "stdout",
     "output_type": "stream",
     "text": [
      "Trump Starts Off NATO Summit by Calling Allies ‘Delinquent’Baltic Nations Are Worried as Trump Calls NATO ObsoleteTrump Falsely Claims It’s ‘Impossible’ for U.S. Farmers to Do Business in EuropeTrump Subpoena May Put Nominee’s Legal Theory to the TestFor Midterms, Court Political Drama Plays to Its AudienceKavanaugh on Abortion, Guns, Climate and More‘He Didn’t Recognize Me’: Tearful Scenes as Migrants ReuniteFor Many L.G.B.T. Migrants, No Refuge North of the BorderShe Is Fighting to Save Her Husband, a Prisoner in IranSome Thai Boys Stuck in Cave Had Already Beaten Long OddsFacebook Is Fined in Britain Over Leak to Cambridge AnalyticaFox Raises Its Bid in Sky Takeover EffortGrants to Help People Sign Up for Health Insurance to Be CutRussell Simmons Faces New Rape AccusationHow Trump’s Trade War Went From 18 Products to 10,000Your Wednesday BriefingListen to ‘The Daily’: Judge’s Change of HeartHurricane Season Has Begun. Do You Need Flood Insurance?Graduation Gift IdeasOakland in Their Bones, and in Their FilmsFrance, With Flash to Spare, Reaches the World Cup FinalWorld Cup Brings England Together at a Time of DivisionThe Brain Science Behind All That SpittingCambodia’s Leader Has Opponents, but No CompetitionSolar Plan Shows Divisions in Pacific NorthwestMargaret Hoover and John Avlon on Their MarriageNew York’s Transplant Situation Is DireAre IDs Meant to Protect Immigrants a Liability?9 Ways to Get the Most Out of Your Times SubscriptionIt’s Summer. Finally.Gender LetterNew Zealand’s Nurses Plan Walkout, Testing Jacinda Ardern’s GovernmentThailand, NATO, World Cup: Your Wednesday BriefingA Lesson in Demonizing RefugeesMastering Chinese-Style Ribs at HomeThe Urbane Bookworm: Robert Gottlieb’s EssaysWhen Black Performers Use Their ‘White Voice’Someone Should Tell Trump About America’s High TariffsWhat America Gets Out of NATOBruni: The Center Is Sexier Than You ThinkA Day Off From the WorldA Victory for Mexican DemocracyFor Gays, the Worst Is Yet to Come. Again.In Pakistan, Nawaz Sharif Fights for SurvivalA Doctor’s ResponsibilityDo You Care About the Rule of Law? Act Like ItLike Brexit, but More OrangeKrugman: Brexit Meets GravityBoris Johnson Has Ruined BritainThis World Cup, Remember the Russian PeopleSign Up for Our World Cup Newsletter »‘I Couldn’t Tell Anyone’: Women Around the World Reveal Intimate Stories of AbortionCopy Edit This! Quiz No. 13Play Today’s Puzzle‘I Couldn’t Tell Anyone’: Women Around the World Reveal Intimate Stories of AbortionPlay Today’s PuzzlePlay Today’s PuzzleBest of Late Night: Thai Cave Lessons for TrumpBoris Johnson Has Ruined BritainA Survival Guide for the Fourth TrimesterHow to Look Well Rested (Even When You’re Not)If the Supreme Court Is Nakedly Political, Can It Be Just?The Power of Positive PeopleLive Briefing: NATO Summit Updates: Trump Says Alliance ‘Delinquent’ on Military SpendingHow Rescuers Pulled Off the Impossible in a Treacherous Thai CaveA Homecoming for Nigerians Who Fled Militants. All That’s Missing Is the ‘Home.’How Trump’s Trade War Went From 18 Products to 10,000U.S. Threatens Tariffs on $200 Billion of Chinese Goods, From Tilapia to HandbagsFox Raises Its Bid in Sky Takeover EffortSomeone Should Tell Donald Trump About America’s High TariffsDo You Care About the Rule of Law? Then Act Like ItWhat America Gets Out of NATOFor Many L.G.B.T. Migrants, North of the Border Is No RefugeDancing F.B.I. Agent Facing Assault Charge Can Carry Gun Again, Judge RulesSolar Plan Collides With Farm Tradition in Pacific NorthwestFacebook Is Fined in Britain Over Cambridge Analytica Data LeakCisco Chief Executive’s New Mantra: Simplify Computer NetworksA Tech Guru Captivated Canada. Then He Fled to China.How One Tweet About Nicki Minaj Spiraled Into Internet ChaosCritic’s Notebook: Trump’s Reality TV Supreme Court Rollout, Slick and Substance-FreeOn Comedy: Bobcat Goldthwait Has Moved On. Why Can’t We Catch Up?Judge Kavanaugh’s Former Clerks: Diverse, and Deployed to Vouch for HimFor Midterms, Supreme Court Political Drama Plays to Its AudiencePfizer to Postpone Some Drug Price Increases, After Criticism From TrumpAshlee Simpson’s New RealityThe Proof Is in Their PalatesBoris Johnson Criticized for Posing With Resignation LetterWhen Black Performers Use Their ‘White Voice’Review: ‘Gauguin: Voyage to Tahiti’ Doesn’t Make Much of a (Post-) ImpressionRobby Müller, Inventive Cinematographer, Is Dead at 78New York Today: New York Today: The ‘Boy Mayor’ of New YorkNearly 6 Months on the Job, the Subway Chief Finally Meets the MayorAbout New York: The Last 9/11 Fire Chief Bows OutOrioles 6, Yankees 5: Loss to Orioles Offers Yankees a Glimpse of What They Could AcquireOn Soccer: France, With Flash to Spare, Reaches the World Cup FinalA Calm Serena Williams Claims Her Spot in the Wimbledon SemifinalsBrantley in Britain: Women Set London’s Stages AblazeFour Musicals on Three Continents: An Australian Company’s Big BetReview: ‘Antigone’ Asserts Whose Lives Matter, With Modern RelevanceOrcas of the Pacific Northwest Are Starving and DisappearingThe Lost Dogs of the AmericasRhino Embryos Made in Lab to Save Nearly Extinct SubspeciesRobby Müller, Inventive Cinematographer, Is Dead at 78Lord Carrington, 99, Former British Foreign Secretary, DiesRobert D. Ray, Centrist G.O.P. Governor of Iowa, Dies at 89Critic’s Notebook: Trump’s Reality TV Supreme Court Rollout, Slick and Substance-FreeHow ‘A Different World’ Survived the Downfall of Bill CosbyBest of Late Night: Kimmel Calls Out Trump’s ‘Lie’ About Their Relationshipthe healing edge: Dying Organs Restored to Life in Novel ExperimentsThe Power of Positive PeopleOpposition to Breast-Feeding Resolution by U.S. Stuns World Health OfficialsHeads Up: San Antonio’s Summer Homage to SpainQ&A: Where the Shake Shack Founder Loves to TravelThe 52 Places Traveler: Place 21 of 52: Keep Oslo WeirdBooks of The Times: Can Handiwork Save Your Soul? A Quiet Novel Suggests It CanBooks of The Times: Struggling to Love, Work and Do the Right Thing in Putin’s RussiaFiction: A Novel That Reads Like Martin Amis on Mescaline‘Access to Literacy’ Is Not a Constitutional Right, Judge in Detroit RulesColleges and State Laws Are Clamping Down on FraternitiesIn the Age of Trump, Civics Courses Make a ComebackA Restaurant Takes On the Opioid Crisis, One Worker at a TimeRecipe Lab: Mastering Chinese-Style Ribs at HomeRestaurant Review: It’s Not Fake French, It’s FrenchetteFeature: Her Husband Was a Princeton Graduate Student. Then He Was Taken Prisoner in Iran.Feature: The Fast and Furious Michael AvenattiFirst Words: Americans Think ‘Corruption’ Is Everywhere. Is That Why We Vote for It?What I Love: A Manhattan Medici at HomeRenters: A Los Angeles Transplant Decides to StayWhat's Selling Now: Homes That Sold for Around $1,500,000The New Health Care: Sometimes Patients Simply Need Other PatientsThe Unemployment Rate Rose for the Best Possible ReasonThere Isn’t Much the Fed Can Do to Ease the Pain of a Trade WarWhat’s in a Newsletter? At The Times, There’s a Secret SauceCopy Edit This! Quiz No. 13Outsmarted by a Smart TV? Not This Reporter.Tesla’s Latest Aim: Build 500,000 Cars a Year in ChinaNissan Workers in Japan Falsified Emissions Tests, Review SaysWheels: Racing Series Helps Show the Way to a Battery-Powered FutureMy Favorite Artwork | Glenn LigonT’s Best Photographs From Couture WeekOn Beauty: How to Look Well Rested (Even When You’re Not)Homes That Sold for Around $1,500,000Search for Homes for Sale or RentMortgage Calculator\n"
     ]
    }
   ],
   "source": [
    "with open('PLIK-21.txt', 'r') as open_file:\n",
    "    all_text = open_file.read()\n",
    "print(all_text)"
   ]
  },
  {
   "cell_type": "code",
   "execution_count": 10,
   "metadata": {
    "scrolled": true
   },
   "outputs": [
    {
     "name": "stdout",
     "output_type": "stream",
     "text": [
      "Trump Starts Off NATO Summit by Calling Allies ‘Delinquent’Baltic Nations Are Worried as Trump Calls NATO ObsoleteTrump Falsely Claims It’s ‘Impossible’ for U.S. Farmers to Do Business in EuropeTrump Subpoena May Put Nominee’s Legal Theory to the TestFor Midterms, Court Political Drama Plays to Its AudienceKavanaugh on Abortion, Guns, Climate and More‘He Didn’t Recognize Me’: Tearful Scenes as Migrants ReuniteFor Many L.G.B.T. Migrants, No Refuge North of the BorderShe Is Fighting to Save Her Husband, a Prisoner in IranSome Thai Boys Stuck in Cave Had Already Beaten Long OddsFacebook Is Fined in Britain Over Leak to Cambridge AnalyticaFox Raises Its Bid in Sky Takeover EffortGrants to Help People Sign Up for Health Insurance to Be CutRussell Simmons Faces New Rape AccusationHow Trump’s Trade War Went From 18 Products to 10,000Your Wednesday BriefingListen to ‘The Daily’: Judge’s Change of HeartHurricane Season Has Begun. Do You Need Flood Insurance?Graduation Gift IdeasOakland in Their Bones, and in Their FilmsFrance, With Flash to Spare, Reaches the World Cup FinalWorld Cup Brings England Together at a Time of DivisionThe Brain Science Behind All That SpittingCambodia’s Leader Has Opponents, but No CompetitionSolar Plan Shows Divisions in Pacific NorthwestMargaret Hoover and John Avlon on Their MarriageNew York’s Transplant Situation Is DireAre IDs Meant to Protect Immigrants a Liability?9 Ways to Get the Most Out of Your Times SubscriptionIt’s Summer. Finally.Gender LetterNew Zealand’s Nurses Plan Walkout, Testing Jacinda Ardern’s GovernmentThailand, NATO, World Cup: Your Wednesday BriefingA Lesson in Demonizing RefugeesMastering Chinese-Style Ribs at HomeThe Urbane Bookworm: Robert Gottlieb’s EssaysWhen Black Performers Use Their ‘White Voice’Someone Should Tell Trump About America’s High TariffsWhat America Gets Out of NATOBruni: The Center Is Sexier Than You ThinkA Day Off From the WorldA Victory for Mexican DemocracyFor Gays, the Worst Is Yet to Come. Again.In Pakistan, Nawaz Sharif Fights for SurvivalA Doctor’s ResponsibilityDo You Care About the Rule of Law? Act Like ItLike Brexit, but More OrangeKrugman: Brexit Meets GravityBoris Johnson Has Ruined BritainThis World Cup, Remember the Russian PeopleSign Up for Our World Cup Newsletter »‘I Couldn’t Tell Anyone’: Women Around the World Reveal Intimate Stories of AbortionCopy Edit This! Quiz No. 13Play Today’s Puzzle‘I Couldn’t Tell Anyone’: Women Around the World Reveal Intimate Stories of AbortionPlay Today’s PuzzlePlay Today’s PuzzleBest of Late Night: Thai Cave Lessons for TrumpBoris Johnson Has Ruined BritainA Survival Guide for the Fourth TrimesterHow to Look Well Rested (Even When You’re Not)If the Supreme Court Is Nakedly Political, Can It Be Just?The Power of Positive PeopleLive Briefing: NATO Summit Updates: Trump Says Alliance ‘Delinquent’ on Military SpendingHow Rescuers Pulled Off the Impossible in a Treacherous Thai CaveA Homecoming for Nigerians Who Fled Militants. All That’s Missing Is the ‘Home.’How Trump’s Trade War Went From 18 Products to 10,000U.S. Threatens Tariffs on $200 Billion of Chinese Goods, From Tilapia to HandbagsFox Raises Its Bid in Sky Takeover EffortSomeone Should Tell Donald Trump About America’s High TariffsDo You Care About the Rule of Law? Then Act Like ItWhat America Gets Out of NATOFor Many L.G.B.T. Migrants, North of the Border Is No RefugeDancing F.B.I. Agent Facing Assault Charge Can Carry Gun Again, Judge RulesSolar Plan Collides With Farm Tradition in Pacific NorthwestFacebook Is Fined in Britain Over Cambridge Analytica Data LeakCisco Chief Executive’s New Mantra: Simplify Computer NetworksA Tech Guru Captivated Canada. Then He Fled to China.How One Tweet About Nicki Minaj Spiraled Into Internet ChaosCritic’s Notebook: Trump’s Reality TV Supreme Court Rollout, Slick and Substance-FreeOn Comedy: Bobcat Goldthwait Has Moved On. Why Can’t We Catch Up?Judge Kavanaugh’s Former Clerks: Diverse, and Deployed to Vouch for HimFor Midterms, Supreme Court Political Drama Plays to Its AudiencePfizer to Postpone Some Drug Price Increases, After Criticism From TrumpAshlee Simpson’s New RealityThe Proof Is in Their PalatesBoris Johnson Criticized for Posing With Resignation LetterWhen Black Performers Use Their ‘White Voice’Review: ‘Gauguin: Voyage to Tahiti’ Doesn’t Make Much of a (Post-) ImpressionRobby Müller, Inventive Cinematographer, Is Dead at 78New York Today: New York Today: The ‘Boy Mayor’ of New YorkNearly 6 Months on the Job, the Subway Chief Finally Meets the MayorAbout New York: The Last 9/11 Fire Chief Bows OutOrioles 6, Yankees 5: Loss to Orioles Offers Yankees a Glimpse of What They Could AcquireOn Soccer: France, With Flash to Spare, Reaches the World Cup FinalA Calm Serena Williams Claims Her Spot in the Wimbledon SemifinalsBrantley in Britain: Women Set London’s Stages AblazeFour Musicals on Three Continents: An Australian Company’s Big BetReview: ‘Antigone’ Asserts Whose Lives Matter, With Modern RelevanceOrcas of the Pacific Northwest Are Starving and DisappearingThe Lost Dogs of the AmericasRhino Embryos Made in Lab to Save Nearly Extinct SubspeciesRobby Müller, Inventive Cinematographer, Is Dead at 78Lord Carrington, 99, Former British Foreign Secretary, DiesRobert D. Ray, Centrist G.O.P. Governor of Iowa, Dies at 89Critic’s Notebook: Trump’s Reality TV Supreme Court Rollout, Slick and Substance-FreeHow ‘A Different World’ Survived the Downfall of Bill CosbyBest of Late Night: Kimmel Calls Out Trump’s ‘Lie’ About Their Relationshipthe healing edge: Dying Organs Restored to Life in Novel ExperimentsThe Power of Positive PeopleOpposition to Breast-Feeding Resolution by U.S. Stuns World Health OfficialsHeads Up: San Antonio’s Summer Homage to SpainQ&A: Where the Shake Shack Founder Loves to TravelThe 52 Places Traveler: Place 21 of 52: Keep Oslo WeirdBooks of The Times: Can Handiwork Save Your Soul? A Quiet Novel Suggests It CanBooks of The Times: Struggling to Love, Work and Do the Right Thing in Putin’s RussiaFiction: A Novel That Reads Like Martin Amis on Mescaline‘Access to Literacy’ Is Not a Constitutional Right, Judge in Detroit RulesColleges and State Laws Are Clamping Down on FraternitiesIn the Age of Trump, Civics Courses Make a ComebackA Restaurant Takes On the Opioid Crisis, One Worker at a TimeRecipe Lab: Mastering Chinese-Style Ribs at HomeRestaurant Review: It’s Not Fake French, It’s FrenchetteFeature: Her Husband Was a Princeton Graduate Student. Then He Was Taken Prisoner in Iran.Feature: The Fast and Furious Michael AvenattiFirst Words: Americans Think ‘Corruption’ Is Everywhere. Is That Why We Vote for It?What I Love: A Manhattan Medici at HomeRenters: A Los Angeles Transplant Decides to StayWhat's Selling Now: Homes That Sold for Around $1,500,000The New Health Care: Sometimes Patients Simply Need Other PatientsThe Unemployment Rate Rose for the Best Possible ReasonThere Isn’t Much the Fed Can Do to Ease the Pain of a Trade WarWhat’s in a Newsletter? At The Times, There’s a Secret SauceCopy Edit This! Quiz No. 13Outsmarted by a Smart TV? Not This Reporter.Tesla’s Latest Aim: Build 500,000 Cars a Year in ChinaNissan Workers in Japan Falsified Emissions Tests, Review SaysWheels: Racing Series Helps Show the Way to a Battery-Powered FutureMy Favorite Artwork | Glenn LigonT’s Best Photographs From Couture WeekOn Beauty: How to Look Well Rested (Even When You’re Not)Homes That Sold for Around $1,500,000Search for Homes for Sale or RentMortgage Calculator\n"
     ]
    },
    {
     "ename": "ValueError",
     "evalue": "I/O operation on closed file.",
     "output_type": "error",
     "traceback": [
      "\u001b[0;31m---------------------------------------------------------------------------\u001b[0m",
      "\u001b[0;31mValueError\u001b[0m                                Traceback (most recent call last)",
      "\u001b[0;32m<ipython-input-10-f8c40f12e1c6>\u001b[0m in \u001b[0;36m<module>\u001b[0;34m()\u001b[0m\n\u001b[1;32m      3\u001b[0m \u001b[0;32mwhile\u001b[0m \u001b[0mline\u001b[0m\u001b[0;34m:\u001b[0m\u001b[0;34m\u001b[0m\u001b[0m\n\u001b[1;32m      4\u001b[0m    \u001b[0mprint\u001b[0m\u001b[0;34m(\u001b[0m\u001b[0mline\u001b[0m\u001b[0;34m)\u001b[0m\u001b[0;34m\u001b[0m\u001b[0m\n\u001b[0;32m----> 5\u001b[0;31m    \u001b[0mline\u001b[0m \u001b[0;34m=\u001b[0m \u001b[0mopen_file\u001b[0m\u001b[0;34m.\u001b[0m\u001b[0mreadline\u001b[0m\u001b[0;34m(\u001b[0m\u001b[0;34m)\u001b[0m\u001b[0;34m\u001b[0m\u001b[0m\n\u001b[0m\u001b[1;32m      6\u001b[0m \u001b[0;34m\u001b[0m\u001b[0m\n\u001b[1;32m      7\u001b[0m \u001b[0;34m\u001b[0m\u001b[0m\n",
      "\u001b[0;31mValueError\u001b[0m: I/O operation on closed file."
     ]
    }
   ],
   "source": [
    " with open('PLIK-21.txt', 'r') as open_file:\n",
    "        line = open_file.readline()\n",
    "while line:\n",
    "    print(line)\n",
    "    line = open_file.readline()\n",
    "    \n",
    "    \n",
    "    \n",
    "    \n",
    "    \n",
    "    \n",
    "    \n",
    "    \n",
    "    "
   ]
  },
  {
   "cell_type": "code",
   "execution_count": 15,
   "metadata": {},
   "outputs": [
    {
     "name": "stdout",
     "output_type": "stream",
     "text": [
      "100\n",
      "200\n",
      "100\n",
      "200\n"
     ]
    }
   ],
   "source": [
    "student_scores = {'Adama': 100, 'Starbuck': 75, 'Apollo': 80, 'Athena': 85, 'Agathon': 90}\n",
    "adama_score = student_scores['Adama']\n",
    "print(adama_score)\n",
    "adama_score += 100\n",
    "print(adama_score)\n",
    "adama_score = student_scores['Adama']\n",
    "print(adama_score)\n",
    "adama_score += 100\n",
    "student_scores['Adama'] = adama_score\n",
    "adama_score = student_scores['Adama']\n",
    "print(adama_score)"
   ]
  },
  {
   "cell_type": "code",
   "execution_count": 17,
   "metadata": {},
   "outputs": [
    {
     "name": "stdout",
     "output_type": "stream",
     "text": [
      "dict_keys(['Adama', 'Starbuck', 'Apollo', 'Athena', 'Agathon'])\n",
      "dict_values([200, 75, 80, 85, 90])\n"
     ]
    }
   ],
   "source": [
    "all_scores = student_scores.keys()\n",
    "all_names = student_scores.values()\n",
    "print(all_scores)\n",
    "print(all_names)"
   ]
  },
  {
   "cell_type": "code",
   "execution_count": 19,
   "metadata": {},
   "outputs": [
    {
     "name": "stdout",
     "output_type": "stream",
     "text": [
      "('Adama', 200)\n",
      "('Starbuck', 75)\n",
      "('Apollo', 80)\n",
      "('Athena', 85)\n",
      "('Agathon', 90)\n"
     ]
    }
   ],
   "source": [
    "for pair in student_scores.items():\n",
    "      print(pair)"
   ]
  },
  {
   "cell_type": "code",
   "execution_count": 29,
   "metadata": {},
   "outputs": [
    {
     "name": "stdout",
     "output_type": "stream",
     "text": [
      "['Darth', 'Luke', 'Darth', 'Lea', 'Darth', 'Lea', 'Lea', 'Luke', 'Darth', 'Lea', 'Darth', 'Darth', 'Lea', 'Lea', 'Darth', 'Lea', 'Darth', 'Lea', 'Luke', 'Darth', 'Lea', 'Lea', 'Darth', 'Lea', 'Darth', 'Darth', 'Lea', 'Lea', 'Luke', 'Luke', 'Lea', 'Darth', 'Darth', 'Luke', 'Lea', 'Darth', 'Darth', 'Lea', 'Lea', 'Lea', 'Lea', 'Lea', 'Luke', 'Darth', 'Luke', 'Lea', 'Lea', 'Lea', 'Lea', 'Luke', 'Lea', 'Darth', 'Lea', 'Lea', 'Darth', 'Lea', 'Lea', 'Darth', 'Darth', 'Lea', 'Darth', 'Lea', 'Darth', 'Luke', 'Lea', 'Luke', 'Darth', 'Darth', 'Luke', 'Darth', 'Lea', 'Darth', 'Lea', 'Luke', 'Lea', 'Lea', 'Lea', 'Lea', 'Lea', 'Darth', 'Lea', 'Lea', 'Lea', 'Lea', 'Lea', 'Lea', 'Lea', 'Luke', 'Lea', 'Lea', 'Lea', 'Lea', 'Lea', 'Lea', 'Darth', 'Luke', 'Darth', 'Lea', 'Lea', 'Darth', ''] 101\n",
      "\n",
      "{'', 'Lea', 'Luke', 'Darth'} 4\n"
     ]
    }
   ],
   "source": [
    "file = open('pomoc.txt', 'r')\n",
    "table = []\n",
    "line = file.readline().strip('\\n')\n",
    "table.append(line)\n",
    "while line:\n",
    "    line = file.readline().strip('\\n')\n",
    "    table.append(line)\n",
    "\n",
    "file.close() \n",
    "print(table,len(table))\n",
    "print()\n",
    "table = set(table)\n",
    "print(table,len(table))\n"
   ]
  },
  {
   "cell_type": "code",
   "execution_count": 73,
   "metadata": {
    "scrolled": true
   },
   "outputs": [
    {
     "name": "stdout",
     "output_type": "stream",
     "text": [
      "19851\n",
      "398\n",
      "{'s/squash_court', '', 'u/utility_room', 'b/baseball_field', 'e/engine_room', 'k/kasbah', 'o/ocean', 'f/field/wild', 't/theater/indoor_procenium', 'd/dam', 'd/driveway', 'l/laundromat', 'l/lighthouse', 'm/mosque/indoor', 'a/amusement_arcade', 'b/bathroom', 'b/building_facade', 'c/clean_room', 'r/rainforest', 'd/dinette/home', 'b/bookstore', 'i/ice_shelf', 'p/pantry', 'c/cockpit', 't/train_railway', 'k/kitchen', 'b/banquet_hall', 'c/cathedral/indoor', 'c/chicken_coop/outdoor', 'c/cathedral/outdoor', 'm/marsh', 'w/wet_bar', 'c/construction_site', 'c/computer_room', 'l/locker_room', 's/synagogue/outdoor', 'i/industrial_area', 'h/home_office', 'e/excavation', 'c/courtyard', 'm/mausoleum', 'b/ballroom', 'r/residential_neighborhood', 's/server_room', 'm/mansion', 'v/veterinarians_office', 'a/art_school', 'm/mountain_snowy', 'b/bar', 'c/cottage_garden', 'm/mountain', 'r/recreation_room', 'c/catacomb', 'm/manufactured_home', 'p/planetarium/outdoor', 'o/oil_refinery/outdoor', 'n/nuclear_power_plant/outdoor', 'r/restaurant_patio', 'g/general_store/indoor', 'l/lobby', 'm/music_studio', 't/tower', 'r/rope_bridge', 'c/covered_bridge/exterior', 'f/florist_shop/indoor', 'm/market/outdoor', 'h/harbor', 'f/forest/needleleaf', 'e/electrical_substation', 's/sushi_bar', 't/tent/outdoor', 's/subway_interior', 'r/raft', 'c/childs_room', 'c/car_interior/backseat', 'f/fountain', 'g/gas_station', 'p/poolroom/establishment', 'k/kitchenette', 't/theater/indoor_seats', 'd/delicatessen', 'r/rock_arch', 'a/apartment_building/outdoor', 's/swimming_pool/outdoor', 's/slum', 't/train_station/platform', 'g/gazebo/exterior', 'w/waterfall/fan', 'l/landfill', 's/sandbox', 's/shed', 'd/dining_car', 'f/food_court', 's/sauna', 's/sandbar', 'd/dining_room', 'm/movie_theater/indoor', 'v/vineyard', 'm/museum/indoor', 'b/boathouse', 'p/pagoda', 'u/underwater/coral_reef', 'v/veranda', 'c/chemistry_lab', 'p/playground', 'r/raceway', 's/stable', 'c/cavern/indoor', 's/shopping_mall/indoor', 'f/factory/indoor', 'b/berth', 'c/classroom', 'd/driving_range/outdoor', 'c/corn_field', 'l/lake/natural', 'r/riding_arena', 'c/cafeteria', 'd/desert/sand', 'r/runway', 'b/biology_laboratory', 'c/crevasse', 'g/gymnasium/indoor', 'p/pub/indoor', 'a/atrium/public', 's/shoe_shop', 'p/pulpit', 'a/airport_terminal', 'v/volleyball_court/outdoor', 's/shopfront', 'p/promenade_deck', 'p/power_plant/outdoor', 'l/landing_deck', 'v/van_interior', 'a/art_studio', 's/shower', 'w/wine_cellar/bottle_storage', 'c/crosswalk', 'c/cliff', 's/ski_slope', 't/toyshop', 'a/aquarium', 'i/igloo', 'p/pond', 'b/ball_pit', 't/throne_room', 'c/closet', 'd/dock', 'f/forest_road', 'c/control_room', 'c/corridor', 'c/canal/urban', 'r/ruin', 'c/coast', 'd/drugstore', 'l/limousine_interior', 'p/parking_garage/indoor', 'b/basilica', 'b/basement', 'p/playroom', 'b/bayou', 'd/diner/indoor', 'c/conference_center', 'v/vegetable_garden', 'h/heliport', 's/street', 'p/podium/indoor', 'r/river', 'w/water_tower', 'e/elevator/interior', 'v/volcano', 'h/hunting_lodge/outdoor', 's/subway_station/platform', 'd/diner/outdoor', 'c/chicken_coop/indoor', 'b/bakery/shop', 'd/dinette/vehicle', 'a/arrival_gate/outdoor', 'i/ice_floe', 'w/wine_cellar/barrel_storage', 'h/hot_spring', 'b/bamboo_forest', 'b/barndoor', 'c/car_interior/frontseat', 'p/palace', 'w/warehouse/indoor', 'w/wheat_field', 't/tennis_court/indoor', 'j/jail_cell', 'b/booth/indoor', 'o/office_building', 'h/house', 'h/hospital_room', 'c/corral', 'b/brewery/indoor', 'b/botanical_garden', 'v/viaduct', 'c/canal/natural', 's/schoolhouse', 'd/discotheque', 'f/fishpond', 'b/batters_box', 'o/observatory/outdoor', 'b/barn', 'j/jewelry_shop', 'o/operating_room', 's/stage/indoor', 'h/hospital', 'p/patio', 'g/golf_course', 'b/bridge', 'w/watering_hole', 'p/physics_laboratory', 'b/bistro/indoor', 'b/butchers_shop', 'c/courtroom', 'b/bedroom', 'p/pavilion', 'm/market/indoor', 'm/medina', 'k/kindergarden_classroom', 'c/church/indoor', 'b/balcony/interior', 'f/fire_escape', 'c/church/outdoor', 'a/assembly_line', 's/supermarket', 'h/hotel/outdoor', 'p/poolroom/home', 'c/cloister/indoor', 'i/ice_skating_rink/indoor', 'b/baggage_claim', 'l/lock_chamber', 'a/art_gallery', 'b/beach', 'b/bowling_alley', 'p/podium/outdoor', 't/topiary_garden', 't/thriftshop', 'b/badlands', 'b/beauty_salon', 'c/chalet', 'a/auto_factory', 'k/kennel/outdoor', 't/temple/south_asia', 'd/dentists_office', 'r/rice_paddy', 't/toll_plaza', 'd/doorway/outdoor', 'm/martial_arts_gym', 'b/bullring', 'i/ice_cream_parlor', 'p/putting_green', 'l/lido_deck/outdoor', 'o/oilrig', 'a/archive', 't/trench', 'f/fastfood_restaurant', 'o/orchard', 'h/highway', 'r/railroad_track', 'p/pasture', 'r/restaurant', 'b/bus_interior', 'w/waiting_room', 'l/lecture_room', 'a/attic', 'a/auditorium', 'w/wrestling_ring/indoor', 'g/garage/indoor', 'm/moat/water', 'e/escalator/indoor', 'b/bow_window/indoor', 'o/office', 's/skatepark', 'c/control_tower/outdoor', 'm/monastery/outdoor', 'j/jacuzzi/indoor', 'b/boardwalk', 'p/pharmacy', 'p/parking_lot', 't/tennis_court/outdoor', 'b/burial_chamber', 't/tree_farm', 'a/arch', 's/ski_resort', 'b/bazaar/outdoor', 's/staircase', 'l/labyrinth/outdoor', 'h/hill', 's/ski_lodge', 'e/elevator/door', 'p/pilothouse/indoor', 'k/kennel/indoor', 'c/campsite', 'a/abbey', 't/track/outdoor', 'g/galley', 'h/hot_tub/outdoor', 'v/volleyball_court/indoor', 'r/reception', 'l/library/indoor', 'a/apse/indoor', 'a/alley', 'g/general_store/outdoor', 'm/music_store', 'e/elevator_shaft', 'a/aqueduct', 'j/jail/indoor', 'i/inn/outdoor', 'b/bow_window/outdoor', 'a/athletic_field/outdoor', 'c/clothing_store', 'c/cheese_factory', 'g/game_room', 'h/hangar/outdoor', 'h/hangar/indoor', 'r/racecourse', 'c/cabin/outdoor', 'b/bazaar/indoor', 'l/library/outdoor', 'v/village', 'b/boat_deck', 'b/balcony/exterior', 'p/phone_booth', 'g/greenhouse/outdoor', 's/swamp', 'b/butte', 'i/ice_skating_rink/outdoor', 'b/basketball_court/outdoor', 'm/mosque/outdoor', 'i/islet', 's/stadium/football', 's/sky', 'c/cemetery', 't/temple/east_asia', 'o/outhouse/outdoor', 'c/conference_room', 'a/airplane_cabin', 'c/canyon', 'g/gift_shop', 'b/boxing_ring', 'f/formal_garden', 'h/hayfield', 'a/amphitheater', 's/stadium/baseball', 'y/yard', 'f/forest/broadleaf', 'l/living_room', 'w/wave', 'c/castle', 'b/badminton_court/indoor', 't/ticket_booth', 'f/field/cultivated', 'w/waterfall/plunge', 'p/parking_garage/outdoor', 'n/nursery', 'w/windmill', 'c/candy_store', 'c/cubicle/office', 'r/restaurant_kitchen', 'h/hotel_room', 'p/park', 'd/desert/vegetation', 'p/parlor', 'a/amusement_park', 'm/motel', 'c/creek', 'w/wind_farm', 'v/valley', 's/synagogue/indoor', 's/skyscraper', 'f/fairway', 't/television_studio', 'c/carrousel', 's/sea_cliff', 's/swimming_pool/indoor', 'h/herb_garden', 'o/oast_house', 'c/coffee_shop', 'l/lift_bridge', 'd/dorm_room', 'f/fire_station', 'w/waterfall/block', 't/tree_house', 'f/forest_path', 'g/greenhouse/indoor', 'y/youth_hostel', 'p/plaza', 'c/courthouse', 'g/garbage_dump', 'p/picnic_area', 's/snowfield', 'a/anechoic_chamber', 'c/casino/indoor', 'v/videostore', 'f/firing_range/indoor', 'i/iceberg', 'c/campus'}\n"
     ]
    }
   ],
   "source": [
    "file = open('pomoc2.txt', 'r')\n",
    "table = []\n",
    "line = file.readline().strip('\\n')\n",
    "line2 = line.split('/')\n",
    "line2 = line2[1:-1]\n",
    "table.append(line2)\n",
    "while line:\n",
    "    line = file.readline().strip('\\n')\n",
    "    line2 = line.split('/')\n",
    "    line2 = line2[1:-1]\n",
    "    table.append(line2)\n",
    "\n",
    "file.close() \n",
    "a =[ \"/\".join(x) for x in table ]\n",
    "print(len(a))\n",
    "a = set(a)\n",
    "print(len(a))\n",
    "print(a)\n",
    "\n",
    "\n"
   ]
  },
  {
   "cell_type": "code",
   "execution_count": null,
   "metadata": {},
   "outputs": [],
   "source": []
  },
  {
   "cell_type": "code",
   "execution_count": null,
   "metadata": {},
   "outputs": [],
   "source": []
  }
 ],
 "metadata": {
  "kernelspec": {
   "display_name": "Python 3",
   "language": "python",
   "name": "python3"
  },
  "language_info": {
   "codemirror_mode": {
    "name": "ipython",
    "version": 3
   },
   "file_extension": ".py",
   "mimetype": "text/x-python",
   "name": "python",
   "nbconvert_exporter": "python",
   "pygments_lexer": "ipython3",
   "version": "3.6.5"
  }
 },
 "nbformat": 4,
 "nbformat_minor": 2
}
