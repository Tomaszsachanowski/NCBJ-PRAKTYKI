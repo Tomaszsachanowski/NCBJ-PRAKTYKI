{
 "cells": [
  {
   "cell_type": "code",
   "execution_count": 5,
   "metadata": {},
   "outputs": [
    {
     "name": "stdout",
     "output_type": "stream",
     "text": [
      "Michele can see a rated R movie\n"
     ]
    }
   ],
   "source": [
    "michele_age = 22\n",
    "truth_value = michele_age > 17\n",
    "if (truth_value):\n",
    "    print(\"Michele can see a rated R movie\")"
   ]
  },
  {
   "cell_type": "code",
   "execution_count": 6,
   "metadata": {},
   "outputs": [
    {
     "name": "stdout",
     "output_type": "stream",
     "text": [
      "Michele can't see a rated R movie\n"
     ]
    }
   ],
   "source": [
    "michele_age = 2\n",
    "truth_value = michele_age > 17\n",
    "if (truth_value):\n",
    "    print(\"Michele can see a rated R movie\")\n",
    "else:\n",
    "     print(\"Michele can't see a rated R movie\")\n"
   ]
  },
  {
   "cell_type": "code",
   "execution_count": 8,
   "metadata": {},
   "outputs": [
    {
     "name": "stdout",
     "output_type": "stream",
     "text": [
      "How old are you? 22\n",
      "can see a rated R movie\n",
      "How old are you? 22\n",
      "can see a rated R movie\n",
      "How old are you? 3\n",
      "can only see rated PG movies\n",
      "How old are you? 1\n",
      "can only see rated PG movies\n",
      "How old are you? 12\n",
      "can only see rated PG movies\n",
      "How old are you? 13\n",
      "can see a rated PG-13 movie\n",
      "How old are you? 19\n",
      "can see a rated R movie\n",
      "How old are you? ds\n"
     ]
    },
    {
     "ename": "ValueError",
     "evalue": "invalid literal for int() with base 10: 'ds'",
     "output_type": "error",
     "traceback": [
      "\u001b[0;31m---------------------------------------------------------------------------\u001b[0m",
      "\u001b[0;31mValueError\u001b[0m                                Traceback (most recent call last)",
      "\u001b[0;32m<ipython-input-8-9bb713e6088d>\u001b[0m in \u001b[0;36m<module>\u001b[0;34m()\u001b[0m\n\u001b[1;32m      1\u001b[0m \u001b[0;32mwhile\u001b[0m \u001b[0;32mTrue\u001b[0m\u001b[0;34m:\u001b[0m\u001b[0;34m\u001b[0m\u001b[0m\n\u001b[0;32m----> 2\u001b[0;31m     \u001b[0mage\u001b[0m \u001b[0;34m=\u001b[0m \u001b[0mint\u001b[0m\u001b[0;34m(\u001b[0m\u001b[0minput\u001b[0m\u001b[0;34m(\u001b[0m\u001b[0;34m\"How old are you? \"\u001b[0m\u001b[0;34m)\u001b[0m\u001b[0;34m)\u001b[0m\u001b[0;34m\u001b[0m\u001b[0m\n\u001b[0m\u001b[1;32m      3\u001b[0m     \u001b[0;32mif\u001b[0m \u001b[0mage\u001b[0m \u001b[0;34m>=\u001b[0m \u001b[0;36m17\u001b[0m\u001b[0;34m:\u001b[0m\u001b[0;34m\u001b[0m\u001b[0m\n\u001b[1;32m      4\u001b[0m       \u001b[0mprint\u001b[0m\u001b[0;34m(\u001b[0m\u001b[0;34m\"can see a rated R movie\"\u001b[0m\u001b[0;34m)\u001b[0m\u001b[0;34m\u001b[0m\u001b[0m\n\u001b[1;32m      5\u001b[0m     \u001b[0;32melif\u001b[0m \u001b[0mage\u001b[0m \u001b[0;34m<\u001b[0m \u001b[0;36m17\u001b[0m \u001b[0;32mand\u001b[0m \u001b[0mage\u001b[0m \u001b[0;34m>\u001b[0m \u001b[0;36m12\u001b[0m\u001b[0;34m:\u001b[0m\u001b[0;34m\u001b[0m\u001b[0m\n",
      "\u001b[0;31mValueError\u001b[0m: invalid literal for int() with base 10: 'ds'"
     ]
    }
   ],
   "source": [
    "while True:\n",
    "    age = int(input(\"How old are you? \"))\n",
    "    if age >= 17: \n",
    "      print(\"can see a rated R movie\")\n",
    "    elif age < 17 and age > 12:\n",
    "      print(\"can see a rated PG-13 movie\")\n",
    "    else: \n",
    "      print(\"can only see rated PG movies\")"
   ]
  },
  {
   "cell_type": "code",
   "execution_count": 9,
   "metadata": {},
   "outputs": [
    {
     "name": "stdout",
     "output_type": "stream",
     "text": [
      "You are 21!\n"
     ]
    }
   ],
   "source": [
    "  age = 21\n",
    "  if age == 21:\n",
    "    print(\"You are 21!\")\n",
    "  elif age > 21:\n",
    "    print(\"You're old.\")\n",
    "  else:\n",
    "    print(\"Young one!\")"
   ]
  },
  {
   "cell_type": "code",
   "execution_count": 10,
   "metadata": {},
   "outputs": [
    {
     "name": "stdout",
     "output_type": "stream",
     "text": [
      "You may enter.\n"
     ]
    }
   ],
   "source": [
    "password = \"unsafepassword\"\n",
    "if password == \"unsafepassword\":\n",
    "    print(\"You may enter.\")\n",
    "else:\n",
    "    print(\"Try again!\")"
   ]
  },
  {
   "cell_type": "code",
   "execution_count": 12,
   "metadata": {},
   "outputs": [
    {
     "name": "stdout",
     "output_type": "stream",
     "text": [
      "Enter the password: sdf\n",
      "Enter the password: jl\n",
      "Enter the password: unsafepassword\n",
      "You may enter!\n"
     ]
    }
   ],
   "source": [
    "real_password = \"unsafepassword\"\n",
    "user_password = input(\"Enter the password: \")\n",
    "while user_password != real_password:\n",
    "    user_password = input(\"Enter the password: \")\n",
    "print(\"You may enter!\")"
   ]
  },
  {
   "cell_type": "code",
   "execution_count": 14,
   "metadata": {},
   "outputs": [
    {
     "name": "stdout",
     "output_type": "stream",
     "text": [
      "True\n",
      "False\n",
      "True\n",
      "False\n"
     ]
    }
   ],
   "source": [
    "def find(list1,number):\n",
    "    for x in list1:\n",
    "        if x == number:\n",
    "            return True\n",
    "    return False\n",
    "\n",
    "lista =[1,2,3,4,5,6,7,8,9,10]\n",
    "print(find(lista,6))\n",
    "print(find(lista,-3))\n",
    "print(find(lista,4))\n",
    "print(find(lista,11))"
   ]
  },
  {
   "cell_type": "code",
   "execution_count": 16,
   "metadata": {},
   "outputs": [
    {
     "name": "stdout",
     "output_type": "stream",
     "text": [
      "True\n",
      "False\n",
      "True\n",
      "False\n"
     ]
    }
   ],
   "source": [
    "def find2(list1,number):\n",
    "        if  number in list1:\n",
    "            return True\n",
    "        return False\n",
    "\n",
    "lista =[1,2,3,4,5,6,7,8,9,10]\n",
    "print(find2(lista,6))\n",
    "print(find2(lista,-3))\n",
    "print(find2(lista,4))\n",
    "print(find2(lista,11))"
   ]
  },
  {
   "cell_type": "code",
   "execution_count": 8,
   "metadata": {},
   "outputs": [
    {
     "name": "stdout",
     "output_type": "stream",
     "text": [
      "[1, 2, 3, 4, 5, 6, 7, 8, 9, 10, 23] 11\n",
      "[6, 7, 8, 9, 10, 23] 5\n",
      "[8, 9, 10, 23] 2\n",
      "[9, 10, 23] 1\n",
      "True\n",
      "[1, 2, 3, 4, 5, 6, 7, 8, 9, 10, 23] 11\n",
      "[6, 7, 8, 9, 10, 23] 5\n",
      "[8, 9, 10, 23] 2\n",
      "[9, 10, 23] 1\n",
      "False\n",
      "[1, 2, 3, 4, 5, 6, 7, 8, 9, 10, 23] 11\n",
      "[1, 2, 3, 4, 5] 5\n",
      "True\n",
      "[1, 2, 3, 4, 5, 6, 7, 8, 9, 10, 23] 11\n",
      "[1, 2, 3, 4, 5] 5\n",
      "[1, 2] 2\n",
      "True\n",
      "[1, 2, 3, 4, 5, 6, 7, 8, 9, 10, 23] 11\n",
      "[1, 2, 3, 4, 5] 5\n",
      "[1, 2] 2\n",
      "[1] 1\n",
      "False\n",
      "[1, 2, 3, 4, 5, 6, 7, 8, 9, 10, 23] 11\n",
      "[1, 2, 3, 4, 5] 5\n",
      "[1, 2] 2\n",
      "[1] 1\n",
      "False\n",
      "[1, 2, 3, 4, 5, 6, 7, 8, 9, 10, 23] 11\n",
      "[6, 7, 8, 9, 10, 23] 5\n",
      "[8, 9, 10, 23] 2\n",
      "[9, 10, 23] 1\n",
      "False\n"
     ]
    }
   ],
   "source": [
    "def find3(list1,number):\n",
    "        x = list1\n",
    "        delta = len(x)\n",
    "        while delta >= 1:\n",
    "            print(x,delta)\n",
    "            delta = int(delta/2)\n",
    "            if x[delta] < number:\n",
    "                x = x[delta:]\n",
    "            elif x[delta] > number:\n",
    "                x = x[:delta]\n",
    "            else:\n",
    "                return True\n",
    "        if number in x:\n",
    "            return True\n",
    "        else:\n",
    "            return False\n",
    "        \n",
    "\n",
    "lista =[1,2,3,4,5,6,7,8,9,10,23]\n",
    "print(find3(lista,10))\n",
    "print(find3(lista,11))\n",
    "print(find3(lista,3))\n",
    "print(find3(lista,2))\n",
    "print(find3(lista,-2))\n",
    "print(find3(lista,-2))\n",
    "print(find3(lista,22))\n"
   ]
  },
  {
   "cell_type": "code",
   "execution_count": 22,
   "metadata": {},
   "outputs": [
    {
     "name": "stdout",
     "output_type": "stream",
     "text": [
      "[1, 2, 3, 4, 5, 6, 7, 8, 9, 10] 10\n",
      "[1, 2, 3, 4, 5, 6, 7, 8, 9, 10] 10\n",
      "[6, 7, 8, 9, 10] 5\n",
      "[6, 7] 2\n",
      "[6, 7] 1\n",
      "[6, 7] 0\n",
      "[6, 7] 0\n"
     ]
    }
   ],
   "source": []
  },
  {
   "cell_type": "code",
   "execution_count": null,
   "metadata": {},
   "outputs": [],
   "source": []
  }
 ],
 "metadata": {
  "kernelspec": {
   "display_name": "Python 3",
   "language": "python",
   "name": "python3"
  },
  "language_info": {
   "codemirror_mode": {
    "name": "ipython",
    "version": 3
   },
   "file_extension": ".py",
   "mimetype": "text/x-python",
   "name": "python",
   "nbconvert_exporter": "python",
   "pygments_lexer": "ipython3",
   "version": "3.6.5"
  }
 },
 "nbformat": 4,
 "nbformat_minor": 2
}
