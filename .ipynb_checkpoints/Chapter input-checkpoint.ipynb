{
 "cells": [
  {
   "cell_type": "code",
   "execution_count": 31,
   "metadata": {},
   "outputs": [
    {
     "name": "stdout",
     "output_type": "stream",
     "text": [
      "hello\n",
      "What's your name tom\n",
      "what's your age 23\n",
      "tom Skonczysz 100 lat w roku 2095\n"
     ]
    }
   ],
   "source": [
    "import time\n",
    "print(\"hello\")\n",
    "name = input(\"What's your name \")\n",
    "age = int(input(\"what's your age \"))\n",
    "\n",
    "delta = 100- age\n",
    "year = int(time.gmtime()[0])\n",
    "year += delta\n",
    "if year <= int(time.gmtime()[0]):\n",
    "    print(name+\" Juz skonczył 100 lat \")\n",
    "else:\n",
    "    print(\"{} Skonczysz 100 lat w roku {}\".format(name,year))"
   ]
  },
  {
   "cell_type": "code",
   "execution_count": null,
   "metadata": {},
   "outputs": [],
   "source": [
    "counter = int(input(\"Podaj liczbę\"))\n",
    "year =str(year)                \n",
    "print(\"Kopie liczby  \"+year*counter)"
   ]
  },
  {
   "cell_type": "code",
   "execution_count": null,
   "metadata": {},
   "outputs": [],
   "source": []
  },
  {
   "cell_type": "code",
   "execution_count": null,
   "metadata": {},
   "outputs": [],
   "source": []
  }
 ],
 "metadata": {
  "kernelspec": {
   "display_name": "Python 3",
   "language": "python",
   "name": "python3"
  },
  "language_info": {
   "codemirror_mode": {
    "name": "ipython",
    "version": 3
   },
   "file_extension": ".py",
   "mimetype": "text/x-python",
   "name": "python",
   "nbconvert_exporter": "python",
   "pygments_lexer": "ipython3",
   "version": "3.6.5"
  }
 },
 "nbformat": 4,
 "nbformat_minor": 2
}
