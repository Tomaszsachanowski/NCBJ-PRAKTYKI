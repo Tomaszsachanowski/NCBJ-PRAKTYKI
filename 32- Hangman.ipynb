{
 "cells": [
  {
   "cell_type": "code",
   "execution_count": 5,
   "metadata": {},
   "outputs": [
    {
     "name": "stdout",
     "output_type": "stream",
     "text": [
      "RAUNCHILY\n",
      "witamy w grze masz 6 zyc \n",
      "oto twoje slowo: \n",
      "_ _ _ _ _ _ _ _ _ Podaj litere R\n",
      "R _ _ _ _ _ _ _ _ Podaj litere a\n",
      "R A _ _ _ _ _ _ _ Podaj litere u\n",
      "R A U _ _ _ _ _ _ Podaj litere n\n",
      "R A U N _ _ _ _ _ Podaj litere c\n",
      "R A U N C _ _ _ _ Podaj litere l\n",
      "R A U N C _ _ L _ Podaj litere i\n",
      "R A U N C _ I L _ Podaj litere h\n",
      "R A U N C H I L _ Podaj litere y\n",
      "R A U N C H I L Y Zycie = 6, Wzgadles slowo: R A U N C H I L Y 9\n"
     ]
    }
   ],
   "source": [
    "import random\n",
    "\n",
    "\n",
    "\n",
    "    \n",
    "def randword():\n",
    "    with open(\"dictionary.txt\") as file:\n",
    "        lines = file.readlines()\n",
    "    return random.choice(lines).strip()\n",
    "\n",
    "def Mesage(tabl):\n",
    "    ilosc_literek = 0\n",
    "    for x in tabl:\n",
    "        print(x,end =' ')\n",
    "        if x >= 'A' and x <= 'Z':\n",
    "            ilosc_literek += 1\n",
    "    \n",
    "    return ilosc_literek\n",
    "\n",
    "def podane_litery(tabl):\n",
    "    liters = [chr(x) for x in range(65,91)]\n",
    "    while True:\n",
    "        litera = input(\"Podaj litere \")\n",
    "        litera = litera.upper()\n",
    "        if litera in liters:\n",
    "            if litera in tabl:\n",
    "                print(\"To juz podales\")\n",
    "                print(tabl)\n",
    "            else:\n",
    "                tabl.append(litera)\n",
    "                return litera\n",
    "        else:\n",
    "            print(\"litera!!!! \")\n",
    "\n",
    "\n",
    "def Puste_slowo(slowo):\n",
    "    puste = ['_' for x in slowo]\n",
    "    return puste\n",
    "\n",
    "def Game():\n",
    "    uzyte_litery = []\n",
    "    zycie = 6\n",
    "    slowo = randword()\n",
    "    print(slowo)\n",
    "    puste_slowo = Puste_slowo(slowo)\n",
    "    zgadniete_litery = []\n",
    "    print(\"witamy w grze masz 6 zyc \")\n",
    "    print(\"oto twoje slowo: \")\n",
    "    while  zycie > 0 and Mesage(puste_slowo) < len(slowo):\n",
    "        literka = podane_litery(uzyte_litery)\n",
    "        if literka in slowo:\n",
    "            zgadniete_litery.append(literka)\n",
    "            \n",
    "            index = 0 \n",
    "            while index < len(slowo):\n",
    "                if literka == slowo[index]:\n",
    "                    puste_slowo[index] = literka\n",
    "                index +=1\n",
    "        \n",
    "        else:\n",
    "            print(\"zla literka \")\n",
    "            zycie -= 1\n",
    "    if zycie <= 0:\n",
    "        print(\"Przegrales!!!! \")\n",
    "        return (\"zycie wynosi 0\", slowo)\n",
    "    else:\n",
    "        print(\"Zycie = {}, Wzgadles slowo: \".format(zycie),end = '')\n",
    "        return Mesage(puste_slowo)\n",
    "    \n",
    "    \n",
    "    \n",
    "print(Game())"
   ]
  },
  {
   "cell_type": "code",
   "execution_count": null,
   "metadata": {
    "collapsed": true
   },
   "outputs": [],
   "source": []
  }
 ],
 "metadata": {
  "kernelspec": {
   "display_name": "Python 3",
   "language": "python",
   "name": "python3"
  },
  "language_info": {
   "codemirror_mode": {
    "name": "ipython",
    "version": 3
   },
   "file_extension": ".py",
   "mimetype": "text/x-python",
   "name": "python",
   "nbconvert_exporter": "python",
   "pygments_lexer": "ipython3",
   "version": "3.6.5"
  }
 },
 "nbformat": 4,
 "nbformat_minor": 2
}
