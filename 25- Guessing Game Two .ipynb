{
 "cells": [
  {
   "cell_type": "code",
   "execution_count": 1,
   "metadata": {},
   "outputs": [
    {
     "name": "stdout",
     "output_type": "stream",
     "text": [
      "Czy to jest ta liczba 88 nie\n",
      "Czy jest mniejsze, wieksze 88wieksze\n",
      "Czy to jest ta liczba 89 nie\n",
      "Czy jest mniejsze, wieksze 89wieksze\n",
      "Czy to jest ta liczba 95 nie\n",
      "Czy jest mniejsze, wieksze 95wieksze\n",
      "Czy to jest ta liczba 100 nie\n",
      "Czy jest mniejsze, wieksze 100mniejsze\n",
      "Czy to jest ta liczba 99 tak\n",
      "Udalo sie 99\n"
     ]
    }
   ],
   "source": [
    "import random\n",
    "def Losowa_liczba_zprzedzialu(a,b):\n",
    "    zgadniecie = [\"tak\",\"nie\"]\n",
    "    zgadniecie2 = [\"mniejsze\",\"wieksze\"]\n",
    "    liczba = random.randint(a,b)\n",
    "    while True:\n",
    "        losowa_liczba = input(\"Czy to jest ta liczba {} \".format(liczba))\n",
    "        if losowa_liczba in zgadniecie: \n",
    "            break\n",
    "        else:\n",
    "            print(\"tak lub nie!!! \")\n",
    "    if losowa_liczba == \"tak\":\n",
    "        return {\"Trafiony\":True,\"liczba\":liczba,\"Wieksze\":False,\"Mniejsze\":False}\n",
    "    else:\n",
    "        while True:\n",
    "            losowa_liczba = input(\"Czy jest mniejsze, wieksze {}\".format(liczba))\n",
    "            if losowa_liczba in zgadniecie2:\n",
    "                break\n",
    "            else:\n",
    "                print(\"mniejsze, wieksze !!! \")\n",
    "        if losowa_liczba == \"mniejsze\":        \n",
    "            return {\"Trafiony\":False,\"liczba\":liczba,\"Wieksze\":False,\"Mniejsze\":True}\n",
    "\n",
    "    return {\"Trafiony\":False,\"liczba\":liczba,\"Wieksze\":True,\"Mniejsze\":False}\n",
    "\n",
    "def Geme():\n",
    "        x = [z for z in range(1,101)]\n",
    "        \n",
    "        while True: \n",
    "            #print(x)\n",
    "            try:\n",
    "                udana = Losowa_liczba_zprzedzialu(x[0],x[-1])\n",
    "            except IndexError:\n",
    "                return \"to musi byc {}\".format(udana[\"liczba\"])\n",
    "            prawda = ['tak','wieksze','mniejsze']\n",
    "            if udana[\"Trafiony\"]:\n",
    "                return \"Udalo sie {}\".format(udana[\"liczba\"])\n",
    "            elif udana[\"Mniejsze\"]:\n",
    "                    x = x[ : x.index(udana[\"liczba\"])]\n",
    "            else:\n",
    "                    x= x[ x.index(udana[\"liczba\"])+1 : ]\n",
    "                \n",
    "print(Geme())"
   ]
  },
  {
   "cell_type": "markdown",
   "metadata": {},
   "source": [
    "#POMC PIOTRA Z PRZYCISKAMI \n",
    "\n"
   ]
  },
  {
   "cell_type": "code",
   "execution_count": 56,
   "metadata": {},
   "outputs": [
    {
     "data": {
      "application/vnd.jupyter.widget-view+json": {
       "model_id": "55d56ed9c49c4ea0a6de7c196cf82518",
       "version_major": 2,
       "version_minor": 0
      },
      "text/plain": [
       "HBox(children=(Button(description='MNIEJSZA', style=ButtonStyle()), Button(description='RÓWNA', style=ButtonSt…"
      ]
     },
     "metadata": {},
     "output_type": "display_data"
    },
    {
     "data": {
      "application/vnd.jupyter.widget-view+json": {
       "model_id": "eacb1394adc042f68bddb3c2d2aec8f2",
       "version_major": 2,
       "version_minor": 0
      },
      "text/plain": [
       "Label(value='...')"
      ]
     },
     "metadata": {},
     "output_type": "display_data"
    }
   ],
   "source": [
    "import ipywidgets as widgets\n",
    "import random\n",
    "\n",
    "btn = []\n",
    "\n",
    "start=0\n",
    "end=100\n",
    "guess=-1\n",
    "\n",
    "etykietki = [\"MNIEJSZA\",\"RÓWNA\",\"WIĘKSZA\"]\n",
    "\n",
    "lbl = None\n",
    "\n",
    "def user_info(tekst):\n",
    "    global lbl\n",
    "    lbl.value = tekst\n",
    "\n",
    "def wylosuj_pozycje(start,end):\n",
    "    return random.randint(start,end)\n",
    "\n",
    "def btn_handler(sender):\n",
    "    global guess,start,end\n",
    "    global etykietki\n",
    "   \n",
    "    if(guess != -1):\n",
    "        if sender.description == etykietki[0]:    # MNIEJSZA\n",
    "            if start < guess:\n",
    "                end = guess - 1\n",
    "            else:\n",
    "                user_info(\"Juz bardziej sie nie da to jest ta liczba\")\n",
    "                start=guess\n",
    "                end=guess\n",
    "        elif sender.description == etykietki[2]:    # WIEKSZA\n",
    "            if guess < end:\n",
    "                start = guess + 1\n",
    "            else:\n",
    "                user_info(\"Juz bardziej sie nie da to jest ta liczba\")\n",
    "                start=guess\n",
    "                end=guess\n",
    "        else:\n",
    "            start=guess\n",
    "            end=guess\n",
    "       \n",
    "    if start != end:\n",
    "        guess = wylosuj_pozycje(start,end)\n",
    "        user_info(\"Wylosowałem liczbe %d. Jaka jest Twoja? <%d-%d>\" % (guess,start,end))\n",
    "    else:\n",
    "        user_info(\"Zgadłem, liczba to: %d \" % start )\n",
    "        guess=start\n",
    "        end=guess\n",
    "for i in range(3):\n",
    "    new_btn = widgets.Button(description = etykietki[i])\n",
    "    new_btn.on_click(btn_handler)\n",
    "    btn.append(new_btn)\n",
    "\n",
    "# GUZICZKI\n",
    "hb = widgets.HBox(btn)   \n",
    "display(hb)\n",
    "# LABEL\n",
    "lbl = widgets.Label(value=\"...\")\n",
    "display(lbl)\n",
    "# START\n",
    "btn_handler(None)\n"
   ]
  },
  {
   "cell_type": "code",
   "execution_count": null,
   "metadata": {},
   "outputs": [],
   "source": []
  },
  {
   "cell_type": "code",
   "execution_count": null,
   "metadata": {},
   "outputs": [],
   "source": []
  }
 ],
 "metadata": {
  "kernelspec": {
   "display_name": "Python 3",
   "language": "python",
   "name": "python3"
  },
  "language_info": {
   "codemirror_mode": {
    "name": "ipython",
    "version": 3
   },
   "file_extension": ".py",
   "mimetype": "text/x-python",
   "name": "python",
   "nbconvert_exporter": "python",
   "pygments_lexer": "ipython3",
   "version": "3.6.5"
  }
 },
 "nbformat": 4,
 "nbformat_minor": 2
}
