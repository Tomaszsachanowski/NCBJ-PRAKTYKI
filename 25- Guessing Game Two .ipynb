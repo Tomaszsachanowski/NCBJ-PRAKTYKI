{
 "cells": [
  {
   "cell_type": "code",
   "execution_count": 18,
   "metadata": {},
   "outputs": [
    {
     "name": "stdout",
     "output_type": "stream",
     "text": [
      "[1, 2, 3, 4, 5, 6, 7, 8, 9, 10, 11, 12, 13, 14, 15, 16, 17, 18, 19, 20, 21, 22, 23, 24, 25, 26, 27, 28, 29, 30, 31, 32, 33, 34, 35, 36, 37, 38, 39, 40, 41, 42, 43, 44, 45, 46, 47, 48, 49, 50, 51, 52, 53, 54, 55, 56, 57, 58, 59, 60, 61, 62, 63, 64, 65, 66, 67, 68, 69, 70, 71, 72, 73, 74, 75, 76, 77, 78, 79, 80, 81, 82, 83, 84, 85, 86, 87, 88, 89, 90, 91, 92, 93, 94, 95, 96, 97, 98, 99, 100]\n",
      "Czy to jest ta liczba 54 nie\n",
      "Czy jest mniejsze, wieksze 54wieksze\n",
      "[55, 56, 57, 58, 59, 60, 61, 62, 63, 64, 65, 66, 67, 68, 69, 70, 71, 72, 73, 74, 75, 76, 77, 78, 79, 80, 81, 82, 83, 84, 85, 86, 87, 88, 89, 90, 91, 92, 93, 94, 95, 96, 97, 98, 99, 100]\n",
      "Czy to jest ta liczba 55 nie\n",
      "Czy jest mniejsze, wieksze 55wieksze\n",
      "[56, 57, 58, 59, 60, 61, 62, 63, 64, 65, 66, 67, 68, 69, 70, 71, 72, 73, 74, 75, 76, 77, 78, 79, 80, 81, 82, 83, 84, 85, 86, 87, 88, 89, 90, 91, 92, 93, 94, 95, 96, 97, 98, 99, 100]\n",
      "Czy to jest ta liczba 97 nie\n",
      "Czy jest mniejsze, wieksze 97mniejsze\n",
      "[56, 57, 58, 59, 60, 61, 62, 63, 64, 65, 66, 67, 68, 69, 70, 71, 72, 73, 74, 75, 76, 77, 78, 79, 80, 81, 82, 83, 84, 85, 86, 87, 88, 89, 90, 91, 92, 93, 94, 95, 96]\n",
      "Czy to jest ta liczba 95 nie\n",
      "Czy jest mniejsze, wieksze 95mniejsze\n",
      "[56, 57, 58, 59, 60, 61, 62, 63, 64, 65, 66, 67, 68, 69, 70, 71, 72, 73, 74, 75, 76, 77, 78, 79, 80, 81, 82, 83, 84, 85, 86, 87, 88, 89, 90, 91, 92, 93, 94]\n",
      "Czy to jest ta liczba 64 nie\n",
      "Czy jest mniejsze, wieksze 64mnijesze\n",
      "mniejsze, wieksze !!! \n",
      "Czy jest mniejsze, wieksze 64mniejsze\n",
      "[56, 57, 58, 59, 60, 61, 62, 63]\n",
      "Czy to jest ta liczba 63 tak\n",
      "Udalo sie 63\n"
     ]
    }
   ],
   "source": [
    "import random\n",
    "def Losowa_liczba_zprzedzialu(a,b):\n",
    "    zgadniecie = [\"tak\",\"nie\"]\n",
    "    zgadniecie2 = [\"mniejsze\",\"wieksze\"]\n",
    "    liczba = random.randint(a,b)\n",
    "    while True:\n",
    "        losowa_liczba = input(\"Czy to jest ta liczba {} \".format(liczba))\n",
    "        if losowa_liczba in zgadniecie: \n",
    "            break\n",
    "        else:\n",
    "            print(\"tak lub nie!!! \")\n",
    "    if losowa_liczba == \"tak\":\n",
    "        return {\"Trafiony\":True,\"liczba\":liczba,\"Wieksze\":False,\"Mniejsze\":False}\n",
    "    else:\n",
    "        while True:\n",
    "            losowa_liczba = input(\"Czy jest mniejsze, wieksze {}\".format(liczba))\n",
    "            if losowa_liczba in zgadniecie2:\n",
    "                break\n",
    "            else:\n",
    "                print(\"mniejsze, wieksze !!! \")\n",
    "        if losowa_liczba == \"mniejsze\":        \n",
    "            return {\"Trafiony\":False,\"liczba\":liczba,\"Wieksze\":False,\"Mniejsze\":True}\n",
    "\n",
    "    return {\"Trafiony\":False,\"liczba\":liczba,\"Wieksze\":True,\"Mniejsze\":False}\n",
    "\n",
    "def Geme():\n",
    "        x = [z for z in range(1,101)]\n",
    "        \n",
    "        while True: \n",
    "            #print(x)\n",
    "            udana = Losowa_liczba_zprzedzialu(x[0],x[-1])\n",
    "            prawda = ['tak','wieksze','mniejsze']\n",
    "            if udana[\"Trafiony\"]:\n",
    "                return \"Udalo sie {}\".format(udana[\"liczba\"])\n",
    "            elif udana[\"Mniejsze\"]:\n",
    "                x = x[ : x.index(udana[\"liczba\"])]\n",
    "            else:\n",
    "                x= x[ x.index(udana[\"liczba\"])+1 : ]\n",
    "            \n",
    "                \n",
    "print(Geme())"
   ]
  },
  {
   "cell_type": "code",
   "execution_count": null,
   "metadata": {},
   "outputs": [],
   "source": []
  },
  {
   "cell_type": "code",
   "execution_count": null,
   "metadata": {},
   "outputs": [],
   "source": []
  },
  {
   "cell_type": "code",
   "execution_count": null,
   "metadata": {},
   "outputs": [],
   "source": []
  },
  {
   "cell_type": "code",
   "execution_count": null,
   "metadata": {},
   "outputs": [],
   "source": []
  }
 ],
 "metadata": {
  "kernelspec": {
   "display_name": "Python 3",
   "language": "python",
   "name": "python3"
  },
  "language_info": {
   "codemirror_mode": {
    "name": "ipython",
    "version": 3
   },
   "file_extension": ".py",
   "mimetype": "text/x-python",
   "name": "python",
   "nbconvert_exporter": "python",
   "pygments_lexer": "ipython3",
   "version": "3.6.5"
  }
 },
 "nbformat": 4,
 "nbformat_minor": 2
}
