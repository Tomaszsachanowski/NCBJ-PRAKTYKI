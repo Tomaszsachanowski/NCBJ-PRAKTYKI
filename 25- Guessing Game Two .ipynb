{
 "cells": [
  {
   "cell_type": "code",
   "execution_count": 17,
   "metadata": {},
   "outputs": [
    {
     "name": "stdout",
     "output_type": "stream",
     "text": [
      "51 jest ta wartoscia: tak, mniejsze czy wieksze mniejsze\n",
      "26 jest ta wartoscia: tak, mniejsze czy wieksze wieksze\n",
      "38 jest ta wartoscia: tak, mniejsze czy wieksze mniejsze\n",
      "32 jest ta wartoscia: tak, mniejsze czy wieksze tak\n",
      "udalo sie 32\n",
      "None\n"
     ]
    }
   ],
   "source": [
    "def Geme():\n",
    "        x = [z for z in range(1,101)]\n",
    "        delta = int(len(x)/2)\n",
    "        while True:\n",
    "            prawda = ['tak','wieksze','mniejsze']\n",
    "            while True:\n",
    "                tak  = input(\"{} jest ta wartoscia: tak, mniejsze czy wieksze \".format(x[delta]))\n",
    "                if tak in prawda:\n",
    "                    break\n",
    "                else:\n",
    "                    print(\"zly ciag!!! \")\n",
    "            if tak == 'tak':\n",
    "                print(\"udalo sie {}\".format(x[delta]))\n",
    "                break\n",
    "            elif tak == 'mniejsze':\n",
    "                x = x[:delta]\n",
    "                delta = int(delta/2)\n",
    "            elif delta < 1:\n",
    "                print(\"{} to jest jedna z ty wartosci \".format(x))\n",
    "                for i in range(len(x)):\n",
    "                    prawda2 = ['tak','nie']\n",
    "                    while True:\n",
    "                        tak  = input(\"{} tak czy nie \".format(x[i]))\n",
    "                        if tak in prawda2:\n",
    "                            break\n",
    "                        else:\n",
    "                            print(\"zly ciag!!! \")\n",
    "                    if tak == 'tak':\n",
    "                        print(\"udalo sie {}\".format(x[i]))\n",
    "                        break\n",
    "                    else:         \n",
    "                        i = i+1\n",
    "                break\n",
    "            else:\n",
    "                x = x[delta:]\n",
    "                delta = int(delta/2)\n",
    "\n",
    "                \n",
    "print(Geme())"
   ]
  },
  {
   "cell_type": "code",
   "execution_count": null,
   "metadata": {},
   "outputs": [],
   "source": []
  },
  {
   "cell_type": "code",
   "execution_count": null,
   "metadata": {},
   "outputs": [],
   "source": []
  },
  {
   "cell_type": "code",
   "execution_count": null,
   "metadata": {},
   "outputs": [],
   "source": []
  },
  {
   "cell_type": "code",
   "execution_count": null,
   "metadata": {},
   "outputs": [],
   "source": []
  }
 ],
 "metadata": {
  "kernelspec": {
   "display_name": "Python 3",
   "language": "python",
   "name": "python3"
  },
  "language_info": {
   "codemirror_mode": {
    "name": "ipython",
    "version": 3
   },
   "file_extension": ".py",
   "mimetype": "text/x-python",
   "name": "python",
   "nbconvert_exporter": "python",
   "pygments_lexer": "ipython3",
   "version": "3.6.5"
  }
 },
 "nbformat": 4,
 "nbformat_minor": 2
}
