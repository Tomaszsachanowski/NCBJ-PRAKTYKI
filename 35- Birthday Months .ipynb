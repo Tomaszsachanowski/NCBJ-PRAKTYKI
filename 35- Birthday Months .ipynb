{
 "cells": [
  {
   "cell_type": "code",
   "execution_count": 5,
   "metadata": {},
   "outputs": [],
   "source": [
    "#from collections import Counter"
   ]
  },
  {
   "cell_type": "code",
   "execution_count": 6,
   "metadata": {},
   "outputs": [],
   "source": [
    "sandwiches = [\"ham\", \"cheese\", \"roast beef\", \"ham\", \"cheese\", \\\n",
    "              \"roast beef\", \"ham\"]\n",
    "c = Counter(sandwiches)"
   ]
  },
  {
   "cell_type": "code",
   "execution_count": 7,
   "metadata": {},
   "outputs": [
    {
     "data": {
      "text/plain": [
       "Counter({'ham': 3, 'cheese': 2, 'roast beef': 2})"
      ]
     },
     "execution_count": 7,
     "metadata": {},
     "output_type": "execute_result"
    }
   ],
   "source": [
    "c"
   ]
  },
  {
   "cell_type": "code",
   "execution_count": 8,
   "metadata": {},
   "outputs": [
    {
     "name": "stdout",
     "output_type": "stream",
     "text": [
      "There are 3 ham sandwiches\n"
     ]
    }
   ],
   "source": [
    "print(\"There are {} ham sandwiches\".format(c[\"ham\"]))\n",
    "###################################"
   ]
  },
  {
   "cell_type": "code",
   "execution_count": 11,
   "metadata": {},
   "outputs": [
    {
     "name": "stdout",
     "output_type": "stream",
     "text": [
      "Counter({'11': 1, '2': 1})\n",
      "{'listopad': 1, 'luty': 1}\n"
     ]
    }
   ],
   "source": [
    "import json\n",
    "from datetime import datetime\n",
    "with open(\"JSON.json\", \"r\") as file:\n",
    "    dictionary = json.load(file)\n",
    "klucz = [x.split('/')[1] for x in dictionary.values()]\n",
    "miesiace = {1:\"styczen\" ,2: \"luty\" ,3: \"marzec\" ,4: \"kwiecien\" ,\\\n",
    "            5: \"maj\" ,6: \"czerwiec\" ,7: \"lipiec\" ,8: \"sierpien\" ,\\\n",
    "            9: \"wrzesien\" ,10: \"pazdziernik\" ,11: \"listopad\" ,12: \"grudzien\"}\n",
    "count = Counter(klucz)\n",
    "print(count)\n",
    "\n",
    "#wynik = {datetime.strptime(x,\"%b\"):count[x] for x in count.keys()}\n",
    "wynik = {miesiace[int(x)]:count[x] for x in count.keys()}\n",
    "\n",
    "print(wynik)"
   ]
  },
  {
   "cell_type": "code",
   "execution_count": null,
   "metadata": {},
   "outputs": [],
   "source": []
  }
 ],
 "metadata": {
  "kernelspec": {
   "display_name": "Python 3",
   "language": "python",
   "name": "python3"
  },
  "language_info": {
   "codemirror_mode": {
    "name": "ipython",
    "version": 3
   },
   "file_extension": ".py",
   "mimetype": "text/x-python",
   "name": "python",
   "nbconvert_exporter": "python",
   "pygments_lexer": "ipython3",
   "version": "3.6.5"
  }
 },
 "nbformat": 4,
 "nbformat_minor": 2
}
