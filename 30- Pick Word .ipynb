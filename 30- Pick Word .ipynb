{
 "cells": [
  {
   "cell_type": "code",
   "execution_count": 13,
   "metadata": {
    "scrolled": true
   },
   "outputs": [
    {
     "name": "stdout",
     "output_type": "stream",
     "text": [
      "SABBING\n",
      "CITIES\n",
      "GRANDSTOOD\n",
      "GULL\n",
      "BOBOTIES\n",
      "AHISTORICAL\n",
      "SOREDIUM\n",
      "BIRTHRIGHT\n",
      "INDITE\n",
      "INNOMINATE\n",
      "THEREIN\n",
      "UNSPIRITUALIZE\n",
      "SOUNDLESSLY\n",
      "DISCONCERTMENT\n",
      "TOLERATE\n",
      "BREWER\n",
      "MEZZOTINT\n",
      "MASTOIDS\n",
      "ABASERS\n",
      "STYLOPISED\n",
      "SCROBES\n",
      "OVERCOOLS\n",
      "NAMELESSNESSES\n",
      "LOCOFOCOS\n",
      "METAGROBOLISING\n",
      "MOSS\n",
      "ADELANTADOS\n",
      "PRENTICE\n",
      "DEDUCTIBILITIES\n",
      "OVERHASTES\n",
      "DEHUMANISED\n",
      "HALLOWEDNESS\n",
      "DORIZING\n",
      "QUOTA\n",
      "ALLELISMS\n",
      "RUSTBUCKET\n",
      "PENTASTYLES\n",
      "SUBSTRACTING\n"
     ]
    }
   ],
   "source": [
    "import random\n",
    "with open(\"dictionary.txt\") as file:\n",
    "    lines = file.readlines()\n",
    "\n",
    "    \n",
    "def randword(x):\n",
    "    return random.choice(x)\n",
    "\n",
    "print(randword(lines).strip())\n",
    "print(randword(lines).strip())\n",
    "print(randword(lines).strip())\n",
    "print(randword(lines).strip())\n",
    "print(randword(lines).strip())\n",
    "print(randword(lines).strip())\n",
    "print(randword(lines).strip())\n",
    "print(randword(lines).strip())\n",
    "print(randword(lines).strip())\n",
    "print(randword(lines).strip())\n",
    "print(randword(lines).strip())\n",
    "print(randword(lines).strip())\n",
    "print(randword(lines).strip())\n",
    "print(randword(lines).strip())\n",
    "print(randword(lines).strip())\n",
    "print(randword(lines).strip())\n",
    "print(randword(lines).strip())\n",
    "print(randword(lines).strip())\n",
    "print(randword(lines).strip())\n",
    "print(randword(lines).strip())\n",
    "print(randword(lines).strip())\n",
    "print(randword(lines).strip())\n",
    "print(randword(lines).strip())\n",
    "print(randword(lines).strip())\n",
    "print(randword(lines).strip())\n",
    "print(randword(lines).strip())\n",
    "print(randword(lines).strip())\n",
    "print(randword(lines).strip())\n",
    "print(randword(lines).strip())\n",
    "print(randword(lines).strip())\n",
    "print(randword(lines).strip())\n",
    "print(randword(lines).strip())\n",
    "print(randword(lines).strip())\n",
    "print(randword(lines).strip())\n",
    "print(randword(lines).strip())\n",
    "print(randword(lines).strip())\n",
    "print(randword(lines).strip())\n",
    "print(randword(lines).strip())"
   ]
  },
  {
   "cell_type": "code",
   "execution_count": null,
   "metadata": {},
   "outputs": [],
   "source": []
  }
 ],
 "metadata": {
  "kernelspec": {
   "display_name": "Python 3",
   "language": "python",
   "name": "python3"
  },
  "language_info": {
   "codemirror_mode": {
    "name": "ipython",
    "version": 3
   },
   "file_extension": ".py",
   "mimetype": "text/x-python",
   "name": "python",
   "nbconvert_exporter": "python",
   "pygments_lexer": "ipython3",
   "version": "3.6.5"
  }
 },
 "nbformat": 4,
 "nbformat_minor": 2
}
