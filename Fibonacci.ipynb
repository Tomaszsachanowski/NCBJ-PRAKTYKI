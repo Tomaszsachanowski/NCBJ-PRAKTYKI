{
 "cells": [
  {
   "cell_type": "code",
   "execution_count": 7,
   "metadata": {},
   "outputs": [
    {
     "name": "stdout",
     "output_type": "stream",
     "text": [
      "[1]\n",
      "[1, 1, 2, 3, 5, 8]\n",
      "[1, 1, 2, 3, 5, 8, 13, 21]\n",
      "None\n"
     ]
    }
   ],
   "source": [
    "def Fibonacci(x):\n",
    "    if x <= 0:\n",
    "        return None\n",
    "    fibo = []\n",
    "    if x == 1:\n",
    "        fibo.append(1)\n",
    "        return fibo\n",
    "    elif x == 2:\n",
    "        fibo.append(1)\n",
    "        fibo.append(1)\n",
    "        return fibo\n",
    "    else:\n",
    "        fibo = [1,1]\n",
    "        index = 1\n",
    "        while index < x-1:\n",
    "            fibo.append(fibo[index-1]+fibo[index])\n",
    "            index += 1\n",
    "        return fibo\n",
    "\n",
    "print(Fibonacci(1))\n",
    "print(Fibonacci(6))\n",
    "print(Fibonacci(8))\n",
    "print(Fibonacci(0))"
   ]
  },
  {
   "cell_type": "code",
   "execution_count": null,
   "metadata": {},
   "outputs": [],
   "source": []
  },
  {
   "cell_type": "code",
   "execution_count": null,
   "metadata": {},
   "outputs": [],
   "source": []
  }
 ],
 "metadata": {
  "kernelspec": {
   "display_name": "Python 3",
   "language": "python",
   "name": "python3"
  },
  "language_info": {
   "codemirror_mode": {
    "name": "ipython",
    "version": 3
   },
   "file_extension": ".py",
   "mimetype": "text/x-python",
   "name": "python",
   "nbconvert_exporter": "python",
   "pygments_lexer": "ipython3",
   "version": "3.6.5"
  }
 },
 "nbformat": 4,
 "nbformat_minor": 2
}
