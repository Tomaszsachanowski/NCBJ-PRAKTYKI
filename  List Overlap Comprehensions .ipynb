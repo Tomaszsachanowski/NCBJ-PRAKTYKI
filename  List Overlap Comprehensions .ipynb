{
 "cells": [
  {
   "cell_type": "code",
   "execution_count": 6,
   "metadata": {},
   "outputs": [
    {
     "name": "stdout",
     "output_type": "stream",
     "text": [
      "[7, 8, 9, 28, 32, 36, 42, 48, 54]\n",
      "[8, 28, 32, 36, 42, 48, 54]\n"
     ]
    }
   ],
   "source": [
    "import random\n",
    "x = [1,4,6]\n",
    "y = [7,8,9]\n",
    "allproduckt = [a*b for a in x for b in y]\n",
    "print(allproduckt)\n",
    "allproduckt = [a*b for a in x for b in y if a*b%2 == 0]\n",
    "print(allproduckt)\n"
   ]
  },
  {
   "cell_type": "code",
   "execution_count": 7,
   "metadata": {},
   "outputs": [
    {
     "data": {
      "text/plain": [
       "[66, 26, 82, 89, 75]"
      ]
     },
     "execution_count": 7,
     "metadata": {},
     "output_type": "execute_result"
    }
   ],
   "source": [
    "a = random.sample(range(100), 5) #zwraca mi 5 próbek z zbioru\n",
    "a"
   ]
  },
  {
   "cell_type": "code",
   "execution_count": 8,
   "metadata": {},
   "outputs": [],
   "source": [
    "x =[2,3,4,6,7,32]\n",
    "a = random.sample(x,3)"
   ]
  },
  {
   "cell_type": "code",
   "execution_count": 9,
   "metadata": {},
   "outputs": [
    {
     "data": {
      "text/plain": [
       "[6, 2, 7]"
      ]
     },
     "execution_count": 9,
     "metadata": {},
     "output_type": "execute_result"
    }
   ],
   "source": [
    "a\n"
   ]
  },
  {
   "cell_type": "code",
   "execution_count": 13,
   "metadata": {},
   "outputs": [
    {
     "name": "stdout",
     "output_type": "stream",
     "text": [
      "[81, 72, 73, 96, 94, 92, 87, 99, 79, 76, 77, 71, 90, 88, 89, 97, 74] [54, 68, 60, 74, 69, 63, 62, 77, 61, 85, 80, 65, 58, 57, 50, 55]\n"
     ]
    },
    {
     "data": {
      "text/plain": [
       "[74, 77]"
      ]
     },
     "execution_count": 13,
     "metadata": {},
     "output_type": "execute_result"
    }
   ],
   "source": [
    "a = random.sample(range(70,100),17)\n",
    "b = random.sample(range(50,90),16)\n",
    "print(a,b)\n",
    "a = [x  for x in set(a) if x in b]\n",
    "a"
   ]
  },
  {
   "cell_type": "code",
   "execution_count": null,
   "metadata": {},
   "outputs": [],
   "source": []
  }
 ],
 "metadata": {
  "kernelspec": {
   "display_name": "Python 3",
   "language": "python",
   "name": "python3"
  },
  "language_info": {
   "codemirror_mode": {
    "name": "ipython",
    "version": 3
   },
   "file_extension": ".py",
   "mimetype": "text/x-python",
   "name": "python",
   "nbconvert_exporter": "python",
   "pygments_lexer": "ipython3",
   "version": "3.6.5"
  }
 },
 "nbformat": 4,
 "nbformat_minor": 2
}
