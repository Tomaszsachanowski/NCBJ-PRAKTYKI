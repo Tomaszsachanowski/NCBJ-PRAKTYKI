{
 "cells": [
  {
   "cell_type": "markdown",
   "metadata": {},
   "source": [
    "# 64 -126 ASCII znaki widoczne"
   ]
  },
  {
   "cell_type": "code",
   "execution_count": 5,
   "metadata": {},
   "outputs": [],
   "source": [
    "from random import randint\n",
    "def Password():\n",
    "    x = []\n",
    "    for i in range(1,9):\n",
    "        ASCII = randint(33,126)\n",
    "        x.append(chr(ASCII))\n",
    "        \n",
    "    return x"
   ]
  },
  {
   "cell_type": "code",
   "execution_count": 7,
   "metadata": {},
   "outputs": [
    {
     "name": "stdout",
     "output_type": "stream",
     "text": [
      "['n', 'Q', '\"', '@', 'R', 'C', 'x', 'd']\n",
      "['[', 'u', ']', 'S', '9', 'S', 'g', '*']\n",
      "['p', 't', 'D', '~', 'H', ')', 'v', '2']\n",
      "['a', 'w', 'b', '`', '#', '\"', ',', 'a']\n",
      "['k', '7', 'k', \"'\", 'Y', 'y', '6', 'g']\n",
      "['i', '2', '>', 'n', 'e', 'P', 'S', 'G']\n",
      "['x', 'U', '|', '?', '*', 'S', '=', 'n']\n",
      "['N', '(', 'T', 'm', '^', 'P', 'h', ',']\n",
      "['K', '+', 'M', 'r', 'z', '7', 'y', '<']\n",
      "['}', 'j', 'F', '=', 'G', 'c', '&', 'G']\n"
     ]
    }
   ],
   "source": [
    "print(Password())\n",
    "print(Password())\n",
    "print(Password())\n",
    "print(Password())\n",
    "print(Password())\n",
    "print(Password())\n",
    "print(Password())\n",
    "print(Password())\n",
    "print(Password())\n",
    "print(Password())\n"
   ]
  },
  {
   "cell_type": "code",
   "execution_count": null,
   "metadata": {},
   "outputs": [],
   "source": []
  }
 ],
 "metadata": {
  "kernelspec": {
   "display_name": "Python 3",
   "language": "python",
   "name": "python3"
  },
  "language_info": {
   "codemirror_mode": {
    "name": "ipython",
    "version": 3
   },
   "file_extension": ".py",
   "mimetype": "text/x-python",
   "name": "python",
   "nbconvert_exporter": "python",
   "pygments_lexer": "ipython3",
   "version": "3.6.5"
  }
 },
 "nbformat": 4,
 "nbformat_minor": 2
}
