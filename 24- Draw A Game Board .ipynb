{
 "cells": [
  {
   "cell_type": "code",
   "execution_count": 12,
   "metadata": {},
   "outputs": [
    {
     "name": "stdout",
     "output_type": "stream",
     "text": [
      "Jak wiele kolumn 2\n",
      "Jak wiele wierszy 2\n",
      " ---  --- \n",
      "|    |    |    \n",
      " ---  --- \n",
      "|    |    |    \n",
      " ---  ---  \n"
     ]
    }
   ],
   "source": [
    "def Message():\n",
    "        while True:\n",
    "            try:\n",
    "                kolumn = int(input(\"Jak wiele kolumn \"))\n",
    "                break\n",
    "            except ValueError:\n",
    "                print(\"Podaj liczbe!!!! \")\n",
    "        while True:\n",
    "            try:\n",
    "                wiersze = int(input(\"Jak wiele wierszy \"))\n",
    "                break\n",
    "            except ValueError:\n",
    "                print(\"Podaj liczbe!!!! \")\n",
    "    \n",
    "        return (kolumn, wiersze)\n",
    "\n",
    "def Gemepanel(arg =(3,3) ):\n",
    "    for z in range(arg[1]):\n",
    "        for x in range(arg[0]):\n",
    "            print(\" --- \",end = '')\n",
    "        print()\n",
    "        for y in range(arg[0]+1):\n",
    "            print(\"{:<4}\".format('|'),end = ' ')\n",
    "        print()\n",
    "    for x in range(arg[0]):\n",
    "            print(\" --- \",end = '')\n",
    "    return ' '\n",
    "\n",
    " \n",
    "print(Gemepanel(Message()))          "
   ]
  },
  {
   "cell_type": "code",
   "execution_count": null,
   "metadata": {},
   "outputs": [],
   "source": []
  },
  {
   "cell_type": "code",
   "execution_count": null,
   "metadata": {},
   "outputs": [],
   "source": []
  }
 ],
 "metadata": {
  "kernelspec": {
   "display_name": "Python 3",
   "language": "python",
   "name": "python3"
  },
  "language_info": {
   "codemirror_mode": {
    "name": "ipython",
    "version": 3
   },
   "file_extension": ".py",
   "mimetype": "text/x-python",
   "name": "python",
   "nbconvert_exporter": "python",
   "pygments_lexer": "ipython3",
   "version": "3.6.5"
  }
 },
 "nbformat": 4,
 "nbformat_minor": 2
}
