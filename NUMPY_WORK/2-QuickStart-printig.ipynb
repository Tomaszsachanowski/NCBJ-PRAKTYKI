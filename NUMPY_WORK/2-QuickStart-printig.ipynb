{
 "cells": [
  {
   "cell_type": "code",
   "execution_count": 1,
   "metadata": {},
   "outputs": [
    {
     "name": "stdout",
     "output_type": "stream",
     "text": [
      "[0 1 2 3]\n"
     ]
    }
   ],
   "source": [
    "import numpy as np\n",
    "a = np.arange(4)\n",
    "print(a)"
   ]
  },
  {
   "cell_type": "code",
   "execution_count": 2,
   "metadata": {},
   "outputs": [
    {
     "name": "stdout",
     "output_type": "stream",
     "text": [
      "[[ 0  1  2]\n",
      " [ 3  4  5]\n",
      " [ 6  7  8]\n",
      " [ 9 10 11]]\n"
     ]
    }
   ],
   "source": [
    "b = np.arange(12).reshape(4,3)\n",
    "print(b)"
   ]
  },
  {
   "cell_type": "code",
   "execution_count": 4,
   "metadata": {},
   "outputs": [
    {
     "name": "stdout",
     "output_type": "stream",
     "text": [
      "[[[ 0  1  2  3]\n",
      "  [ 4  5  6  7]\n",
      "  [ 8  9 10 11]]\n",
      "\n",
      " [[12 13 14 15]\n",
      "  [16 17 18 19]\n",
      "  [20 21 22 23]]]\n"
     ]
    }
   ],
   "source": [
    "c = np.arange(24).reshape(2,3,4)\n",
    "print(c)"
   ]
  },
  {
   "cell_type": "code",
   "execution_count": 5,
   "metadata": {},
   "outputs": [
    {
     "name": "stdout",
     "output_type": "stream",
     "text": [
      "[20 29 38 47]\n"
     ]
    }
   ],
   "source": [
    "a = np.array([20,30,40,50])\n",
    "b = np.arange(4)\n",
    "c= a - b\n",
    "print(c)"
   ]
  },
  {
   "cell_type": "code",
   "execution_count": 6,
   "metadata": {},
   "outputs": [
    {
     "data": {
      "text/plain": [
       "array([0, 1, 4, 9])"
      ]
     },
     "execution_count": 6,
     "metadata": {},
     "output_type": "execute_result"
    }
   ],
   "source": [
    "b**2"
   ]
  },
  {
   "cell_type": "code",
   "execution_count": 7,
   "metadata": {},
   "outputs": [
    {
     "data": {
      "text/plain": [
       "array([ 9.12945251, -9.88031624,  7.4511316 , -2.62374854])"
      ]
     },
     "execution_count": 7,
     "metadata": {},
     "output_type": "execute_result"
    }
   ],
   "source": [
    "10*np.sin(a)"
   ]
  },
  {
   "cell_type": "code",
   "execution_count": 8,
   "metadata": {},
   "outputs": [
    {
     "data": {
      "text/plain": [
       "array([ True,  True, False, False], dtype=bool)"
      ]
     },
     "execution_count": 8,
     "metadata": {},
     "output_type": "execute_result"
    }
   ],
   "source": [
    "a<35"
   ]
  },
  {
   "cell_type": "code",
   "execution_count": 11,
   "metadata": {},
   "outputs": [
    {
     "name": "stdout",
     "output_type": "stream",
     "text": [
      "[ True False False False]\n"
     ]
    }
   ],
   "source": [
    "b = a<30\n",
    "print(b)"
   ]
  },
  {
   "cell_type": "code",
   "execution_count": 16,
   "metadata": {},
   "outputs": [
    {
     "name": "stdout",
     "output_type": "stream",
     "text": [
      "[[2 0]\n",
      " [0 4]] \n",
      "\n",
      "\n",
      "[[5 4]\n",
      " [3 4]]\n"
     ]
    }
   ],
   "source": [
    "A = np.array( [[1,1],[0,1]] )\n",
    "B = np.array( [[2,0],[3,4]] )\n",
    "print(A * B,\"\\n\\n\")\n",
    "print(A @ B)"
   ]
  },
  {
   "cell_type": "code",
   "execution_count": 18,
   "metadata": {},
   "outputs": [
    {
     "name": "stdout",
     "output_type": "stream",
     "text": [
      "[[3 3 3]\n",
      " [3 3 3]]\n",
      "[[ 3.02659328  3.09876642  3.57644578]\n",
      " [ 3.08230453  3.62329175  3.2725063 ]]\n"
     ]
    }
   ],
   "source": [
    "a = np.ones((2,3), dtype=int)\n",
    "b = np.random.random((2,3))\n",
    "a *= 3\n",
    "print( a)\n",
    "\n",
    "b += a\n",
    "print(b)\n",
    "#a += b\n"
   ]
  },
  {
   "cell_type": "code",
   "execution_count": 37,
   "metadata": {},
   "outputs": [
    {
     "name": "stdout",
     "output_type": "stream",
     "text": [
      "[[ 0.05242199  0.94636883  0.60501831]\n",
      " [ 0.94545317  0.5437734   0.70806865]]\n",
      "3.80110434984\n",
      "0.0524219884046\n",
      "0.946368834118 \n",
      "\n",
      "\n",
      "333\n",
      " [ 0.99787516  1.49014224  1.31308695]\n",
      "[ 1.60380913  2.19729522]\n",
      "\n",
      "\n",
      " [ 0.05242199  0.5437734   0.60501831]\n",
      "\n",
      "\n",
      " [ 0.05242199  0.5437734 ]\n"
     ]
    }
   ],
   "source": [
    "a = np.random.rand(2,3)\n",
    "print(a)\n",
    "print(a.sum())\n",
    "print(a.min())\n",
    "print(a.max(),\"\\n\\n\")\n",
    "print(\"333\\n\",a.sum(axis=0)) #suma kazdej kolumny\n",
    "print(a.sum(axis=1)) #suma kazdej wiersza\n",
    "print(\"\\n\\n\",a.min(axis=0)) #minmum w kazdej kolimniwe\n",
    "print(\"\\n\\n\",a.min(axis=1)) #minmum w kazdym wierszu"
   ]
  },
  {
   "cell_type": "code",
   "execution_count": 38,
   "metadata": {},
   "outputs": [
    {
     "name": "stdout",
     "output_type": "stream",
     "text": [
      "[[ 0  1  2  3]\n",
      " [ 4  5  6  7]\n",
      " [ 8  9 10 11]]\n"
     ]
    }
   ],
   "source": [
    "b = np.array([[ 0,  1,  2,  3],\n",
    "       [ 4,  5,  6,  7],\n",
    "       [ 8,  9, 10, 11]])\n",
    "print(b)"
   ]
  },
  {
   "cell_type": "code",
   "execution_count": 39,
   "metadata": {},
   "outputs": [
    {
     "name": "stdout",
     "output_type": "stream",
     "text": [
      "[[ 0  1  3  6]\n",
      " [ 4  9 15 22]\n",
      " [ 8 17 27 38]]\n"
     ]
    }
   ],
   "source": [
    "print(b.cumsum(axis=1)) #kumulacja elementow w wierszu 0 0+a1 a1+a2+a3 itd"
   ]
  },
  {
   "cell_type": "code",
   "execution_count": 42,
   "metadata": {},
   "outputs": [
    {
     "name": "stdout",
     "output_type": "stream",
     "text": [
      "[[  1.00000000e+00   2.71828183e+00   7.38905610e+00   2.00855369e+01]\n",
      " [  5.45981500e+01   1.48413159e+02   4.03428793e+02   1.09663316e+03]\n",
      " [  2.98095799e+03   8.10308393e+03   2.20264658e+04   5.98741417e+04]]\n"
     ]
    }
   ],
   "source": [
    "print(np.exp(b)) #e ^b[i][j]"
   ]
  },
  {
   "cell_type": "code",
   "execution_count": 46,
   "metadata": {},
   "outputs": [
    {
     "name": "stdout",
     "output_type": "stream",
     "text": [
      "[[4 5]\n",
      " [2 1]]\n"
     ]
    }
   ],
   "source": [
    "A = np.array([[1,2],[0,0]])\n",
    "B = np.array([[3,3],[2,1]])\n",
    "C = np.add(A,B)\n",
    "print(C)"
   ]
  },
  {
   "cell_type": "code",
   "execution_count": 50,
   "metadata": {},
   "outputs": [
    {
     "name": "stdout",
     "output_type": "stream",
     "text": [
      "[ True False False]\n"
     ]
    }
   ],
   "source": [
    "C = np.array([[True,True,False],[True,False,False]])\n",
    "print(np.all(C,axis=0)) # spradzam czy w kazdej kolumnie jest prawda \n",
    "#mozna tez na liczbach"
   ]
  },
  {
   "cell_type": "code",
   "execution_count": 53,
   "metadata": {},
   "outputs": [
    {
     "name": "stdout",
     "output_type": "stream",
     "text": [
      "[ True  True False]\n",
      "[ True  True]\n"
     ]
    }
   ],
   "source": [
    "print(np.any(C,axis=0)) #czy choć jedna prawda w kolumnie\n",
    "print(np.any(C,axis=1)) #czy choć jedna prawda w wierszu\n"
   ]
  },
  {
   "cell_type": "code",
   "execution_count": 58,
   "metadata": {},
   "outputs": [
    {
     "name": "stdout",
     "output_type": "stream",
     "text": [
      "[  8.5   3.   11. ]\n",
      "[ 8.   8.   6.5]\n",
      "[[[8 0 0]\n",
      "  [0 1 0]\n",
      "  [0 0 7]]\n",
      "\n",
      " [[4 0 0]\n",
      "  [0 3 0]\n",
      "  [0 0 9]]\n",
      "\n",
      " [[5 0 0]\n",
      "  [0 2 0]\n",
      "  [0 0 6]]]\n"
     ]
    }
   ],
   "source": [
    "def my_func(a):\n",
    "    return a.sum()/2 #funkcja zwracajaca siednia w tablicy\n",
    "b = np.array([[8,1,7], [4,3,9], [5,2,6]])\n",
    "print(np.apply_along_axis(my_func,0,b))# wykozysytje nasza funkcje do maciezy funkcja\n",
    "# funkcja robi cos na tablicach wedlug kolumn rob wierszy z zwraca wynik\n",
    "b = np.array([[8,1,7], [4,3,9], [5,2,6]])\n",
    "print(np.apply_along_axis(my_func,1,b))\n",
    "print(np.apply_along_axis(np.diag, -1, b))"
   ]
  },
  {
   "cell_type": "code",
   "execution_count": 62,
   "metadata": {},
   "outputs": [
    {
     "name": "stdout",
     "output_type": "stream",
     "text": [
      "[[0 1 2]\n",
      " [3 4 5]]\n",
      "5\n",
      "[1 1 1]\n"
     ]
    }
   ],
   "source": [
    "a = np.arange(6).reshape(2,3)\n",
    "print(a)\n",
    "print(np.argmax(a)) #zwraca maksymalny argument[index] do kad mozna iterowac\n",
    "print(np.argmax(a,axis=0)) #jaki maksyam;bny index w kolumnie\n",
    "#argmin( ) podonnie ale w druga strone"
   ]
  },
  {
   "cell_type": "code",
   "execution_count": 72,
   "metadata": {},
   "outputs": [
    {
     "name": "stdout",
     "output_type": "stream",
     "text": [
      "[[2 1 0]\n",
      " [0 1 2]]\n",
      "[[1 1 0]\n",
      " [0 0 1]]\n"
     ]
    }
   ],
   "source": [
    " x = np.array([[6, 5, 4],[1,2,9]])#-> x[2],x[1],x[0]\n",
    "print(np.argsort(x)) # zwraca indexz z jakieog miesjca przsysza cyfra\n",
    "print(np.argsort(x,axis=0))"
   ]
  },
  {
   "cell_type": "code",
   "execution_count": 77,
   "metadata": {},
   "outputs": [
    {
     "name": "stdout",
     "output_type": "stream",
     "text": [
      "[1, 2, 3, 4]\n",
      "2.5\n"
     ]
    }
   ],
   "source": [
    "data =list(range(1,5))\n",
    "print(data)\n",
    "print(np.average(data))#srednia wazona\n"
   ]
  },
  {
   "cell_type": "code",
   "execution_count": 83,
   "metadata": {},
   "outputs": [
    {
     "name": "stdout",
     "output_type": "stream",
     "text": [
      "[[0 1]\n",
      " [2 3]\n",
      " [4 5]]\n",
      "[ 0.75  2.75  4.75]\n"
     ]
    }
   ],
   "source": [
    "data = np.arange(6).reshape((3,2))\n",
    "print(data)\n",
    "print(np.average(data,axis=1,weights=[1/4,3/4])) #wiersze*wagi /wagi"
   ]
  },
  {
   "cell_type": "code",
   "execution_count": null,
   "metadata": {},
   "outputs": [],
   "source": []
  }
 ],
 "metadata": {
  "kernelspec": {
   "display_name": "Python 3",
   "language": "python",
   "name": "python3"
  },
  "language_info": {
   "codemirror_mode": {
    "name": "ipython",
    "version": 3
   },
   "file_extension": ".py",
   "mimetype": "text/x-python",
   "name": "python",
   "nbconvert_exporter": "python",
   "pygments_lexer": "ipython3",
   "version": "3.6.5"
  }
 },
 "nbformat": 4,
 "nbformat_minor": 2
}
