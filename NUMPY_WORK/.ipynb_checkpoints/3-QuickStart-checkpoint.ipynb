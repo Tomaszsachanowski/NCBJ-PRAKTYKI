{
 "cells": [
  {
   "cell_type": "code",
   "execution_count": 2,
   "metadata": {},
   "outputs": [
    {
     "name": "stdout",
     "output_type": "stream",
     "text": [
      "[  0   1  16  81 256 625]\n"
     ]
    }
   ],
   "source": [
    "import numpy as np\n",
    "a = np.arange(6)**4\n",
    "print(a)\n"
   ]
  },
  {
   "cell_type": "code",
   "execution_count": 3,
   "metadata": {},
   "outputs": [
    {
     "name": "stdout",
     "output_type": "stream",
     "text": [
      "[625 256  81  16   1   0]\n"
     ]
    }
   ],
   "source": [
    "print(a[ : :-1])"
   ]
  },
  {
   "cell_type": "code",
   "execution_count": 6,
   "metadata": {},
   "outputs": [
    {
     "name": "stdout",
     "output_type": "stream",
     "text": [
      "[[ 0.  1.  2.]\n",
      " [ 1.  2.  3.]]\n"
     ]
    }
   ],
   "source": [
    "# funkcja wywolujaca po indeksach\n",
    "\n",
    "b = np.fromfunction(lambda i, j: i + j,(2,3))\n",
    "print(b)"
   ]
  },
  {
   "cell_type": "code",
   "execution_count": 20,
   "metadata": {},
   "outputs": [
    {
     "name": "stdout",
     "output_type": "stream",
     "text": [
      "[[0 1 2 3]\n",
      " [1 2 3 4]\n",
      " [2 3 4 5]\n",
      " [3 4 5 6]\n",
      " [4 5 6 7]]\n",
      "[5 4 3 2 1]\n"
     ]
    }
   ],
   "source": [
    "b = np.fromfunction(lambda i ,j: i+j,(5,4),dtype=int)\n",
    "print(b)\n",
    "print(b[ : :-1 ,1]) # kolumna 2 od konca"
   ]
  },
  {
   "cell_type": "code",
   "execution_count": 21,
   "metadata": {},
   "outputs": [
    {
     "data": {
      "text/plain": [
       "5"
      ]
     },
     "execution_count": 21,
     "metadata": {},
     "output_type": "execute_result"
    }
   ],
   "source": [
    "b[2,3]"
   ]
  },
  {
   "cell_type": "code",
   "execution_count": 22,
   "metadata": {
    "scrolled": true
   },
   "outputs": [
    {
     "data": {
      "text/plain": [
       "array([[1, 2, 3, 4],\n",
       "       [2, 3, 4, 5]])"
      ]
     },
     "execution_count": 22,
     "metadata": {},
     "output_type": "execute_result"
    }
   ],
   "source": [
    "b[1 : 3, :]"
   ]
  },
  {
   "cell_type": "code",
   "execution_count": 23,
   "metadata": {},
   "outputs": [
    {
     "data": {
      "text/plain": [
       "array([4, 5, 6, 7])"
      ]
     },
     "execution_count": 23,
     "metadata": {},
     "output_type": "execute_result"
    }
   ],
   "source": [
    "b[-1]"
   ]
  },
  {
   "cell_type": "code",
   "execution_count": 24,
   "metadata": {},
   "outputs": [
    {
     "name": "stdout",
     "output_type": "stream",
     "text": [
      "0\n",
      "1\n",
      "2\n",
      "3\n",
      "1\n",
      "2\n",
      "3\n",
      "4\n",
      "2\n",
      "3\n",
      "4\n",
      "5\n",
      "3\n",
      "4\n",
      "5\n",
      "6\n",
      "4\n",
      "5\n",
      "6\n",
      "7\n"
     ]
    }
   ],
   "source": [
    "for element in b.flat:\n",
    "     print(element) #to wypisze po kolej jedno pod drugim"
   ]
  },
  {
   "cell_type": "code",
   "execution_count": 25,
   "metadata": {},
   "outputs": [
    {
     "name": "stdout",
     "output_type": "stream",
     "text": [
      "[0 1 2 3]\n",
      "[1 2 3 4]\n",
      "[2 3 4 5]\n",
      "[3 4 5 6]\n",
      "[4 5 6 7]\n"
     ]
    }
   ],
   "source": [
    "for element in b:\n",
    "     print(element)"
   ]
  },
  {
   "cell_type": "code",
   "execution_count": 26,
   "metadata": {},
   "outputs": [
    {
     "name": "stdout",
     "output_type": "stream",
     "text": [
      "[[ 0  1  2  3  4  5  6]\n",
      " [ 7  8  9 10 11 12 13]\n",
      " [14 15 16 17 18 19 20]\n",
      " [21 22 23 24 25 26 27]\n",
      " [28 29 30 31 32 33 34]]\n",
      "[[ 7 10 13]\n",
      " [21 24 27]]\n"
     ]
    }
   ],
   "source": [
    "y = np.arange(35).reshape(5,7)\n",
    "print(y)\n",
    "print(y[1:5:2,::3])"
   ]
  },
  {
   "cell_type": "code",
   "execution_count": 28,
   "metadata": {},
   "outputs": [
    {
     "name": "stdout",
     "output_type": "stream",
     "text": [
      "[ 1 16 31 10]\n"
     ]
    }
   ],
   "source": [
    "print(y[ np.array([0,2,4,1]) , np.array([1,2,3,3]) ] ) # to daje x[0][1] x[2][2]itd"
   ]
  },
  {
   "cell_type": "code",
   "execution_count": 35,
   "metadata": {},
   "outputs": [
    {
     "name": "stdout",
     "output_type": "stream",
     "text": [
      "<built-in method index of tuple object at 0x7f67cc08bf48>\n",
      "dff 1\n",
      "<built-in method index of tuple object at 0x7f67cc096f48>\n",
      "dff 2\n",
      "<built-in method index of tuple object at 0x7f67cc0cc588>\n",
      "dff 3\n",
      "<built-in method index of tuple object at 0x7f67cc093a48>\n",
      "dff 4\n"
     ]
    }
   ],
   "source": [
    "#ndeumerate zwraca numery indexów\n",
    "a = np.array([[1, 2],[3, 4]])\n",
    "for index,x in np.ndenumerate(a):\n",
    "    print(index)\n",
    "    print(\"dff\",x)"
   ]
  },
  {
   "cell_type": "code",
   "execution_count": 37,
   "metadata": {},
   "outputs": [
    {
     "name": "stdout",
     "output_type": "stream",
     "text": [
      "[[ 0.  3.  2.  2.]\n",
      " [ 3.  4.  3.  4.]\n",
      " [ 0.  4.  1.  1.]]\n",
      "(3, 4)\n"
     ]
    }
   ],
   "source": [
    "a = np.floor(5*np.random.random((3,4)))\n",
    "print(a)\n",
    "print(a.shape)"
   ]
  },
  {
   "cell_type": "code",
   "execution_count": 43,
   "metadata": {},
   "outputs": [
    {
     "name": "stdout",
     "output_type": "stream",
     "text": [
      "[ 0.  3.  2.  2.  3.  4.  3.  4.  0.  4.  1.  1.]\n",
      "[[ 0.  3.  2.  2.  3.  4.]\n",
      " [ 3.  4.  0.  4.  1.  1.]]\n",
      "[[ 0.  3.  2.]\n",
      " [ 2.  3.  4.]\n",
      " [ 3.  4.  0.]\n",
      " [ 4.  1.  1.]]\n"
     ]
    }
   ],
   "source": [
    "#splaszca do jednego wymiaru revel\n",
    "a = a.ravel()\n",
    "print(a)\n",
    "a = a.reshape(2,6) #ustawia nam wymiar tabeli ale tak by elementy sie zgadzaly \n",
    "print(a)\n",
    "print(a.reshape(4,3)) # reshape(4,-1) wtredy drugi wymiar sam wylicza"
   ]
  },
  {
   "cell_type": "code",
   "execution_count": 50,
   "metadata": {},
   "outputs": [
    {
     "name": "stdout",
     "output_type": "stream",
     "text": [
      "[[1 2]\n",
      " [4 5]]\n",
      "[[3 7]\n",
      " [9 0]]\n",
      "\n",
      "[[1 2]\n",
      " [4 5]\n",
      " [3 7]\n",
      " [9 0]]\n",
      "\n",
      "[[1 2 3 7]\n",
      " [4 5 9 0]]\n"
     ]
    }
   ],
   "source": [
    "a = np.array([[1,2],[4,5]])\n",
    "print(a)\n",
    "b = np.array([[3,7],[9,0]])\n",
    "print(b)\n",
    "print()\n",
    "#skejaj mi dwi tablice albo jenda pod drug albo jedna obok drugiej\n",
    "print(np.vstack((a,b)))\n",
    "print()\n",
    "print(np.hstack((a,b)))"
   ]
  },
  {
   "cell_type": "code",
   "execution_count": 52,
   "metadata": {},
   "outputs": [
    {
     "name": "stdout",
     "output_type": "stream",
     "text": [
      "[1 2 3 4 5 9 8]\n"
     ]
    }
   ],
   "source": [
    "#inne tworzenei tablicy jecngo zasiegu\n",
    "print(np.r_[1:6,9,8])"
   ]
  },
  {
   "cell_type": "code",
   "execution_count": 61,
   "metadata": {},
   "outputs": [
    {
     "name": "stdout",
     "output_type": "stream",
     "text": [
      "[array([[ 0.38242397,  0.27075635],\n",
      "       [ 0.44458985,  0.9422809 ],\n",
      "       [ 0.75027266,  0.681678  ],\n",
      "       [ 0.11093595,  0.99611698],\n",
      "       [ 0.30488231,  0.52985581]]), array([[ 0.20338833,  0.13428402],\n",
      "       [ 0.27299328,  0.6637692 ],\n",
      "       [ 0.95299166,  0.77255537],\n",
      "       [ 0.95534097,  0.64742635],\n",
      "       [ 0.95006071,  0.91225438]]), array([[ 0.85462003,  0.50295943],\n",
      "       [ 0.04069772,  0.58923648],\n",
      "       [ 0.2145043 ,  0.5820572 ],\n",
      "       [ 0.94139466,  0.63746496],\n",
      "       [ 0.06436163,  0.27352454]])]\n"
     ]
    }
   ],
   "source": [
    "#hsplit dzieli nam macierz\n",
    "a = np.random.random((5,6))\n",
    "print(np.hsplit(a,(3))) #biore do 3 tabele"
   ]
  },
  {
   "cell_type": "code",
   "execution_count": 62,
   "metadata": {},
   "outputs": [
    {
     "name": "stdout",
     "output_type": "stream",
     "text": [
      "[[ 1.  0.  0.  0.]\n",
      " [ 0.  1.  0.  0.]\n",
      " [ 0.  0.  1.  0.]\n",
      " [ 0.  0.  0.  1.]]\n",
      "\n",
      "[[ 1.  0.  0.  0.]\n",
      " [ 0.  1.  0.  0.]\n",
      " [ 0.  0.  1.  0.]\n",
      " [ 0.  0.  0.  1.]]\n"
     ]
    }
   ],
   "source": [
    "print(np.identity(4))\n",
    "print()\n",
    "print(np.eye(4)) #to zwraca maciez diagonalan "
   ]
  },
  {
   "cell_type": "code",
   "execution_count": null,
   "metadata": {},
   "outputs": [],
   "source": []
  }
 ],
 "metadata": {
  "kernelspec": {
   "display_name": "Python 3",
   "language": "python",
   "name": "python3"
  },
  "language_info": {
   "codemirror_mode": {
    "name": "ipython",
    "version": 3
   },
   "file_extension": ".py",
   "mimetype": "text/x-python",
   "name": "python",
   "nbconvert_exporter": "python",
   "pygments_lexer": "ipython3",
   "version": "3.6.5"
  }
 },
 "nbformat": 4,
 "nbformat_minor": 2
}
