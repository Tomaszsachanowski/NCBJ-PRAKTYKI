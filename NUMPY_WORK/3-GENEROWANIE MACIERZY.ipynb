{
 "cells": [
  {
   "cell_type": "code",
   "execution_count": 4,
   "metadata": {},
   "outputs": [
    {
     "name": "stdout",
     "output_type": "stream",
     "text": [
      "podaj wysokosc macierzy\n",
      "Podaj dodatnia liczbe!!! -2\n",
      "Dodatnia!!! \n",
      "Podaj dodatnia liczbe!!! ds\n",
      "Liczba dodatnia!!!!\n",
      "Podaj dodatnia liczbe!!! 0\n",
      "Dodatnia!!! \n",
      "Podaj dodatnia liczbe!!! 1\n",
      "podaj szerokosc macierzy\n",
      "Podaj dodatnia liczbe!!! 1\n",
      "podaj maximum macierzy\n",
      "Podaj dodatnia liczbe!!! 10\n",
      "[[ 9.89844334]]\n"
     ]
    }
   ],
   "source": [
    "import numpy\n",
    "def dodatnia_warosc():\n",
    "    while True:\n",
    "        try:\n",
    "            liczba = int(input(\"Podaj dodatnia liczbe!!! \"))\n",
    "            if liczba > 0:\n",
    "                break\n",
    "            else:\n",
    "                print(\"Dodatnia!!! \")\n",
    "        except:\n",
    "            print(\"Liczba dodatnia!!!!\")\n",
    "    return liczba\n",
    "\n",
    "def Dane():\n",
    "        print(\"podaj wysokosc macierzy\")\n",
    "        wysokosc = dodatnia_warosc()\n",
    "        print(\"podaj szerokosc macierzy\")\n",
    "        szeroksc = dodatnia_warosc()\n",
    "        print(\"podaj maximum macierzy\")\n",
    "        maximum = dodatnia_warosc()\n",
    "        return {\"kolumny\":szeroksc,\"wiersze\":wysokosc,\"maximum\":maximum}\n",
    "def MACIERZ_GENERATOR(dictionary):\n",
    "    Macierz = numpy.random.rand(dictionary[\"wiersze\"],dictionary[\"kolumny\"])\n",
    "    Macierz = numpy.dot(Macierz,dictionary[\"maximum\"])\n",
    "    print(Macierz)\n",
    "    \n",
    "MACIERZ_GENERATOR(Dane())"
   ]
  },
  {
   "cell_type": "code",
   "execution_count": null,
   "metadata": {},
   "outputs": [],
   "source": []
  }
 ],
 "metadata": {
  "kernelspec": {
   "display_name": "Python 3",
   "language": "python",
   "name": "python3"
  },
  "language_info": {
   "codemirror_mode": {
    "name": "ipython",
    "version": 3
   },
   "file_extension": ".py",
   "mimetype": "text/x-python",
   "name": "python",
   "nbconvert_exporter": "python",
   "pygments_lexer": "ipython3",
   "version": "3.6.5"
  }
 },
 "nbformat": 4,
 "nbformat_minor": 2
}
