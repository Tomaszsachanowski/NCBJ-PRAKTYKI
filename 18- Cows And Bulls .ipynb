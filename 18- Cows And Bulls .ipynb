{
 "cells": [
  {
   "cell_type": "code",
   "execution_count": 9,
   "metadata": {},
   "outputs": [
    {
     "name": "stdout",
     "output_type": "stream",
     "text": [
      "Give me a number: 33\n",
      "1089\n"
     ]
    }
   ],
   "source": [
    "  def square(num):\n",
    "    return num * num\n",
    "\n",
    "  if __name__==\"__main__\":\n",
    "    user_num = int(input(\"Give me a number: \"))\n",
    "    print(square(user_num))"
   ]
  },
  {
   "cell_type": "code",
   "execution_count": 10,
   "metadata": {},
   "outputs": [
    {
     "name": "stdout",
     "output_type": "stream",
     "text": [
      "Give me a number: 32\n",
      "1024\n"
     ]
    }
   ],
   "source": [
    "  def square(num):\n",
    "    return num * num\n",
    "\n",
    "user_num = int(input(\"Give me a number: \"))\n",
    "print(square(user_num))"
   ]
  },
  {
   "cell_type": "code",
   "execution_count": 8,
   "metadata": {},
   "outputs": [
    {
     "name": "stdout",
     "output_type": "stream",
     "text": [
      "PODAj 4 cyfrowa liczbe 1234\n",
      "1234 8134\n",
      "Cows = 2 Bulls = 3\n",
      "PODAj 4 cyfrowa liczbe 8111\n",
      "8111 8134\n",
      "Cows = 2 Bulls = 2\n",
      "PODAj 4 cyfrowa liczbe 8134\n",
      "8134 8134\n",
      "Cows = 4 Bulls = 4\n"
     ]
    }
   ],
   "source": [
    "#cow and Bolls\n",
    "from random import randint\n",
    "def Game(rand, liczba):\n",
    "    a = list(str(rand))\n",
    "    b = list(str(liczba))\n",
    "    bulls = 0\n",
    "    cows = 0\n",
    "    for x in a:\n",
    "        if x in b:\n",
    "            bulls += 1\n",
    "    index = 0\n",
    "    while index < len(a):\n",
    "        if a[index] == b[index]:\n",
    "            cows += 1\n",
    "        index +=1\n",
    "    print(\"Cows = {0} Bulls = {1}\".format(cows,bulls))\n",
    "    if cows == len(a):\n",
    "        return False\n",
    "    else:\n",
    "        return True\n",
    "    \n",
    "def NUMBERS():\n",
    "    while True:\n",
    "        try:\n",
    "            licz = int(input(\"PODAj 4 cyfrowa liczbe \"))\n",
    "            if (licz>999 and licz <= 9999):\n",
    "                break\n",
    "            else:\n",
    "                print(\"Oops!  That was no valid number.  Try again...\")\n",
    "\n",
    "        except ValueError:\n",
    "             print(\"Oops!  That was no valid number.  Try again...\")\n",
    "    return licz\n",
    "\n",
    "\n",
    "\n",
    "\n",
    "if __name__==\"__main__\": \n",
    "    rand =  randint(1000,10000)\n",
    "    boll = True\n",
    "    while boll:\n",
    "        liczba = NUMBERS()\n",
    "        print(liczba,rand)\n",
    "        boll = Game(rand,liczba)"
   ]
  },
  {
   "cell_type": "code",
   "execution_count": null,
   "metadata": {},
   "outputs": [],
   "source": []
  },
  {
   "cell_type": "code",
   "execution_count": null,
   "metadata": {},
   "outputs": [],
   "source": []
  },
  {
   "cell_type": "code",
   "execution_count": null,
   "metadata": {},
   "outputs": [],
   "source": []
  },
  {
   "cell_type": "code",
   "execution_count": null,
   "metadata": {},
   "outputs": [],
   "source": []
  }
 ],
 "metadata": {
  "kernelspec": {
   "display_name": "Python 3",
   "language": "python",
   "name": "python3"
  },
  "language_info": {
   "codemirror_mode": {
    "name": "ipython",
    "version": 3
   },
   "file_extension": ".py",
   "mimetype": "text/x-python",
   "name": "python",
   "nbconvert_exporter": "python",
   "pygments_lexer": "ipython3",
   "version": "3.6.5"
  }
 },
 "nbformat": 4,
 "nbformat_minor": 2
}
